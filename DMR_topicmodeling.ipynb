{
 "cells": [
  {
   "cell_type": "code",
   "execution_count": 1,
   "metadata": {},
   "outputs": [],
   "source": [
    "import pandas as pd"
   ]
  },
  {
   "cell_type": "markdown",
   "metadata": {},
   "source": [
    "### 전처리"
   ]
  },
  {
   "cell_type": "code",
   "execution_count": 14,
   "metadata": {},
   "outputs": [
    {
     "name": "stderr",
     "output_type": "stream",
     "text": [
      "[nltk_data] Downloading package stopwords to\n",
      "[nltk_data]     /Users/brightcircle/nltk_data...\n",
      "[nltk_data]   Package stopwords is already up-to-date!\n"
     ]
    }
   ],
   "source": [
    "import spacy\n",
    "from nltk.corpus import stopwords\n",
    "import nltk\n",
    "nltk.download('stopwords')\n",
    "\n",
    "from tqdm.notebook import tqdm\n",
    "tqdm.pandas()\n",
    "\n",
    "from collections import Counter\n",
    "import regex\n",
    "import re\n",
    "\n",
    "from nltk.tokenize import TreebankWordTokenizer\n",
    "\n",
    "from flashtext import KeywordProcessor\n",
    "kp = KeywordProcessor()"
   ]
  },
  {
   "cell_type": "code",
   "execution_count": 45,
   "metadata": {},
   "outputs": [],
   "source": [
    "import spacy\n",
    "\n",
    "nlp = spacy.load(\"en_core_web_sm\")\n"
   ]
  },
  {
   "cell_type": "code",
   "execution_count": 46,
   "metadata": {},
   "outputs": [
    {
     "name": "stdout",
     "output_type": "stream",
     "text": [
      "326\n",
      "<class 'set'>\n"
     ]
    }
   ],
   "source": [
    "spacy_stopwords = nlp.Defaults.stop_words\n",
    "print(len(spacy_stopwords))\n",
    "print(type(spacy_stopwords))\n"
   ]
  },
  {
   "cell_type": "code",
   "execution_count": 48,
   "metadata": {},
   "outputs": [],
   "source": [
    "class Preprocessing :\n",
    "    \"\"\"\n",
    "    sumary\n",
    "    \"\"\"\n",
    "    \n",
    "    def __init__(self, df ) :\n",
    "        self.df = df\n",
    "        self.nlp = spacy.load(\"en_core_web_sm\")\n",
    "        self.spacy_stopwords = nlp.Defaults.stop_words\n",
    "        self.stopwords_list = list(spacy_stopwords) #불용어 리스트\n",
    "        self.synonym_dict = {\"n't\" : ['not']} # 동의어 딕셔너리\n",
    "    \n",
    "    def only_eng(self, df) :\n",
    "        list_par = []\n",
    "        for i in df.index :\n",
    "            for idx in df['token'][i] :\n",
    "\n",
    "                text = re.sub('[^a-zA-Z0-9]', '', idx).strip() #숫자와 영어만\n",
    "                text = text.lower()\n",
    "                if(text!=''):\n",
    "                    list_par.append(text)\n",
    "\n",
    "\n",
    "    \"\"\" def lemmatizer(text):\n",
    "        spacy.prefer_gpu()\n",
    "        nlp = spacy.load(\"en_core_web_sm\")        \n",
    "        sent = []\n",
    "        doc = nlp(text)\n",
    "        for word in doc:\n",
    "            sent.append(word.lemma_)\n",
    "        return \" \".join(sent) \"\"\"\n",
    "\n",
    "    def lemmatize(self, words=[]) :\n",
    "        spacy.prefer_gpu()\n",
    "        nlp = spacy.load(\"en_core_web_sm\")\n",
    "        self.df['token'] =0 \n",
    "        self.df['token'] = self.df[\"review\"].progress_apply(lambda row: [w.lemma_ for w in nlp(row)])\n",
    "\n",
    "        self.stopwords_list.extend(words)\n",
    "        self.df['token'] = self.df['token'].progress_map(lambda x:[w for w in x if not w in self.stopwords_list])\n",
    "\n",
    "        for idx in tqdm(self.df.index) :\n",
    "            \n",
    "            #self.df['token'][idx] = lemmatizer(self.df['review'][idx])\n",
    "            list_par = []\n",
    "            for i in self.df['token'][idx] :\n",
    "                text = re.sub('[^a-zA-Z0-9]', '', i).strip()\n",
    "                text = text.lower()\n",
    "                if(text!='' and len(text)>1): #2 글자 이상의 단어만 포함\n",
    "                    list_par.append(text) \n",
    "\n",
    "\n",
    "            self.df['token'][idx] = list_par\n",
    "    \n",
    "        print(self.df['token'])\n",
    "\n",
    "        \n",
    "        \n",
    "    def tokenize(self) :\n",
    "        tokenizer = TreebankWordTokenizer()\n",
    "        self.df['token'] =0 \n",
    "        \n",
    "        for idx in tqdm(self.df.index) :\n",
    "            self.df['token'][idx] = tokenizer.tokenize(self.df['text'][idx])\n",
    "            \n",
    "            list_par = []\n",
    "            for i in self.df['token'][idx] :\n",
    "                text = re.sub('[^a-zA-Z]', '', i).strip()\n",
    "                text = text.lower()\n",
    "                if(text!='' and len(text)>1): #2 글자 이상의 단어만 포함\n",
    "                    list_par.append(text)\n",
    "\n",
    "\n",
    "            self.df['token'][idx] = list_par\n",
    "    \n",
    "        print(self.df['token'])\n",
    "\n",
    "    \n",
    "    def elim_stopwords(self, words=[]):\n",
    "        self.stopwords_list.extend(words)\n",
    "        self.df['token'] = self.df['token'].map(lambda x:[w for w in x if not w in self.stopwords_list]) \n",
    "        \n",
    "    def synonym(self) :\n",
    "        kp.add_keywords_from_dict(self.synonym_dict)\n",
    "        df['token'] = [[kp.replace_keywords(x) for x in w] for w in tqdm(df['token'])]"
   ]
  },
  {
   "cell_type": "markdown",
   "metadata": {},
   "source": [
    "### DMR"
   ]
  },
  {
   "cell_type": "code",
   "execution_count": 11,
   "metadata": {},
   "outputs": [
    {
     "name": "stdout",
     "output_type": "stream",
     "text": [
      "sse2\n"
     ]
    }
   ],
   "source": [
    "\n",
    "import tomotopy as tp\n",
    "print(tp.isa)\n",
    "import sys\n",
    "import numpy as np\n",
    "import logging"
   ]
  },
  {
   "cell_type": "code",
   "execution_count": 10,
   "metadata": {},
   "outputs": [],
   "source": [
    "import matplotlib.pyplot as plt\n",
    "plt.rc('font', family='NanumBarunGothic')\n",
    "font_path = '/usr/share/fonts/truetype/nanum/NanumBarunGothic.ttf'\n",
    "import matplotlib.colors as clr\n",
    "from matplotlib.colors import ListedColormap\n",
    "import seaborn as sns\n",
    "\n",
    "from sklearn.feature_extraction.text import CountVectorizer\n",
    "from sklearn.feature_extraction.text import TfidfVectorizer\n"
   ]
  },
  {
   "cell_type": "code",
   "execution_count": 177,
   "metadata": {},
   "outputs": [],
   "source": [
    "import seaborn as sns\n",
    "\n",
    "\n",
    "def dmr_plot2(mdl):\n",
    "    meta_dict = mdl.metadata_dict # 메타 데이터 종류 1개\n",
    "    meta_k_arr = np.zeros((len(meta_dict), mdl.k))\n",
    "\n",
    "    for i in range(len(meta_dict)):\n",
    "        meta_k_arr[i, :] = np.exp(mdl.lambdas)[:, i] / np.exp(mdl.lambdas)[:, i].sum()\n",
    "\n",
    "    viz_df = pd.DataFrame(meta_k_arr, columns=['Topic #{}'.format(k) for k in range(mdl.k)], index=meta_dict)\n",
    "    fig1 = plt.figure(figsize=(15, 8))\n",
    "    ax = plt.gca()\n",
    "    assert plt.gcf() is fig1  # succeeds\n",
    "    viz_df.sort_index(ascending=False).plot(kind='barh', stacked=True,\n",
    "                                            colormap=ListedColormap(sns.color_palette(\"Set3\", 54)),\n",
    "                                            ax=ax)  # draws to fig1 now\n",
    "\n",
    "    #sns.barplot(x='group', y='Values', data=df, estimator=lambda x: sum(x==0)*100.0/len(x))\n",
    "\n",
    "    ax.legend(loc='center left', bbox_to_anchor=(1, 0.5))"
   ]
  },
  {
   "cell_type": "code",
   "execution_count": null,
   "metadata": {},
   "outputs": [],
   "source": []
  },
  {
   "cell_type": "code",
   "execution_count": 69,
   "metadata": {},
   "outputs": [],
   "source": [
    "def DMR(df) :\n",
    "    global token_rate_dict\n",
    "    DMR_rate = tp.DMRModel(k=10,min_df=100,tw=tp.TermWeight.IDF, alpha = 0.01, seed=2021, rm_top=10)\n",
    "    token_rate_dict = df[['token','colony label']].to_dict('index')\n",
    "\n",
    "    for k in tqdm(token_rate_dict.keys()):\n",
    "        DMR_rate.add_doc(token_rate_dict[k]['token'], str(token_rate_dict[k]['colony label']))\n",
    "\n",
    "    DMR_rate.train(0)\n",
    "\n",
    "    print('Num docs:', len(DMR_rate.docs), ', Vocab size:', DMR_rate.num_vocabs, ', Num words:', DMR_rate.num_words)\n",
    "    print('Removed top words:', DMR_rate.removed_top_words)\n",
    "    print('Training...', file=sys.stderr, flush=True)\n",
    "    for i in range(0, 500, 20):\n",
    "        DMR_rate.train(20)\n",
    "        print('Iteration: {}\\tLog-likelihood: {}'.format(i, DMR_rate.ll_per_word))\n",
    "\n",
    "\n",
    "    print('--------------------------------------------------------------------------')\n",
    "\n",
    "\n",
    "    DMR_rate.summary()\n",
    "    \n",
    "    print('--------------------------------------------------------------------------')\n",
    "\n",
    "    for i in range(DMR_rate.k):\n",
    "        res = DMR_rate.get_topic_words(i, top_n=20)\n",
    "        print('Topic #{}'.format(i), end='\\t')\n",
    "        print(', '.join(w for w, p in res))\n",
    "    \n",
    "\n",
    "    dmr_plot2(DMR_rate)\n",
    "\n",
    "    return DMR_rate"
   ]
  },
  {
   "cell_type": "markdown",
   "metadata": {},
   "source": [
    "### LEXIS"
   ]
  },
  {
   "cell_type": "code",
   "execution_count": 88,
   "metadata": {},
   "outputs": [
    {
     "data": {
      "text/html": [
       "<div>\n",
       "<style scoped>\n",
       "    .dataframe tbody tr th:only-of-type {\n",
       "        vertical-align: middle;\n",
       "    }\n",
       "\n",
       "    .dataframe tbody tr th {\n",
       "        vertical-align: top;\n",
       "    }\n",
       "\n",
       "    .dataframe thead th {\n",
       "        text-align: right;\n",
       "    }\n",
       "</style>\n",
       "<table border=\"1\" class=\"dataframe\">\n",
       "  <thead>\n",
       "    <tr style=\"text-align: right;\">\n",
       "      <th></th>\n",
       "      <th>ID</th>\n",
       "      <th>Source_File</th>\n",
       "      <th>Newspaper</th>\n",
       "      <th>Date</th>\n",
       "      <th>Length</th>\n",
       "      <th>Section</th>\n",
       "      <th>Author</th>\n",
       "      <th>Edition</th>\n",
       "      <th>Headline</th>\n",
       "      <th>Graphic</th>\n",
       "      <th>Article</th>\n",
       "    </tr>\n",
       "  </thead>\n",
       "  <tbody>\n",
       "    <tr>\n",
       "      <th>0</th>\n",
       "      <td>1</td>\n",
       "      <td>C:/Users/Haein/Desktop/Museum/20140601~2016090...</td>\n",
       "      <td>Los Angeles Times</td>\n",
       "      <td>2015-06-26</td>\n",
       "      <td>642 words</td>\n",
       "      <td>CALIFORNIA; Metro Desk; Part B; Pg. 3</td>\n",
       "      <td>Stephen Ceasar</td>\n",
       "      <td>NaN</td>\n",
       "      <td>LOS ANGELES; Legal battle over massive emerald...</td>\n",
       "      <td>False</td>\n",
       "      <td>The more than six-year legal battle over the B...</td>\n",
       "    </tr>\n",
       "    <tr>\n",
       "      <th>1</th>\n",
       "      <td>2</td>\n",
       "      <td>C:/Users/Haein/Desktop/Museum/20140601~2016090...</td>\n",
       "      <td>The Guardian</td>\n",
       "      <td>2015-06-26</td>\n",
       "      <td>1934 words</td>\n",
       "      <td>TECHNOLOGY</td>\n",
       "      <td>Keith Stuart</td>\n",
       "      <td>NaN</td>\n",
       "      <td>Hearthstone: how a game developer turned 30m p...</td>\n",
       "      <td>False</td>\n",
       "      <td>On the set of ITV's costume drama Mr Selfridge...</td>\n",
       "    </tr>\n",
       "    <tr>\n",
       "      <th>2</th>\n",
       "      <td>3</td>\n",
       "      <td>C:/Users/Haein/Desktop/Museum/20140601~2016090...</td>\n",
       "      <td>The Guardian</td>\n",
       "      <td>2015-06-26</td>\n",
       "      <td>628 words</td>\n",
       "      <td>TELEVISION &amp; RADIO</td>\n",
       "      <td>Maraithe Thomas in New York</td>\n",
       "      <td>NaN</td>\n",
       "      <td>My afternoon at the Seinfeld apartment; A new ...</td>\n",
       "      <td>False</td>\n",
       "      <td>Related: Seinfeld on Hulu: which episodes sho...</td>\n",
       "    </tr>\n",
       "    <tr>\n",
       "      <th>3</th>\n",
       "      <td>4</td>\n",
       "      <td>C:/Users/Haein/Desktop/Museum/20140601~2016090...</td>\n",
       "      <td>Jerusalem Post</td>\n",
       "      <td>2015-06-26</td>\n",
       "      <td>1152 words</td>\n",
       "      <td>FEATURES; Pg. 26</td>\n",
       "      <td>MEITAL SHARABI</td>\n",
       "      <td>NaN</td>\n",
       "      <td>Tiberias: Israel's diamond in the rough</td>\n",
       "      <td>False</td>\n",
       "      <td>The Kinneret is one of the most beautiful spot...</td>\n",
       "    </tr>\n",
       "    <tr>\n",
       "      <th>4</th>\n",
       "      <td>5</td>\n",
       "      <td>C:/Users/Haein/Desktop/Museum/20140601~2016090...</td>\n",
       "      <td>Los Angeles Times</td>\n",
       "      <td>2015-06-26</td>\n",
       "      <td>1128 words</td>\n",
       "      <td>MAIN NEWS; Letters Desk; Part A; Pg. 18</td>\n",
       "      <td>NaN</td>\n",
       "      <td>NaN</td>\n",
       "      <td>LETTERS</td>\n",
       "      <td>False</td>\n",
       "      <td>He's served L.A. well Re \"Patt Morrison Asks: ...</td>\n",
       "    </tr>\n",
       "    <tr>\n",
       "      <th>...</th>\n",
       "      <td>...</td>\n",
       "      <td>...</td>\n",
       "      <td>...</td>\n",
       "      <td>...</td>\n",
       "      <td>...</td>\n",
       "      <td>...</td>\n",
       "      <td>...</td>\n",
       "      <td>...</td>\n",
       "      <td>...</td>\n",
       "      <td>...</td>\n",
       "      <td>...</td>\n",
       "    </tr>\n",
       "    <tr>\n",
       "      <th>24769</th>\n",
       "      <td>173</td>\n",
       "      <td>C:/Users/Haein/Desktop/Museum/20220613~2022070...</td>\n",
       "      <td>Newsday (New York)</td>\n",
       "      <td>2022-06-17</td>\n",
       "      <td>503 words</td>\n",
       "      <td>NEWS; Pg. 34</td>\n",
       "      <td>The Washington Post</td>\n",
       "      <td>NaN</td>\n",
       "      <td>NATION; Harry Gesner, 97, California architect...</td>\n",
       "      <td>False</td>\n",
       "      <td>The Washington Post To design a great house, C...</td>\n",
       "    </tr>\n",
       "    <tr>\n",
       "      <th>24770</th>\n",
       "      <td>174</td>\n",
       "      <td>C:/Users/Haein/Desktop/Museum/20220613~2022070...</td>\n",
       "      <td>The Philadelphia Inquirer</td>\n",
       "      <td>2022-06-17</td>\n",
       "      <td>1371 words</td>\n",
       "      <td>THE REGION; Pg. B1</td>\n",
       "      <td>Valerie Russ STAFF WRITER</td>\n",
       "      <td>NaN</td>\n",
       "      <td>Norristown exhibit honors historian Charles Bl...</td>\n",
       "      <td>False</td>\n",
       "      <td>ABSTRACT His life's work was fueled by a fourt...</td>\n",
       "    </tr>\n",
       "    <tr>\n",
       "      <th>24771</th>\n",
       "      <td>175</td>\n",
       "      <td>C:/Users/Haein/Desktop/Museum/20220613~2022070...</td>\n",
       "      <td>mirror.co.uk</td>\n",
       "      <td>2022-06-17</td>\n",
       "      <td>1180 words</td>\n",
       "      <td>TRAVEL; Version:1</td>\n",
       "      <td>By, Nigel Thompson</td>\n",
       "      <td>NaN</td>\n",
       "      <td>Take a shine to golden wonders from around the...</td>\n",
       "      <td>False</td>\n",
       "      <td>All that glisters is not gold -   Often have ...</td>\n",
       "    </tr>\n",
       "    <tr>\n",
       "      <th>24772</th>\n",
       "      <td>176</td>\n",
       "      <td>C:/Users/Haein/Desktop/Museum/20220613~2022070...</td>\n",
       "      <td>The Philadelphia Inquirer</td>\n",
       "      <td>2022-06-17</td>\n",
       "      <td>1710 words</td>\n",
       "      <td>SPORTS; Pg. D1</td>\n",
       "      <td>Mike Jensen STAFF WRITER</td>\n",
       "      <td>NaN</td>\n",
       "      <td>She helped change the game; Former Owls badmin...</td>\n",
       "      <td>False</td>\n",
       "      <td>ABSTRACT Former Owls badminton player was lead...</td>\n",
       "    </tr>\n",
       "    <tr>\n",
       "      <th>24773</th>\n",
       "      <td>177</td>\n",
       "      <td>C:/Users/Haein/Desktop/Museum/20220613~2022070...</td>\n",
       "      <td>The New York Times</td>\n",
       "      <td>2022-06-17</td>\n",
       "      <td>12138 words</td>\n",
       "      <td>PODCASTS</td>\n",
       "      <td>NaN</td>\n",
       "      <td>NaN</td>\n",
       "      <td>Transcript: Ezra Klein Interviews Rana Forooha...</td>\n",
       "      <td>False</td>\n",
       "      <td>Every Tuesday and Friday, Ezra Klein invites y...</td>\n",
       "    </tr>\n",
       "  </tbody>\n",
       "</table>\n",
       "<p>24774 rows × 11 columns</p>\n",
       "</div>"
      ],
      "text/plain": [
       "        ID                                        Source_File  \\\n",
       "0        1  C:/Users/Haein/Desktop/Museum/20140601~2016090...   \n",
       "1        2  C:/Users/Haein/Desktop/Museum/20140601~2016090...   \n",
       "2        3  C:/Users/Haein/Desktop/Museum/20140601~2016090...   \n",
       "3        4  C:/Users/Haein/Desktop/Museum/20140601~2016090...   \n",
       "4        5  C:/Users/Haein/Desktop/Museum/20140601~2016090...   \n",
       "...    ...                                                ...   \n",
       "24769  173  C:/Users/Haein/Desktop/Museum/20220613~2022070...   \n",
       "24770  174  C:/Users/Haein/Desktop/Museum/20220613~2022070...   \n",
       "24771  175  C:/Users/Haein/Desktop/Museum/20220613~2022070...   \n",
       "24772  176  C:/Users/Haein/Desktop/Museum/20220613~2022070...   \n",
       "24773  177  C:/Users/Haein/Desktop/Museum/20220613~2022070...   \n",
       "\n",
       "                       Newspaper        Date       Length  \\\n",
       "0              Los Angeles Times  2015-06-26    642 words   \n",
       "1                   The Guardian  2015-06-26   1934 words   \n",
       "2                   The Guardian  2015-06-26    628 words   \n",
       "3                 Jerusalem Post  2015-06-26   1152 words   \n",
       "4              Los Angeles Times  2015-06-26   1128 words   \n",
       "...                          ...         ...          ...   \n",
       "24769         Newsday (New York)  2022-06-17    503 words   \n",
       "24770  The Philadelphia Inquirer  2022-06-17   1371 words   \n",
       "24771               mirror.co.uk  2022-06-17   1180 words   \n",
       "24772  The Philadelphia Inquirer  2022-06-17   1710 words   \n",
       "24773         The New York Times  2022-06-17  12138 words   \n",
       "\n",
       "                                       Section                       Author  \\\n",
       "0        CALIFORNIA; Metro Desk; Part B; Pg. 3               Stephen Ceasar   \n",
       "1                                   TECHNOLOGY                 Keith Stuart   \n",
       "2                           TELEVISION & RADIO  Maraithe Thomas in New York   \n",
       "3                             FEATURES; Pg. 26               MEITAL SHARABI   \n",
       "4      MAIN NEWS; Letters Desk; Part A; Pg. 18                          NaN   \n",
       "...                                        ...                          ...   \n",
       "24769                             NEWS; Pg. 34          The Washington Post   \n",
       "24770                       THE REGION; Pg. B1    Valerie Russ STAFF WRITER   \n",
       "24771                        TRAVEL; Version:1           By, Nigel Thompson   \n",
       "24772                           SPORTS; Pg. D1     Mike Jensen STAFF WRITER   \n",
       "24773                                 PODCASTS                          NaN   \n",
       "\n",
       "       Edition                                           Headline  Graphic  \\\n",
       "0          NaN  LOS ANGELES; Legal battle over massive emerald...    False   \n",
       "1          NaN  Hearthstone: how a game developer turned 30m p...    False   \n",
       "2          NaN  My afternoon at the Seinfeld apartment; A new ...    False   \n",
       "3          NaN            Tiberias: Israel's diamond in the rough    False   \n",
       "4          NaN                                            LETTERS    False   \n",
       "...        ...                                                ...      ...   \n",
       "24769      NaN  NATION; Harry Gesner, 97, California architect...    False   \n",
       "24770      NaN  Norristown exhibit honors historian Charles Bl...    False   \n",
       "24771      NaN  Take a shine to golden wonders from around the...    False   \n",
       "24772      NaN  She helped change the game; Former Owls badmin...    False   \n",
       "24773      NaN  Transcript: Ezra Klein Interviews Rana Forooha...    False   \n",
       "\n",
       "                                                 Article  \n",
       "0      The more than six-year legal battle over the B...  \n",
       "1      On the set of ITV's costume drama Mr Selfridge...  \n",
       "2       Related: Seinfeld on Hulu: which episodes sho...  \n",
       "3      The Kinneret is one of the most beautiful spot...  \n",
       "4      He's served L.A. well Re \"Patt Morrison Asks: ...  \n",
       "...                                                  ...  \n",
       "24769  The Washington Post To design a great house, C...  \n",
       "24770  ABSTRACT His life's work was fueled by a fourt...  \n",
       "24771   All that glisters is not gold -   Often have ...  \n",
       "24772  ABSTRACT Former Owls badminton player was lead...  \n",
       "24773  Every Tuesday and Friday, Ezra Klein invites y...  \n",
       "\n",
       "[24774 rows x 11 columns]"
      ]
     },
     "execution_count": 88,
     "metadata": {},
     "output_type": "execute_result"
    }
   ],
   "source": [
    "df_lex = pd.read_csv('./Museum_afterparsing.csv')\n",
    "df_lex"
   ]
  },
  {
   "cell_type": "code",
   "execution_count": 92,
   "metadata": {},
   "outputs": [
    {
     "data": {
      "text/plain": [
       "Index(['ID', 'Source_File', 'Newspaper', 'Date', 'Length', 'Section', 'Author',\n",
       "       'Edition', 'Headline', 'Graphic', 'Article'],\n",
       "      dtype='object')"
      ]
     },
     "execution_count": 92,
     "metadata": {},
     "output_type": "execute_result"
    }
   ],
   "source": [
    "df_lex.columns"
   ]
  },
  {
   "cell_type": "code",
   "execution_count": 94,
   "metadata": {},
   "outputs": [
    {
     "data": {
      "text/html": [
       "<div>\n",
       "<style scoped>\n",
       "    .dataframe tbody tr th:only-of-type {\n",
       "        vertical-align: middle;\n",
       "    }\n",
       "\n",
       "    .dataframe tbody tr th {\n",
       "        vertical-align: top;\n",
       "    }\n",
       "\n",
       "    .dataframe thead th {\n",
       "        text-align: right;\n",
       "    }\n",
       "</style>\n",
       "<table border=\"1\" class=\"dataframe\">\n",
       "  <thead>\n",
       "    <tr style=\"text-align: right;\">\n",
       "      <th></th>\n",
       "      <th>Newspaper</th>\n",
       "      <th>Date</th>\n",
       "      <th>Length</th>\n",
       "      <th>Author</th>\n",
       "      <th>Headline</th>\n",
       "      <th>Article</th>\n",
       "    </tr>\n",
       "  </thead>\n",
       "  <tbody>\n",
       "    <tr>\n",
       "      <th>0</th>\n",
       "      <td>Los Angeles Times</td>\n",
       "      <td>2015-06-26</td>\n",
       "      <td>642 words</td>\n",
       "      <td>Stephen Ceasar</td>\n",
       "      <td>LOS ANGELES; Legal battle over massive emerald...</td>\n",
       "      <td>The more than six-year legal battle over the B...</td>\n",
       "    </tr>\n",
       "    <tr>\n",
       "      <th>1</th>\n",
       "      <td>The Guardian</td>\n",
       "      <td>2015-06-26</td>\n",
       "      <td>1934 words</td>\n",
       "      <td>Keith Stuart</td>\n",
       "      <td>Hearthstone: how a game developer turned 30m p...</td>\n",
       "      <td>On the set of ITV's costume drama Mr Selfridge...</td>\n",
       "    </tr>\n",
       "    <tr>\n",
       "      <th>2</th>\n",
       "      <td>The Guardian</td>\n",
       "      <td>2015-06-26</td>\n",
       "      <td>628 words</td>\n",
       "      <td>Maraithe Thomas in New York</td>\n",
       "      <td>My afternoon at the Seinfeld apartment; A new ...</td>\n",
       "      <td>Related: Seinfeld on Hulu: which episodes sho...</td>\n",
       "    </tr>\n",
       "    <tr>\n",
       "      <th>3</th>\n",
       "      <td>Jerusalem Post</td>\n",
       "      <td>2015-06-26</td>\n",
       "      <td>1152 words</td>\n",
       "      <td>MEITAL SHARABI</td>\n",
       "      <td>Tiberias: Israel's diamond in the rough</td>\n",
       "      <td>The Kinneret is one of the most beautiful spot...</td>\n",
       "    </tr>\n",
       "    <tr>\n",
       "      <th>4</th>\n",
       "      <td>Los Angeles Times</td>\n",
       "      <td>2015-06-26</td>\n",
       "      <td>1128 words</td>\n",
       "      <td>NaN</td>\n",
       "      <td>LETTERS</td>\n",
       "      <td>He's served L.A. well Re \"Patt Morrison Asks: ...</td>\n",
       "    </tr>\n",
       "    <tr>\n",
       "      <th>...</th>\n",
       "      <td>...</td>\n",
       "      <td>...</td>\n",
       "      <td>...</td>\n",
       "      <td>...</td>\n",
       "      <td>...</td>\n",
       "      <td>...</td>\n",
       "    </tr>\n",
       "    <tr>\n",
       "      <th>24769</th>\n",
       "      <td>Newsday (New York)</td>\n",
       "      <td>2022-06-17</td>\n",
       "      <td>503 words</td>\n",
       "      <td>The Washington Post</td>\n",
       "      <td>NATION; Harry Gesner, 97, California architect...</td>\n",
       "      <td>The Washington Post To design a great house, C...</td>\n",
       "    </tr>\n",
       "    <tr>\n",
       "      <th>24770</th>\n",
       "      <td>The Philadelphia Inquirer</td>\n",
       "      <td>2022-06-17</td>\n",
       "      <td>1371 words</td>\n",
       "      <td>Valerie Russ STAFF WRITER</td>\n",
       "      <td>Norristown exhibit honors historian Charles Bl...</td>\n",
       "      <td>ABSTRACT His life's work was fueled by a fourt...</td>\n",
       "    </tr>\n",
       "    <tr>\n",
       "      <th>24771</th>\n",
       "      <td>mirror.co.uk</td>\n",
       "      <td>2022-06-17</td>\n",
       "      <td>1180 words</td>\n",
       "      <td>By, Nigel Thompson</td>\n",
       "      <td>Take a shine to golden wonders from around the...</td>\n",
       "      <td>All that glisters is not gold -   Often have ...</td>\n",
       "    </tr>\n",
       "    <tr>\n",
       "      <th>24772</th>\n",
       "      <td>The Philadelphia Inquirer</td>\n",
       "      <td>2022-06-17</td>\n",
       "      <td>1710 words</td>\n",
       "      <td>Mike Jensen STAFF WRITER</td>\n",
       "      <td>She helped change the game; Former Owls badmin...</td>\n",
       "      <td>ABSTRACT Former Owls badminton player was lead...</td>\n",
       "    </tr>\n",
       "    <tr>\n",
       "      <th>24773</th>\n",
       "      <td>The New York Times</td>\n",
       "      <td>2022-06-17</td>\n",
       "      <td>12138 words</td>\n",
       "      <td>NaN</td>\n",
       "      <td>Transcript: Ezra Klein Interviews Rana Forooha...</td>\n",
       "      <td>Every Tuesday and Friday, Ezra Klein invites y...</td>\n",
       "    </tr>\n",
       "  </tbody>\n",
       "</table>\n",
       "<p>24774 rows × 6 columns</p>\n",
       "</div>"
      ],
      "text/plain": [
       "                       Newspaper        Date       Length  \\\n",
       "0              Los Angeles Times  2015-06-26    642 words   \n",
       "1                   The Guardian  2015-06-26   1934 words   \n",
       "2                   The Guardian  2015-06-26    628 words   \n",
       "3                 Jerusalem Post  2015-06-26   1152 words   \n",
       "4              Los Angeles Times  2015-06-26   1128 words   \n",
       "...                          ...         ...          ...   \n",
       "24769         Newsday (New York)  2022-06-17    503 words   \n",
       "24770  The Philadelphia Inquirer  2022-06-17   1371 words   \n",
       "24771               mirror.co.uk  2022-06-17   1180 words   \n",
       "24772  The Philadelphia Inquirer  2022-06-17   1710 words   \n",
       "24773         The New York Times  2022-06-17  12138 words   \n",
       "\n",
       "                            Author  \\\n",
       "0                   Stephen Ceasar   \n",
       "1                     Keith Stuart   \n",
       "2      Maraithe Thomas in New York   \n",
       "3                   MEITAL SHARABI   \n",
       "4                              NaN   \n",
       "...                            ...   \n",
       "24769          The Washington Post   \n",
       "24770    Valerie Russ STAFF WRITER   \n",
       "24771           By, Nigel Thompson   \n",
       "24772     Mike Jensen STAFF WRITER   \n",
       "24773                          NaN   \n",
       "\n",
       "                                                Headline  \\\n",
       "0      LOS ANGELES; Legal battle over massive emerald...   \n",
       "1      Hearthstone: how a game developer turned 30m p...   \n",
       "2      My afternoon at the Seinfeld apartment; A new ...   \n",
       "3                Tiberias: Israel's diamond in the rough   \n",
       "4                                                LETTERS   \n",
       "...                                                  ...   \n",
       "24769  NATION; Harry Gesner, 97, California architect...   \n",
       "24770  Norristown exhibit honors historian Charles Bl...   \n",
       "24771  Take a shine to golden wonders from around the...   \n",
       "24772  She helped change the game; Former Owls badmin...   \n",
       "24773  Transcript: Ezra Klein Interviews Rana Forooha...   \n",
       "\n",
       "                                                 Article  \n",
       "0      The more than six-year legal battle over the B...  \n",
       "1      On the set of ITV's costume drama Mr Selfridge...  \n",
       "2       Related: Seinfeld on Hulu: which episodes sho...  \n",
       "3      The Kinneret is one of the most beautiful spot...  \n",
       "4      He's served L.A. well Re \"Patt Morrison Asks: ...  \n",
       "...                                                  ...  \n",
       "24769  The Washington Post To design a great house, C...  \n",
       "24770  ABSTRACT His life's work was fueled by a fourt...  \n",
       "24771   All that glisters is not gold -   Often have ...  \n",
       "24772  ABSTRACT Former Owls badminton player was lead...  \n",
       "24773  Every Tuesday and Friday, Ezra Klein invites y...  \n",
       "\n",
       "[24774 rows x 6 columns]"
      ]
     },
     "execution_count": 94,
     "metadata": {},
     "output_type": "execute_result"
    }
   ],
   "source": [
    "df_lex = df_lex[['Newspaper', 'Date', 'Length', 'Author', 'Headline', 'Article']]\n",
    "df_lex"
   ]
  },
  {
   "cell_type": "code",
   "execution_count": 89,
   "metadata": {},
   "outputs": [
    {
     "name": "stderr",
     "output_type": "stream",
     "text": [
      "[nltk_data] Downloading package stopwords to\n",
      "[nltk_data]     /Users/brightcircle/nltk_data...\n",
      "[nltk_data]   Package stopwords is already up-to-date!\n"
     ]
    }
   ],
   "source": [
    "import spacy\n",
    "from nltk.corpus import stopwords\n",
    "import nltk\n",
    "nltk.download('stopwords')\n",
    "\n",
    "from tqdm.notebook import tqdm\n",
    "tqdm.pandas()\n",
    "\n",
    "from collections import Counter\n",
    "import regex\n",
    "import re\n",
    "\n",
    "from nltk.tokenize import TreebankWordTokenizer\n",
    "\n",
    "from flashtext import KeywordProcessor\n",
    "kp = KeywordProcessor()"
   ]
  },
  {
   "cell_type": "code",
   "execution_count": 90,
   "metadata": {},
   "outputs": [],
   "source": [
    "import spacy\n",
    "\n",
    "nlp = spacy.load(\"en_core_web_sm\")\n"
   ]
  },
  {
   "cell_type": "code",
   "execution_count": 91,
   "metadata": {},
   "outputs": [
    {
     "name": "stdout",
     "output_type": "stream",
     "text": [
      "326\n",
      "<class 'set'>\n"
     ]
    }
   ],
   "source": [
    "spacy_stopwords = nlp.Defaults.stop_words\n",
    "print(len(spacy_stopwords))\n",
    "print(type(spacy_stopwords))\n"
   ]
  },
  {
   "cell_type": "code",
   "execution_count": 96,
   "metadata": {},
   "outputs": [],
   "source": [
    "class Preprocessing_lex :\n",
    "    \"\"\"\n",
    "    sumary\n",
    "    \"\"\"\n",
    "    \n",
    "    def __init__(self, df ) :\n",
    "        self.df = df\n",
    "        self.nlp = spacy.load(\"en_core_web_sm\")\n",
    "        self.spacy_stopwords = nlp.Defaults.stop_words\n",
    "        self.stopwords_list = list(spacy_stopwords) #불용어 리스트\n",
    "        self.synonym_dict = {\"n't\" : ['not']} # 동의어 딕셔너리\n",
    "    \n",
    "    def only_eng(self, df) :\n",
    "        list_par = []\n",
    "        for i in df.index :\n",
    "            for idx in df['token'][i] :\n",
    "\n",
    "                text = re.sub('[^a-zA-Z0-9]', '', idx).strip() #숫자와 영어만\n",
    "                text = text.lower()\n",
    "                if(text!=''):\n",
    "                    list_par.append(text)\n",
    "\n",
    "\n",
    "    \"\"\" def lemmatizer(text):\n",
    "        spacy.prefer_gpu()\n",
    "        nlp = spacy.load(\"en_core_web_sm\")        \n",
    "        sent = []\n",
    "        doc = nlp(text)\n",
    "        for word in doc:\n",
    "            sent.append(word.lemma_)\n",
    "        return \" \".join(sent) \"\"\"\n",
    "\n",
    "    def lemmatize(self, words=[]) :\n",
    "        spacy.prefer_gpu()\n",
    "        nlp = spacy.load(\"en_core_web_sm\")\n",
    "        self.df['token'] =0 \n",
    "        self.df['token'] = self.df[\"Article\"].progress_apply(lambda row: [w.lemma_ for w in nlp(row)])\n",
    "\n",
    "        self.stopwords_list.extend(words)\n",
    "        self.df['token'] = self.df['token'].progress_map(lambda x:[w for w in x if not w in self.stopwords_list])\n",
    "\n",
    "        for idx in tqdm(self.df.index) :\n",
    "            \n",
    "            #self.df['token'][idx] = lemmatizer(self.df['review'][idx])\n",
    "            list_par = []\n",
    "            for i in self.df['token'][idx] :\n",
    "                text = re.sub('[^a-zA-Z0-9]', '', i).strip()\n",
    "                text = text.lower()\n",
    "                if(text!='' and len(text)>1): #2 글자 이상의 단어만 포함\n",
    "                    list_par.append(text) \n",
    "\n",
    "\n",
    "            self.df['token'][idx] = list_par\n",
    "    \n",
    "        print(self.df['token'])\n",
    "\n",
    "        \n",
    "        \n",
    "    def tokenize(self) :\n",
    "        tokenizer = TreebankWordTokenizer()\n",
    "        self.df['token'] =0 \n",
    "        \n",
    "        for idx in tqdm(self.df.index) :\n",
    "            self.df['token'][idx] = tokenizer.tokenize(self.df['text'][idx])\n",
    "            \n",
    "            list_par = []\n",
    "            for i in self.df['token'][idx] :\n",
    "                text = re.sub('[^a-zA-Z]', '', i).strip()\n",
    "                text = text.lower()\n",
    "                if(text!='' and len(text)>1): #2 글자 이상의 단어만 포함\n",
    "                    list_par.append(text)\n",
    "\n",
    "\n",
    "            self.df['token'][idx] = list_par\n",
    "    \n",
    "        print(self.df['token'])\n",
    "\n",
    "    \n",
    "    def elim_stopwords(self, words=[]):\n",
    "        self.stopwords_list.extend(words)\n",
    "        self.df['token'] = self.df['token'].map(lambda x:[w for w in x if not w in self.stopwords_list]) \n",
    "        \n",
    "    def synonym(self) :\n",
    "        kp.add_keywords_from_dict(self.synonym_dict)\n",
    "        df['token'] = [[kp.replace_keywords(x) for x in w] for w in tqdm(df['token'])]"
   ]
  },
  {
   "cell_type": "code",
   "execution_count": 97,
   "metadata": {},
   "outputs": [
    {
     "name": "stderr",
     "output_type": "stream",
     "text": [
      "/var/folders/q9/1ydypryj47n2g37569rqj0p80000gn/T/ipykernel_14867/4052389075.py:36: SettingWithCopyWarning: \n",
      "A value is trying to be set on a copy of a slice from a DataFrame.\n",
      "Try using .loc[row_indexer,col_indexer] = value instead\n",
      "\n",
      "See the caveats in the documentation: https://pandas.pydata.org/pandas-docs/stable/user_guide/indexing.html#returning-a-view-versus-a-copy\n",
      "  self.df['token'] =0\n"
     ]
    },
    {
     "data": {
      "application/vnd.jupyter.widget-view+json": {
       "model_id": "41f65b7618a041fbb9b614d14ad81409",
       "version_major": 2,
       "version_minor": 0
      },
      "text/plain": [
       "  0%|          | 0/24774 [00:00<?, ?it/s]"
      ]
     },
     "metadata": {},
     "output_type": "display_data"
    },
    {
     "name": "stderr",
     "output_type": "stream",
     "text": [
      "/var/folders/q9/1ydypryj47n2g37569rqj0p80000gn/T/ipykernel_14867/4052389075.py:37: SettingWithCopyWarning: \n",
      "A value is trying to be set on a copy of a slice from a DataFrame.\n",
      "Try using .loc[row_indexer,col_indexer] = value instead\n",
      "\n",
      "See the caveats in the documentation: https://pandas.pydata.org/pandas-docs/stable/user_guide/indexing.html#returning-a-view-versus-a-copy\n",
      "  self.df['token'] = self.df[\"Article\"].progress_apply(lambda row: [w.lemma_ for w in nlp(row)])\n"
     ]
    },
    {
     "data": {
      "application/vnd.jupyter.widget-view+json": {
       "model_id": "3190cc56542540b7ae4ad7498c70d913",
       "version_major": 2,
       "version_minor": 0
      },
      "text/plain": [
       "  0%|          | 0/24774 [00:00<?, ?it/s]"
      ]
     },
     "metadata": {},
     "output_type": "display_data"
    },
    {
     "name": "stderr",
     "output_type": "stream",
     "text": [
      "/var/folders/q9/1ydypryj47n2g37569rqj0p80000gn/T/ipykernel_14867/4052389075.py:40: SettingWithCopyWarning: \n",
      "A value is trying to be set on a copy of a slice from a DataFrame.\n",
      "Try using .loc[row_indexer,col_indexer] = value instead\n",
      "\n",
      "See the caveats in the documentation: https://pandas.pydata.org/pandas-docs/stable/user_guide/indexing.html#returning-a-view-versus-a-copy\n",
      "  self.df['token'] = self.df['token'].progress_map(lambda x:[w for w in x if not w in self.stopwords_list])\n"
     ]
    },
    {
     "data": {
      "application/vnd.jupyter.widget-view+json": {
       "model_id": "d451881f4cfb49d59645892630cb6080",
       "version_major": 2,
       "version_minor": 0
      },
      "text/plain": [
       "  0%|          | 0/24774 [00:00<?, ?it/s]"
      ]
     },
     "metadata": {},
     "output_type": "display_data"
    },
    {
     "name": "stderr",
     "output_type": "stream",
     "text": [
      "/var/folders/q9/1ydypryj47n2g37569rqj0p80000gn/T/ipykernel_14867/4052389075.py:53: SettingWithCopyWarning: \n",
      "A value is trying to be set on a copy of a slice from a DataFrame\n",
      "\n",
      "See the caveats in the documentation: https://pandas.pydata.org/pandas-docs/stable/user_guide/indexing.html#returning-a-view-versus-a-copy\n",
      "  self.df['token'][idx] = list_par\n"
     ]
    },
    {
     "name": "stdout",
     "output_type": "stream",
     "text": [
      "0        [year, legal, battle, bahia, emerald, reach, c...\n",
      "1        [set, itv, costume, drama, mr, selfridge, quie...\n",
      "2        [relate, seinfeld, hulu, episode, download, tu...\n",
      "3        [kinneret, beautiful, spot, country, reason, p...\n",
      "4        [serve, la, patt, morrison, ask, tom, labonge,...\n",
      "                               ...                        \n",
      "24769    [washington, post, design, great, house, calif...\n",
      "24770    [abstract, life, work, fuel, fourth, grade, te...\n",
      "24771    [glister, gold, hear, tell, students, william,...\n",
      "24772    [abstract, owls, badminton, player, lead, plai...\n",
      "24773    [tuesday, friday, ezra, klein, invite, convers...\n",
      "Name: token, Length: 24774, dtype: object\n"
     ]
    }
   ],
   "source": [
    "preprecess_lex=Preprocessing_lex(df_lex)\n",
    "\n",
    "preprecess_lex.lemmatize()"
   ]
  },
  {
   "cell_type": "code",
   "execution_count": 98,
   "metadata": {},
   "outputs": [],
   "source": [
    "df_lex.to_pickle('대용박물관_article_전처리 완료.pickle')"
   ]
  },
  {
   "cell_type": "code",
   "execution_count": 99,
   "metadata": {},
   "outputs": [
    {
     "data": {
      "text/html": [
       "<div>\n",
       "<style scoped>\n",
       "    .dataframe tbody tr th:only-of-type {\n",
       "        vertical-align: middle;\n",
       "    }\n",
       "\n",
       "    .dataframe tbody tr th {\n",
       "        vertical-align: top;\n",
       "    }\n",
       "\n",
       "    .dataframe thead th {\n",
       "        text-align: right;\n",
       "    }\n",
       "</style>\n",
       "<table border=\"1\" class=\"dataframe\">\n",
       "  <thead>\n",
       "    <tr style=\"text-align: right;\">\n",
       "      <th></th>\n",
       "      <th>Newspaper</th>\n",
       "      <th>Date</th>\n",
       "      <th>Length</th>\n",
       "      <th>Author</th>\n",
       "      <th>Headline</th>\n",
       "      <th>Article</th>\n",
       "      <th>token</th>\n",
       "    </tr>\n",
       "  </thead>\n",
       "  <tbody>\n",
       "    <tr>\n",
       "      <th>0</th>\n",
       "      <td>Los Angeles Times</td>\n",
       "      <td>2015-06-26</td>\n",
       "      <td>642 words</td>\n",
       "      <td>Stephen Ceasar</td>\n",
       "      <td>LOS ANGELES; Legal battle over massive emerald...</td>\n",
       "      <td>The more than six-year legal battle over the B...</td>\n",
       "      <td>[year, legal, battle, bahia, emerald, reach, c...</td>\n",
       "    </tr>\n",
       "    <tr>\n",
       "      <th>1</th>\n",
       "      <td>The Guardian</td>\n",
       "      <td>2015-06-26</td>\n",
       "      <td>1934 words</td>\n",
       "      <td>Keith Stuart</td>\n",
       "      <td>Hearthstone: how a game developer turned 30m p...</td>\n",
       "      <td>On the set of ITV's costume drama Mr Selfridge...</td>\n",
       "      <td>[set, itv, costume, drama, mr, selfridge, quie...</td>\n",
       "    </tr>\n",
       "    <tr>\n",
       "      <th>2</th>\n",
       "      <td>The Guardian</td>\n",
       "      <td>2015-06-26</td>\n",
       "      <td>628 words</td>\n",
       "      <td>Maraithe Thomas in New York</td>\n",
       "      <td>My afternoon at the Seinfeld apartment; A new ...</td>\n",
       "      <td>Related: Seinfeld on Hulu: which episodes sho...</td>\n",
       "      <td>[relate, seinfeld, hulu, episode, download, tu...</td>\n",
       "    </tr>\n",
       "    <tr>\n",
       "      <th>3</th>\n",
       "      <td>Jerusalem Post</td>\n",
       "      <td>2015-06-26</td>\n",
       "      <td>1152 words</td>\n",
       "      <td>MEITAL SHARABI</td>\n",
       "      <td>Tiberias: Israel's diamond in the rough</td>\n",
       "      <td>The Kinneret is one of the most beautiful spot...</td>\n",
       "      <td>[kinneret, beautiful, spot, country, reason, p...</td>\n",
       "    </tr>\n",
       "    <tr>\n",
       "      <th>4</th>\n",
       "      <td>Los Angeles Times</td>\n",
       "      <td>2015-06-26</td>\n",
       "      <td>1128 words</td>\n",
       "      <td>NaN</td>\n",
       "      <td>LETTERS</td>\n",
       "      <td>He's served L.A. well Re \"Patt Morrison Asks: ...</td>\n",
       "      <td>[serve, la, patt, morrison, ask, tom, labonge,...</td>\n",
       "    </tr>\n",
       "    <tr>\n",
       "      <th>...</th>\n",
       "      <td>...</td>\n",
       "      <td>...</td>\n",
       "      <td>...</td>\n",
       "      <td>...</td>\n",
       "      <td>...</td>\n",
       "      <td>...</td>\n",
       "      <td>...</td>\n",
       "    </tr>\n",
       "    <tr>\n",
       "      <th>24769</th>\n",
       "      <td>Newsday (New York)</td>\n",
       "      <td>2022-06-17</td>\n",
       "      <td>503 words</td>\n",
       "      <td>The Washington Post</td>\n",
       "      <td>NATION; Harry Gesner, 97, California architect...</td>\n",
       "      <td>The Washington Post To design a great house, C...</td>\n",
       "      <td>[washington, post, design, great, house, calif...</td>\n",
       "    </tr>\n",
       "    <tr>\n",
       "      <th>24770</th>\n",
       "      <td>The Philadelphia Inquirer</td>\n",
       "      <td>2022-06-17</td>\n",
       "      <td>1371 words</td>\n",
       "      <td>Valerie Russ STAFF WRITER</td>\n",
       "      <td>Norristown exhibit honors historian Charles Bl...</td>\n",
       "      <td>ABSTRACT His life's work was fueled by a fourt...</td>\n",
       "      <td>[abstract, life, work, fuel, fourth, grade, te...</td>\n",
       "    </tr>\n",
       "    <tr>\n",
       "      <th>24771</th>\n",
       "      <td>mirror.co.uk</td>\n",
       "      <td>2022-06-17</td>\n",
       "      <td>1180 words</td>\n",
       "      <td>By, Nigel Thompson</td>\n",
       "      <td>Take a shine to golden wonders from around the...</td>\n",
       "      <td>All that glisters is not gold -   Often have ...</td>\n",
       "      <td>[glister, gold, hear, tell, students, william,...</td>\n",
       "    </tr>\n",
       "    <tr>\n",
       "      <th>24772</th>\n",
       "      <td>The Philadelphia Inquirer</td>\n",
       "      <td>2022-06-17</td>\n",
       "      <td>1710 words</td>\n",
       "      <td>Mike Jensen STAFF WRITER</td>\n",
       "      <td>She helped change the game; Former Owls badmin...</td>\n",
       "      <td>ABSTRACT Former Owls badminton player was lead...</td>\n",
       "      <td>[abstract, owls, badminton, player, lead, plai...</td>\n",
       "    </tr>\n",
       "    <tr>\n",
       "      <th>24773</th>\n",
       "      <td>The New York Times</td>\n",
       "      <td>2022-06-17</td>\n",
       "      <td>12138 words</td>\n",
       "      <td>NaN</td>\n",
       "      <td>Transcript: Ezra Klein Interviews Rana Forooha...</td>\n",
       "      <td>Every Tuesday and Friday, Ezra Klein invites y...</td>\n",
       "      <td>[tuesday, friday, ezra, klein, invite, convers...</td>\n",
       "    </tr>\n",
       "  </tbody>\n",
       "</table>\n",
       "<p>24774 rows × 7 columns</p>\n",
       "</div>"
      ],
      "text/plain": [
       "                       Newspaper        Date       Length  \\\n",
       "0              Los Angeles Times  2015-06-26    642 words   \n",
       "1                   The Guardian  2015-06-26   1934 words   \n",
       "2                   The Guardian  2015-06-26    628 words   \n",
       "3                 Jerusalem Post  2015-06-26   1152 words   \n",
       "4              Los Angeles Times  2015-06-26   1128 words   \n",
       "...                          ...         ...          ...   \n",
       "24769         Newsday (New York)  2022-06-17    503 words   \n",
       "24770  The Philadelphia Inquirer  2022-06-17   1371 words   \n",
       "24771               mirror.co.uk  2022-06-17   1180 words   \n",
       "24772  The Philadelphia Inquirer  2022-06-17   1710 words   \n",
       "24773         The New York Times  2022-06-17  12138 words   \n",
       "\n",
       "                            Author  \\\n",
       "0                   Stephen Ceasar   \n",
       "1                     Keith Stuart   \n",
       "2      Maraithe Thomas in New York   \n",
       "3                   MEITAL SHARABI   \n",
       "4                              NaN   \n",
       "...                            ...   \n",
       "24769          The Washington Post   \n",
       "24770    Valerie Russ STAFF WRITER   \n",
       "24771           By, Nigel Thompson   \n",
       "24772     Mike Jensen STAFF WRITER   \n",
       "24773                          NaN   \n",
       "\n",
       "                                                Headline  \\\n",
       "0      LOS ANGELES; Legal battle over massive emerald...   \n",
       "1      Hearthstone: how a game developer turned 30m p...   \n",
       "2      My afternoon at the Seinfeld apartment; A new ...   \n",
       "3                Tiberias: Israel's diamond in the rough   \n",
       "4                                                LETTERS   \n",
       "...                                                  ...   \n",
       "24769  NATION; Harry Gesner, 97, California architect...   \n",
       "24770  Norristown exhibit honors historian Charles Bl...   \n",
       "24771  Take a shine to golden wonders from around the...   \n",
       "24772  She helped change the game; Former Owls badmin...   \n",
       "24773  Transcript: Ezra Klein Interviews Rana Forooha...   \n",
       "\n",
       "                                                 Article  \\\n",
       "0      The more than six-year legal battle over the B...   \n",
       "1      On the set of ITV's costume drama Mr Selfridge...   \n",
       "2       Related: Seinfeld on Hulu: which episodes sho...   \n",
       "3      The Kinneret is one of the most beautiful spot...   \n",
       "4      He's served L.A. well Re \"Patt Morrison Asks: ...   \n",
       "...                                                  ...   \n",
       "24769  The Washington Post To design a great house, C...   \n",
       "24770  ABSTRACT His life's work was fueled by a fourt...   \n",
       "24771   All that glisters is not gold -   Often have ...   \n",
       "24772  ABSTRACT Former Owls badminton player was lead...   \n",
       "24773  Every Tuesday and Friday, Ezra Klein invites y...   \n",
       "\n",
       "                                                   token  \n",
       "0      [year, legal, battle, bahia, emerald, reach, c...  \n",
       "1      [set, itv, costume, drama, mr, selfridge, quie...  \n",
       "2      [relate, seinfeld, hulu, episode, download, tu...  \n",
       "3      [kinneret, beautiful, spot, country, reason, p...  \n",
       "4      [serve, la, patt, morrison, ask, tom, labonge,...  \n",
       "...                                                  ...  \n",
       "24769  [washington, post, design, great, house, calif...  \n",
       "24770  [abstract, life, work, fuel, fourth, grade, te...  \n",
       "24771  [glister, gold, hear, tell, students, william,...  \n",
       "24772  [abstract, owls, badminton, player, lead, plai...  \n",
       "24773  [tuesday, friday, ezra, klein, invite, convers...  \n",
       "\n",
       "[24774 rows x 7 columns]"
      ]
     },
     "execution_count": 99,
     "metadata": {},
     "output_type": "execute_result"
    }
   ],
   "source": [
    "df_lex"
   ]
  },
  {
   "cell_type": "code",
   "execution_count": 101,
   "metadata": {},
   "outputs": [
    {
     "data": {
      "text/plain": [
       "83"
      ]
     },
     "execution_count": 101,
     "metadata": {},
     "output_type": "execute_result"
    }
   ],
   "source": [
    "len(df_lex['Newspaper'].unique())"
   ]
  },
  {
   "cell_type": "markdown",
   "metadata": {},
   "source": [
    "### LDA"
   ]
  },
  {
   "cell_type": "code",
   "execution_count": 106,
   "metadata": {},
   "outputs": [],
   "source": [
    "class TopicModeling :\n",
    "    \n",
    "    def __init__(self, df, k, min_df=5 ) : #df = 데이터, k은 토픽 개수, min_df =10\n",
    "        self.df = df\n",
    "        self.k = k\n",
    "        self.min_df= min_df\n",
    "    \n",
    "            \n",
    "    def LDA(self) :\n",
    "        \n",
    "        LDA_model = tp.LDAModel(k= self.k, min_df=self.min_df, tw= tp.TermWeight.IDF, rm_top=0, alpha=0.1, eta= 0.01, seed=2022 )\n",
    "        for token in self.df['token'].tolist():\n",
    "            LDA_model.add_doc(token)\n",
    "\n",
    "        return LDA_model\n",
    "       \n",
    "        \n",
    "    def train(self, LDA_model) :\n",
    "        LDA_model.train(0)\n",
    "        print('Num docs:', len(LDA_model.docs), ', Vocab size:', LDA_model.num_vocabs, ', Num words:', LDA_model.num_words)\n",
    "        print('Removed top words:', LDA_model.removed_top_words) #확인\n",
    "        print('Training...', file=sys.stderr, flush=True)\n",
    "        for i in range(0, 500, 100):\n",
    "            LDA_model.train(100)\n",
    "            print('Iteration: {}\\tLog-likelihood: {}'.format(i, LDA_model.ll_per_word))\n",
    "            \n",
    "    def get_coherence(self, LDA_model) :\n",
    "        coherence = tp.coherence\n",
    "        score = coherence.Coherence(LDA_model).get_score()\n",
    "        perplexity = LDA_model.perplexity\n",
    "        print('topic 개수 : ', self.k , '| 사용된 vocab 수 : ',len(LDA_model.used_vocabs) ,'| Coherence 점수 : ', score, '| Perplexity 점수 : ', np.log(perplexity))\n",
    "    \n",
    "\n",
    "        return score, perplexity"
   ]
  },
  {
   "cell_type": "code",
   "execution_count": 107,
   "metadata": {},
   "outputs": [
    {
     "name": "stderr",
     "output_type": "stream",
     "text": [
      "Training...\n"
     ]
    },
    {
     "name": "stdout",
     "output_type": "stream",
     "text": [
      "Num docs: 24774 , Vocab size: 63062 , Num words: 14935116\n",
      "Removed top words: []\n",
      "Iteration: 0\tLog-likelihood: -9.808848036829854\n",
      "Iteration: 100\tLog-likelihood: -9.66068401019232\n",
      "Iteration: 200\tLog-likelihood: -9.593158436987629\n",
      "Iteration: 300\tLog-likelihood: -9.555355871125764\n",
      "Iteration: 400\tLog-likelihood: -9.531195264183964\n",
      "topic 개수 :  54 | 사용된 vocab 수 :  63062 | Coherence 점수 :  -2.467086038120505 | Perplexity 점수 :  9.531195264183964\n"
     ]
    },
    {
     "data": {
      "text/plain": [
       "63062"
      ]
     },
     "execution_count": 107,
     "metadata": {},
     "output_type": "execute_result"
    }
   ],
   "source": [
    "lda = TopicModeling(df_lex,54)\n",
    "model = lda.LDA()\n",
    "lda.train(model)\n",
    "lda.get_coherence(model)\n",
    "len(model.used_vocabs)"
   ]
  },
  {
   "cell_type": "code",
   "execution_count": 108,
   "metadata": {},
   "outputs": [
    {
     "name": "stdout",
     "output_type": "stream",
     "text": [
      "Topic #0\tbp, company, oil, million, fund, business, money, bank, tax, economic\n",
      "Topic #1\ttheatre, opera, ballet, dance, 020, theater, dancer, london, festival, production\n",
      "Topic #2\tnovel, awards, actress, book, comedy, literature, drama, fiction, actors, writers\n",
      "Topic #3\tzealand, napoleon, italy, london, vienna, de, wellington, auckland, france, queen\n",
      "Topic #4\tbst, gmt, block, brexit, johnson, eu, labour, minister, uk, timeupdated\n",
      "Topic #5\tblack, slavery, african, slave, racism, civil, confederate, law, court, negative\n",
      "Topic #6\tfather, university, college, school, die, death, mother, student, mr, family\n",
      "Topic #7\tbaseball, game, sports, player, league, team, sport, football, fame, hall\n",
      "Topic #8\tpm, 212, street, am, saturday, sunday, avenue, brooklyn, friday, 718\n",
      "Topic #9\tfeel, think, like, thing, want, way, people, look, tell, kind\n",
      "Topic #10\tbauhaus, annabelle, roth, snowden, conjuring, vera, farmiga, doll, warren, kenosha\n",
      "Topic #11\tgreece, greek, british, sculpture, athens, elgin, parthenon, marble, museum, marbles\n",
      "Topic #12\tnetflix, television, episode, bbc, tv, series, rogen, streaming, comedy, season\n",
      "Topic #13\tauction, sale, royalty, antiques, sell, prince, sotheby, collectibles, collector, queen\n",
      "Topic #14\tcanada, toronto, canadian, ontario, indigenous, quebec, montreal, ottawa, vancouver, orleans\n",
      "Topic #15\tkorea, china, korean, seoul, chinese, 02, hong, singapore, kong, won\n",
      "Topic #16\tpm, am, 203, 860, saturdays, sundays, aug, noon, 495, july\n",
      "Topic #17\tman, woman, sex, male, sexual, female, power, horror, character, monster\n",
      "Topic #18\ttrump, presidential, us, president, mr, candidate, obama, election, biden, political\n",
      "Topic #19\taustralia, australian, breward, sydney, indigenous, aboriginal, ireland, melbourne, canberra, dublin\n",
      "Topic #20\thenson, 212, halilaj, reubens, farago212, wilder, vo, musgrave, kosovo, metmuseumorg\n",
      "Topic #21\thuman, dr, scientist, animal, researcher, dna, science, cave, research, bone\n",
      "Topic #22\tbuilding, architecture, city, design, architect, architectural, house, space, floor, build\n",
      "Topic #23\tmexico, nft, mexican, spanish, randi, texas, fenn, cuba, maya, peru\n",
      "Topic #24\tmusic, musician, song, album, instrument, musical, singers, band, jazz, rock\n",
      "Topic #25\tfilm, movie, disney, films, documentary, star, character, hollywood, animation, actors\n",
      "Topic #26\tpainting, art, gallery, artist, tate, artists, london, drawing, exhibition, portrait\n",
      "Topic #27\thotel, tour, park, travel, attraction, tourist, town, visit, beach, tourism\n",
      "Topic #28\tinternet, computer, digital, video, technology, google, virtual, networking, online, student\n",
      "Topic #29\tiraq, islamic, syria, isis, iran, al, islam, palmyra, muslims, syrian\n",
      "Topic #30\tindia, antiquity, steal, dealer, afghanistan, theft, loot, item, investigation, mr\n",
      "Topic #31\tartist, art, painting, sculpture, artists, visual, work, performer, paint, contemporary\n",
      "Topic #32\tpm, 631, 215, am5, 516, 10, free, am4, rd, senior\n",
      "Topic #33\tcoin, metal, treasure, hoard, gold, coinage, coins, detectorist, roman, find\n",
      "Topic #34\tarchaeology, ancient, site, archaeologist, excavation, archaeological, egypt, tomb, stone, anthropology\n",
      "Topic #35\tdetroit, car, ford, manufacturing, ullmann, sir, motor, vehicle, michigan, 57\n",
      "Topic #36\tisrael, jewish, jews, jerusalem, holocaust, israeli, synagogue, judaism, tel, auschwitz\n",
      "Topic #37\tchicago, 212, art, sept, jan, oct, feb, cotter, museum, 312\n",
      "Topic #38\tbook, novel, literature, write, writer, writers, poem, fiction, poetry, read\n",
      "Topic #39\tchicago, library, philadelphia, lincoln, libraries, usa, exhibit, collection, illinois, historic\n",
      "Topic #40\tpolice, attack, war, military, forces, crime, officer, kill, weapon, army\n",
      "Topic #41\trestaurant, food, wine, chef, bar, menu, beer, drink, cheese, dish\n",
      "Topic #42\tgermany, russian, ukraine, berlin, benin, russia, german, france, nigeria, africa\n",
      "Topic #43\tstore, shop, ms, room, table, sell, buy, mr, glass, vintage\n",
      "Topic #44\tservice, mrs, community, royal, charity, nhs, trust, education, chief, john\n",
      "Topic #45\tspace, moon, nasa, apollo, armstrong, earth, astronaut, spacecraft, exploration, lunar\n",
      "Topic #46\tfashion, japan, japanese, designer, tokyo, manga, design, dress, wear, apparel\n",
      "Topic #47\tchristmas, card, rogers, parent, tulsa, child, hughes, kid, happy, fitzgerald\n",
      "Topic #48\tcoronavirus, health, covid19, pandemic, disease, virus, covid, medical, patient, vaccine\n",
      "Topic #49\tland, tribe, native, california, canyon, fire, water, county, parks, monument\n",
      "Topic #50\tchurch, religious, catholic, christians, christianity, bible, pope, religion, cathedral, catholics\n",
      "Topic #51\tship, marine, island, sea, wreck, ocean, arctic, boat, shipwreck, titanic\n",
      "Topic #52\tdirect, rd, subtitle, iib, iia, jun, ifc, elements, cityplaza, jma\n",
      "Topic #53\tmr, los, angeles, ms, york, american, times, usa, photographer, california\n"
     ]
    }
   ],
   "source": [
    "for i in range(model.k):\n",
    "    res = model.get_topic_words(i, top_n=10) # top 10\n",
    "    print('Topic #{}'.format(i), end='\\t')\n",
    "    print(', '.join(w for w, p in res))\n",
    "    "
   ]
  },
  {
   "cell_type": "code",
   "execution_count": 110,
   "metadata": {},
   "outputs": [
    {
     "name": "stdout",
     "output_type": "stream",
     "text": [
      "Number of unique tokens: 63062\n",
      "Number of documents: 24774\n"
     ]
    },
    {
     "name": "stderr",
     "output_type": "stream",
     "text": [
      "Training...\n"
     ]
    },
    {
     "name": "stdout",
     "output_type": "stream",
     "text": [
      "Num docs: 24774 , Vocab size: 63062 , Num words: 14935116\n",
      "Removed top words: []\n",
      "Iteration: 0\tLog-likelihood: -9.943683668319254\n",
      "Iteration: 100\tLog-likelihood: -9.931252967213453\n",
      "Iteration: 200\tLog-likelihood: -9.92417916836017\n",
      "Iteration: 300\tLog-likelihood: -9.920437683826412\n",
      "Iteration: 400\tLog-likelihood: -9.918338774650202\n",
      "topic 개수 :  2 | 사용된 vocab 수 :  63062 | Coherence 점수 :  -1.1059921237424133 | Perplexity 점수 :  9.918338774650202\n"
     ]
    },
    {
     "name": "stderr",
     "output_type": "stream",
     "text": [
      "Training...\n"
     ]
    },
    {
     "name": "stdout",
     "output_type": "stream",
     "text": [
      "Num docs: 24774 , Vocab size: 63062 , Num words: 14935116\n",
      "Removed top words: []\n",
      "Iteration: 0\tLog-likelihood: -10.024958929412353\n",
      "Iteration: 100\tLog-likelihood: -9.961969020573429\n",
      "Iteration: 200\tLog-likelihood: -9.933905004554063\n",
      "Iteration: 300\tLog-likelihood: -9.91854985034451\n",
      "Iteration: 400\tLog-likelihood: -9.910262643278179\n",
      "topic 개수 :  6 | 사용된 vocab 수 :  63062 | Coherence 점수 :  -1.4196458380786512 | Perplexity 점수 :  9.910262643278179\n"
     ]
    },
    {
     "name": "stderr",
     "output_type": "stream",
     "text": [
      "Training...\n"
     ]
    },
    {
     "name": "stdout",
     "output_type": "stream",
     "text": [
      "Num docs: 24774 , Vocab size: 63062 , Num words: 14935116\n",
      "Removed top words: []\n",
      "Iteration: 0\tLog-likelihood: -10.036810184807662\n",
      "Iteration: 100\tLog-likelihood: -9.955125165751909\n",
      "Iteration: 200\tLog-likelihood: -9.916738720512164\n",
      "Iteration: 300\tLog-likelihood: -9.893356713542035\n",
      "Iteration: 400\tLog-likelihood: -9.87931680076398\n",
      "topic 개수 :  10 | 사용된 vocab 수 :  63062 | Coherence 점수 :  -1.5983953211815236 | Perplexity 점수 :  9.87931680076398\n"
     ]
    },
    {
     "name": "stderr",
     "output_type": "stream",
     "text": [
      "Training...\n"
     ]
    },
    {
     "name": "stdout",
     "output_type": "stream",
     "text": [
      "Num docs: 24774 , Vocab size: 63062 , Num words: 14935116\n",
      "Removed top words: []\n",
      "Iteration: 0\tLog-likelihood: -9.987963821302513\n",
      "Iteration: 100\tLog-likelihood: -9.914858845080525\n",
      "Iteration: 200\tLog-likelihood: -9.879159994212547\n",
      "Iteration: 300\tLog-likelihood: -9.859656057011465\n",
      "Iteration: 400\tLog-likelihood: -9.844842154298451\n",
      "topic 개수 :  14 | 사용된 vocab 수 :  63062 | Coherence 점수 :  -1.7723308606513342 | Perplexity 점수 :  9.844842154298451\n"
     ]
    },
    {
     "name": "stderr",
     "output_type": "stream",
     "text": [
      "Training...\n"
     ]
    },
    {
     "name": "stdout",
     "output_type": "stream",
     "text": [
      "Num docs: 24774 , Vocab size: 63062 , Num words: 14935116\n",
      "Removed top words: []\n",
      "Iteration: 0\tLog-likelihood: -9.967657929515635\n",
      "Iteration: 100\tLog-likelihood: -9.879474667345576\n",
      "Iteration: 200\tLog-likelihood: -9.838510770127371\n",
      "Iteration: 300\tLog-likelihood: -9.814763735072933\n",
      "Iteration: 400\tLog-likelihood: -9.799800266640789\n",
      "topic 개수 :  18 | 사용된 vocab 수 :  63062 | Coherence 점수 :  -1.9592127350351451 | Perplexity 점수 :  9.799800266640789\n"
     ]
    },
    {
     "name": "stderr",
     "output_type": "stream",
     "text": [
      "Training...\n"
     ]
    },
    {
     "name": "stdout",
     "output_type": "stream",
     "text": [
      "Num docs: 24774 , Vocab size: 63062 , Num words: 14935116\n",
      "Removed top words: []\n",
      "Iteration: 0\tLog-likelihood: -9.939577289373787\n",
      "Iteration: 100\tLog-likelihood: -9.828330926356681\n",
      "Iteration: 200\tLog-likelihood: -9.777901071973591\n",
      "Iteration: 300\tLog-likelihood: -9.752049903562437\n",
      "Iteration: 400\tLog-likelihood: -9.735613948735605\n",
      "topic 개수 :  22 | 사용된 vocab 수 :  63062 | Coherence 점수 :  -1.5175617067102634 | Perplexity 점수 :  9.735613948735605\n"
     ]
    },
    {
     "name": "stderr",
     "output_type": "stream",
     "text": [
      "Training...\n"
     ]
    },
    {
     "name": "stdout",
     "output_type": "stream",
     "text": [
      "Num docs: 24774 , Vocab size: 63062 , Num words: 14935116\n",
      "Removed top words: []\n",
      "Iteration: 0\tLog-likelihood: -9.922800037507534\n",
      "Iteration: 100\tLog-likelihood: -9.808221749610237\n",
      "Iteration: 200\tLog-likelihood: -9.7569715567301\n",
      "Iteration: 300\tLog-likelihood: -9.727006204828118\n",
      "Iteration: 400\tLog-likelihood: -9.706697316359836\n",
      "topic 개수 :  26 | 사용된 vocab 수 :  63062 | Coherence 점수 :  -1.7625830890705187 | Perplexity 점수 :  9.706697316359836\n"
     ]
    },
    {
     "name": "stderr",
     "output_type": "stream",
     "text": [
      "Training...\n"
     ]
    },
    {
     "name": "stdout",
     "output_type": "stream",
     "text": [
      "Num docs: 24774 , Vocab size: 63062 , Num words: 14935116\n",
      "Removed top words: []\n",
      "Iteration: 0\tLog-likelihood: -9.921798108210448\n",
      "Iteration: 100\tLog-likelihood: -9.803299403301093\n",
      "Iteration: 200\tLog-likelihood: -9.749448986626192\n",
      "Iteration: 300\tLog-likelihood: -9.717581798351928\n",
      "Iteration: 400\tLog-likelihood: -9.697348471594895\n",
      "topic 개수 :  30 | 사용된 vocab 수 :  63062 | Coherence 점수 :  -1.8225250217687856 | Perplexity 점수 :  9.697348471594895\n"
     ]
    },
    {
     "name": "stderr",
     "output_type": "stream",
     "text": [
      "Training...\n"
     ]
    },
    {
     "name": "stdout",
     "output_type": "stream",
     "text": [
      "Num docs: 24774 , Vocab size: 63062 , Num words: 14935116\n",
      "Removed top words: []\n",
      "Iteration: 0\tLog-likelihood: -9.902147175530603\n",
      "Iteration: 100\tLog-likelihood: -9.776844100976998\n",
      "Iteration: 200\tLog-likelihood: -9.720303894528595\n",
      "Iteration: 300\tLog-likelihood: -9.68815743103731\n",
      "Iteration: 400\tLog-likelihood: -9.668393599140831\n",
      "topic 개수 :  34 | 사용된 vocab 수 :  63062 | Coherence 점수 :  -2.4372990780925665 | Perplexity 점수 :  9.668393599140831\n"
     ]
    },
    {
     "name": "stderr",
     "output_type": "stream",
     "text": [
      "Training...\n"
     ]
    },
    {
     "name": "stdout",
     "output_type": "stream",
     "text": [
      "Num docs: 24774 , Vocab size: 63062 , Num words: 14935116\n",
      "Removed top words: []\n",
      "Iteration: 0\tLog-likelihood: -9.862642570748827\n",
      "Iteration: 100\tLog-likelihood: -9.734862525817979\n",
      "Iteration: 200\tLog-likelihood: -9.67846063673563\n",
      "Iteration: 300\tLog-likelihood: -9.647166363987811\n",
      "Iteration: 400\tLog-likelihood: -9.627226758347941\n",
      "topic 개수 :  38 | 사용된 vocab 수 :  63062 | Coherence 점수 :  -1.8191166821084717 | Perplexity 점수 :  9.627226758347941\n"
     ]
    },
    {
     "name": "stderr",
     "output_type": "stream",
     "text": [
      "Training...\n"
     ]
    },
    {
     "name": "stdout",
     "output_type": "stream",
     "text": [
      "Num docs: 24774 , Vocab size: 63062 , Num words: 14935116\n",
      "Removed top words: []\n",
      "Iteration: 0\tLog-likelihood: -9.868338762171255\n",
      "Iteration: 100\tLog-likelihood: -9.737809151273124\n",
      "Iteration: 200\tLog-likelihood: -9.678226324959619\n",
      "Iteration: 300\tLog-likelihood: -9.644095673833284\n",
      "Iteration: 400\tLog-likelihood: -9.623316381960809\n",
      "topic 개수 :  42 | 사용된 vocab 수 :  63062 | Coherence 점수 :  -2.00328549155761 | Perplexity 점수 :  9.623316381960809\n"
     ]
    },
    {
     "name": "stderr",
     "output_type": "stream",
     "text": [
      "Training...\n"
     ]
    },
    {
     "name": "stdout",
     "output_type": "stream",
     "text": [
      "Num docs: 24774 , Vocab size: 63062 , Num words: 14935116\n",
      "Removed top words: []\n",
      "Iteration: 0\tLog-likelihood: -9.836350180694737\n",
      "Iteration: 100\tLog-likelihood: -9.707179560681787\n",
      "Iteration: 200\tLog-likelihood: -9.652542646701555\n",
      "Iteration: 300\tLog-likelihood: -9.620331126676064\n",
      "Iteration: 400\tLog-likelihood: -9.598799647448933\n",
      "topic 개수 :  46 | 사용된 vocab 수 :  63062 | Coherence 점수 :  -2.12539317572878 | Perplexity 점수 :  9.598799647448933\n"
     ]
    },
    {
     "name": "stderr",
     "output_type": "stream",
     "text": [
      "Training...\n"
     ]
    },
    {
     "name": "stdout",
     "output_type": "stream",
     "text": [
      "Num docs: 24774 , Vocab size: 63062 , Num words: 14935116\n",
      "Removed top words: []\n",
      "Iteration: 0\tLog-likelihood: -9.81725781768316\n",
      "Iteration: 100\tLog-likelihood: -9.684830611491082\n",
      "Iteration: 200\tLog-likelihood: -9.627479864181435\n",
      "Iteration: 300\tLog-likelihood: -9.595798959814873\n",
      "Iteration: 400\tLog-likelihood: -9.576454213789223\n",
      "topic 개수 :  50 | 사용된 vocab 수 :  63062 | Coherence 점수 :  -2.197274605207285 | Perplexity 점수 :  9.576454213789223\n"
     ]
    },
    {
     "name": "stderr",
     "output_type": "stream",
     "text": [
      "Training...\n"
     ]
    },
    {
     "name": "stdout",
     "output_type": "stream",
     "text": [
      "Num docs: 24774 , Vocab size: 63062 , Num words: 14935116\n",
      "Removed top words: []\n",
      "Iteration: 0\tLog-likelihood: -9.808848036829854\n",
      "Iteration: 100\tLog-likelihood: -9.66068401019232\n",
      "Iteration: 200\tLog-likelihood: -9.593158436987629\n",
      "Iteration: 300\tLog-likelihood: -9.555355871125764\n",
      "Iteration: 400\tLog-likelihood: -9.531195264183964\n",
      "topic 개수 :  54 | 사용된 vocab 수 :  63062 | Coherence 점수 :  -2.467086038120505 | Perplexity 점수 :  9.531195264183964\n"
     ]
    },
    {
     "name": "stderr",
     "output_type": "stream",
     "text": [
      "Training...\n"
     ]
    },
    {
     "name": "stdout",
     "output_type": "stream",
     "text": [
      "Num docs: 24774 , Vocab size: 63062 , Num words: 14935116\n",
      "Removed top words: []\n",
      "Iteration: 0\tLog-likelihood: -9.792399738655035\n",
      "Iteration: 100\tLog-likelihood: -9.643365023984241\n",
      "Iteration: 200\tLog-likelihood: -9.574120106120372\n",
      "Iteration: 300\tLog-likelihood: -9.536728883236234\n",
      "Iteration: 400\tLog-likelihood: -9.51320507858038\n",
      "topic 개수 :  58 | 사용된 vocab 수 :  63062 | Coherence 점수 :  -2.024733204089739 | Perplexity 점수 :  9.51320507858038\n"
     ]
    },
    {
     "name": "stderr",
     "output_type": "stream",
     "text": [
      "Training...\n"
     ]
    },
    {
     "name": "stdout",
     "output_type": "stream",
     "text": [
      "Num docs: 24774 , Vocab size: 63062 , Num words: 14935116\n",
      "Removed top words: []\n",
      "Iteration: 0\tLog-likelihood: -9.773091362724989\n",
      "Iteration: 100\tLog-likelihood: -9.632933460287987\n",
      "Iteration: 200\tLog-likelihood: -9.572512548924967\n",
      "Iteration: 300\tLog-likelihood: -9.54091742682941\n",
      "Iteration: 400\tLog-likelihood: -9.520877259038958\n",
      "topic 개수 :  62 | 사용된 vocab 수 :  63062 | Coherence 점수 :  -1.8843804703001081 | Perplexity 점수 :  9.520877259038958\n"
     ]
    },
    {
     "name": "stderr",
     "output_type": "stream",
     "text": [
      "Training...\n"
     ]
    },
    {
     "name": "stdout",
     "output_type": "stream",
     "text": [
      "Num docs: 24774 , Vocab size: 63062 , Num words: 14935116\n",
      "Removed top words: []\n",
      "Iteration: 0\tLog-likelihood: -9.774837230554729\n",
      "Iteration: 100\tLog-likelihood: -9.622023465640368\n",
      "Iteration: 200\tLog-likelihood: -9.558155112002932\n",
      "Iteration: 300\tLog-likelihood: -9.523026544356417\n",
      "Iteration: 400\tLog-likelihood: -9.500561122050124\n",
      "topic 개수 :  66 | 사용된 vocab 수 :  63062 | Coherence 점수 :  -2.524731322269412 | Perplexity 점수 :  9.500561122050124\n"
     ]
    },
    {
     "name": "stderr",
     "output_type": "stream",
     "text": [
      "Training...\n"
     ]
    },
    {
     "name": "stdout",
     "output_type": "stream",
     "text": [
      "Num docs: 24774 , Vocab size: 63062 , Num words: 14935116\n",
      "Removed top words: []\n",
      "Iteration: 0\tLog-likelihood: -9.772171447692589\n",
      "Iteration: 100\tLog-likelihood: -9.625016592920467\n",
      "Iteration: 200\tLog-likelihood: -9.558775761884608\n",
      "Iteration: 300\tLog-likelihood: -9.520642411605204\n",
      "Iteration: 400\tLog-likelihood: -9.496902060961451\n",
      "topic 개수 :  70 | 사용된 vocab 수 :  63062 | Coherence 점수 :  -2.381083312897004 | Perplexity 점수 :  9.496902060961451\n"
     ]
    },
    {
     "name": "stderr",
     "output_type": "stream",
     "text": [
      "Training...\n"
     ]
    },
    {
     "name": "stdout",
     "output_type": "stream",
     "text": [
      "Num docs: 24774 , Vocab size: 63062 , Num words: 14935116\n",
      "Removed top words: []\n",
      "Iteration: 0\tLog-likelihood: -9.763561395932042\n",
      "Iteration: 100\tLog-likelihood: -9.606932899119021\n",
      "Iteration: 200\tLog-likelihood: -9.534290857878494\n",
      "Iteration: 300\tLog-likelihood: -9.495041954469386\n",
      "Iteration: 400\tLog-likelihood: -9.470236760992892\n",
      "topic 개수 :  74 | 사용된 vocab 수 :  63062 | Coherence 점수 :  -2.6001254838491503 | Perplexity 점수 :  9.470236760992892\n"
     ]
    },
    {
     "name": "stderr",
     "output_type": "stream",
     "text": [
      "Training...\n"
     ]
    },
    {
     "name": "stdout",
     "output_type": "stream",
     "text": [
      "Num docs: 24774 , Vocab size: 63062 , Num words: 14935116\n",
      "Removed top words: []\n",
      "Iteration: 0\tLog-likelihood: -9.737842386901944\n",
      "Iteration: 100\tLog-likelihood: -9.570061637222292\n",
      "Iteration: 200\tLog-likelihood: -9.49681180661802\n",
      "Iteration: 300\tLog-likelihood: -9.459059604099538\n",
      "Iteration: 400\tLog-likelihood: -9.436747778562493\n",
      "topic 개수 :  78 | 사용된 vocab 수 :  63062 | Coherence 점수 :  -2.930307553494275 | Perplexity 점수 :  9.436747778562493\n"
     ]
    },
    {
     "name": "stderr",
     "output_type": "stream",
     "text": [
      "Training...\n"
     ]
    },
    {
     "name": "stdout",
     "output_type": "stream",
     "text": [
      "Num docs: 24774 , Vocab size: 63062 , Num words: 14935116\n",
      "Removed top words: []\n",
      "Iteration: 0\tLog-likelihood: -9.730850667999695\n",
      "Iteration: 100\tLog-likelihood: -9.572711550966183\n",
      "Iteration: 200\tLog-likelihood: -9.49978663040452\n",
      "Iteration: 300\tLog-likelihood: -9.458643244723927\n",
      "Iteration: 400\tLog-likelihood: -9.434223894333016\n",
      "topic 개수 :  82 | 사용된 vocab 수 :  63062 | Coherence 점수 :  -2.7953879366255756 | Perplexity 점수 :  9.434223894333016\n"
     ]
    },
    {
     "name": "stderr",
     "output_type": "stream",
     "text": [
      "Training...\n"
     ]
    },
    {
     "name": "stdout",
     "output_type": "stream",
     "text": [
      "Num docs: 24774 , Vocab size: 63062 , Num words: 14935116\n",
      "Removed top words: []\n",
      "Iteration: 0\tLog-likelihood: -9.740263159893496\n",
      "Iteration: 100\tLog-likelihood: -9.583909275352307\n",
      "Iteration: 200\tLog-likelihood: -9.51192416259561\n",
      "Iteration: 300\tLog-likelihood: -9.47012265874977\n",
      "Iteration: 400\tLog-likelihood: -9.445289244320382\n",
      "topic 개수 :  86 | 사용된 vocab 수 :  63062 | Coherence 점수 :  -2.432647854342016 | Perplexity 점수 :  9.445289244320382\n"
     ]
    },
    {
     "name": "stderr",
     "output_type": "stream",
     "text": [
      "Training...\n"
     ]
    },
    {
     "name": "stdout",
     "output_type": "stream",
     "text": [
      "Num docs: 24774 , Vocab size: 63062 , Num words: 14935116\n",
      "Removed top words: []\n",
      "Iteration: 0\tLog-likelihood: -9.706546888891621\n",
      "Iteration: 100\tLog-likelihood: -9.541223282105967\n",
      "Iteration: 200\tLog-likelihood: -9.47069726358599\n",
      "Iteration: 300\tLog-likelihood: -9.432861208673541\n",
      "Iteration: 400\tLog-likelihood: -9.410824925006427\n",
      "topic 개수 :  90 | 사용된 vocab 수 :  63062 | Coherence 점수 :  -3.093762229790427 | Perplexity 점수 :  9.410824925006427\n"
     ]
    },
    {
     "name": "stderr",
     "output_type": "stream",
     "text": [
      "Training...\n"
     ]
    },
    {
     "name": "stdout",
     "output_type": "stream",
     "text": [
      "Num docs: 24774 , Vocab size: 63062 , Num words: 14935116\n",
      "Removed top words: []\n",
      "Iteration: 0\tLog-likelihood: -9.699299375188419\n",
      "Iteration: 100\tLog-likelihood: -9.541117068453097\n",
      "Iteration: 200\tLog-likelihood: -9.474746508535569\n",
      "Iteration: 300\tLog-likelihood: -9.437603121320004\n",
      "Iteration: 400\tLog-likelihood: -9.414886200609178\n",
      "topic 개수 :  94 | 사용된 vocab 수 :  63062 | Coherence 점수 :  -2.638865816095971 | Perplexity 점수 :  9.414886200609178\n"
     ]
    },
    {
     "name": "stderr",
     "output_type": "stream",
     "text": [
      "Training...\n"
     ]
    },
    {
     "name": "stdout",
     "output_type": "stream",
     "text": [
      "Num docs: 24774 , Vocab size: 63062 , Num words: 14935116\n",
      "Removed top words: []\n",
      "Iteration: 0\tLog-likelihood: -9.695732105481227\n",
      "Iteration: 100\tLog-likelihood: -9.534044406221648\n",
      "Iteration: 200\tLog-likelihood: -9.464227317682118\n",
      "Iteration: 300\tLog-likelihood: -9.424813633366968\n",
      "Iteration: 400\tLog-likelihood: -9.401705928240908\n",
      "topic 개수 :  98 | 사용된 vocab 수 :  63062 | Coherence 점수 :  -3.032011017821819 | Perplexity 점수 :  9.401705928240908\n"
     ]
    },
    {
     "data": {
      "image/png": "[encoded data removed]",
      "text/plain": [
       "<Figure size 432x288 with 2 Axes>"
      ]
     },
     "metadata": {
      "needs_background": "light"
     },
     "output_type": "display_data"
    }
   ],
   "source": [
    "def compute_coherence_values(df, limit, start=2, step=3): # step : 토픽 몇 개씩 증가하면서 확인할 건지 \n",
    "    \"\"\" Compute c_v coherence for various number of topics Parameters: ---------- dictionary : Gensim dictionary corpus : Gensim corpus texts : List of input texts limit : Max num of topics Returns: ------- model_list : List of LDA topic models coherence_values : Coherence values corresponding to the LDA model with respective number of topics \"\"\" \n",
    "    coherence_values = [] \n",
    "    model_list = [] \n",
    "    perplexity_values =[]\n",
    "    for num_topics in range(start, limit, step): \n",
    "        lda = TopicModeling(df, num_topics)\n",
    "        model = lda.LDA()\n",
    "        lda.train(model)\n",
    "        model_list.append(model) \n",
    "        coherencemodel = lda.get_coherence(model)[0]\n",
    "        perplexitymodel = np.log(model.perplexity)\n",
    "        \n",
    "        coherence_values.append(coherencemodel)\n",
    "        perplexity_values.append(perplexitymodel)\n",
    "        \n",
    "    return model_list, coherence_values, perplexity_values\n",
    "        \n",
    "def find_optimal_number_of_topics(df): \n",
    "    limit = 100; \n",
    "    start = 2; \n",
    "    step = 4; \n",
    "    model_list, coherence_values, perplexity_values = compute_coherence_values(df= df, start=start, limit=limit, step=step)\n",
    "    x = range(start, limit, step) \n",
    "    plt.subplot(1, 2, 1)\n",
    "    plt.plot(x, coherence_values) \n",
    "    plt.xlabel(\"Num Topics\") \n",
    "    plt.ylabel(\"Coherence score\") \n",
    "    plt.legend((\"coherence\"), loc='best') \n",
    "    \n",
    "    plt.subplot(1, 2, 2)\n",
    "    plt.plot(x, perplexity_values) \n",
    "    plt.xlabel(\"Num Topics\") \n",
    "    plt.ylabel(\"Perplexity\") \n",
    "    plt.legend((\"perplexity\"), loc='best') \n",
    "    \n",
    "    plt.tight_layout()\n",
    "    plt.show() \n",
    "    \n",
    "    \n",
    "if __name__ == '__main__': \n",
    "    \n",
    "    print('Number of unique tokens: %d' % len(model.used_vocabs)) \n",
    "    print('Number of documents: %d' % len(df_lex.index))\n",
    "\n",
    "    logging.basicConfig(format='%(asctime)s : %(levelname)s : %(message)s', level=logging.INFO) # 최적의 토픽 수 찾기 \n",
    "    find_optimal_number_of_topics(df_lex)"
   ]
  },
  {
   "cell_type": "code",
   "execution_count": 170,
   "metadata": {},
   "outputs": [
    {
     "name": "stderr",
     "output_type": "stream",
     "text": [
      "Training...\n"
     ]
    },
    {
     "name": "stdout",
     "output_type": "stream",
     "text": [
      "Num docs: 24774 , Vocab size: 63062 , Num words: 14935116\n",
      "Removed top words: []\n",
      "Iteration: 0\tLog-likelihood: -9.808848036829854\n",
      "Iteration: 100\tLog-likelihood: -9.66068401019232\n",
      "Iteration: 200\tLog-likelihood: -9.593158436987629\n",
      "Iteration: 300\tLog-likelihood: -9.555355871125764\n",
      "Iteration: 400\tLog-likelihood: -9.531195264183964\n",
      "topic 개수 :  54 | 사용된 vocab 수 :  63062 | Coherence 점수 :  -2.467086038120505 | Perplexity 점수 :  9.531195264183964\n"
     ]
    },
    {
     "data": {
      "text/plain": [
       "63062"
      ]
     },
     "execution_count": 170,
     "metadata": {},
     "output_type": "execute_result"
    }
   ],
   "source": [
    "lda = TopicModeling(df_lex,54)\n",
    "model = lda.LDA()\n",
    "lda.train(model)\n",
    "lda.get_coherence(model)\n",
    "len(model.used_vocabs)"
   ]
  },
  {
   "cell_type": "code",
   "execution_count": 172,
   "metadata": {},
   "outputs": [
    {
     "name": "stdout",
     "output_type": "stream",
     "text": [
      "Topic #0\tbp, company, oil, million, fund, business, money, bank, tax, economic\n",
      "Topic #1\ttheatre, opera, ballet, dance, 020, theater, dancer, london, festival, production\n",
      "Topic #2\tnovel, awards, actress, book, comedy, literature, drama, fiction, actors, writers\n",
      "Topic #3\tzealand, napoleon, italy, london, vienna, de, wellington, auckland, france, queen\n",
      "Topic #4\tbst, gmt, block, brexit, johnson, eu, labour, minister, uk, timeupdated\n",
      "Topic #5\tblack, slavery, african, slave, racism, civil, confederate, law, court, negative\n",
      "Topic #6\tfather, university, college, school, die, death, mother, student, mr, family\n",
      "Topic #7\tbaseball, game, sports, player, league, team, sport, football, fame, hall\n",
      "Topic #8\tpm, 212, street, am, saturday, sunday, avenue, brooklyn, friday, 718\n",
      "Topic #9\tfeel, think, like, thing, want, way, people, look, tell, kind\n",
      "Topic #10\tbauhaus, annabelle, roth, snowden, conjuring, vera, farmiga, doll, warren, kenosha\n",
      "Topic #11\tgreece, greek, british, sculpture, athens, elgin, parthenon, marble, museum, marbles\n",
      "Topic #12\tnetflix, television, episode, bbc, tv, series, rogen, streaming, comedy, season\n",
      "Topic #13\tauction, sale, royalty, antiques, sell, prince, sotheby, collectibles, collector, queen\n",
      "Topic #14\tcanada, toronto, canadian, ontario, indigenous, quebec, montreal, ottawa, vancouver, orleans\n",
      "Topic #15\tkorea, china, korean, seoul, chinese, 02, hong, singapore, kong, won\n",
      "Topic #16\tpm, am, 203, 860, saturdays, sundays, aug, noon, 495, july\n",
      "Topic #17\tman, woman, sex, male, sexual, female, power, horror, character, monster\n",
      "Topic #18\ttrump, presidential, us, president, mr, candidate, obama, election, biden, political\n",
      "Topic #19\taustralia, australian, breward, sydney, indigenous, aboriginal, ireland, melbourne, canberra, dublin\n",
      "Topic #20\thenson, 212, halilaj, reubens, farago212, wilder, vo, musgrave, kosovo, metmuseumorg\n",
      "Topic #21\thuman, dr, scientist, animal, researcher, dna, science, cave, research, bone\n",
      "Topic #22\tbuilding, architecture, city, design, architect, architectural, house, space, floor, build\n",
      "Topic #23\tmexico, nft, mexican, spanish, randi, texas, fenn, cuba, maya, peru\n",
      "Topic #24\tmusic, musician, song, album, instrument, musical, singers, band, jazz, rock\n",
      "Topic #25\tfilm, movie, disney, films, documentary, star, character, hollywood, animation, actors\n",
      "Topic #26\tpainting, art, gallery, artist, tate, artists, london, drawing, exhibition, portrait\n",
      "Topic #27\thotel, tour, park, travel, attraction, tourist, town, visit, beach, tourism\n",
      "Topic #28\tinternet, computer, digital, video, technology, google, virtual, networking, online, student\n",
      "Topic #29\tiraq, islamic, syria, isis, iran, al, islam, palmyra, muslims, syrian\n",
      "Topic #30\tindia, antiquity, steal, dealer, afghanistan, theft, loot, item, investigation, mr\n",
      "Topic #31\tartist, art, painting, sculpture, artists, visual, work, performer, paint, contemporary\n",
      "Topic #32\tpm, 631, 215, am5, 516, 10, free, am4, rd, senior\n",
      "Topic #33\tcoin, metal, treasure, hoard, gold, coinage, coins, detectorist, roman, find\n",
      "Topic #34\tarchaeology, ancient, site, archaeologist, excavation, archaeological, egypt, tomb, stone, anthropology\n",
      "Topic #35\tdetroit, car, ford, manufacturing, ullmann, sir, motor, vehicle, michigan, 57\n",
      "Topic #36\tisrael, jewish, jews, jerusalem, holocaust, israeli, synagogue, judaism, tel, auschwitz\n",
      "Topic #37\tchicago, 212, art, sept, jan, oct, feb, cotter, museum, 312\n",
      "Topic #38\tbook, novel, literature, write, writer, writers, poem, fiction, poetry, read\n",
      "Topic #39\tchicago, library, philadelphia, lincoln, libraries, usa, exhibit, collection, illinois, historic\n",
      "Topic #40\tpolice, attack, war, military, forces, crime, officer, kill, weapon, army\n",
      "Topic #41\trestaurant, food, wine, chef, bar, menu, beer, drink, cheese, dish\n",
      "Topic #42\tgermany, russian, ukraine, berlin, benin, russia, german, france, nigeria, africa\n",
      "Topic #43\tstore, shop, ms, room, table, sell, buy, mr, glass, vintage\n",
      "Topic #44\tservice, mrs, community, royal, charity, nhs, trust, education, chief, john\n",
      "Topic #45\tspace, moon, nasa, apollo, armstrong, earth, astronaut, spacecraft, exploration, lunar\n",
      "Topic #46\tfashion, japan, japanese, designer, tokyo, manga, design, dress, wear, apparel\n",
      "Topic #47\tchristmas, card, rogers, parent, tulsa, child, hughes, kid, happy, fitzgerald\n",
      "Topic #48\tcoronavirus, health, covid19, pandemic, disease, virus, covid, medical, patient, vaccine\n",
      "Topic #49\tland, tribe, native, california, canyon, fire, water, county, parks, monument\n",
      "Topic #50\tchurch, religious, catholic, christians, christianity, bible, pope, religion, cathedral, catholics\n",
      "Topic #51\tship, marine, island, sea, wreck, ocean, arctic, boat, shipwreck, titanic\n",
      "Topic #52\tdirect, rd, subtitle, iib, iia, jun, ifc, elements, cityplaza, jma\n",
      "Topic #53\tmr, los, angeles, ms, york, american, times, usa, photographer, california\n"
     ]
    }
   ],
   "source": [
    "for i in range(model.k):\n",
    "    res = model.get_topic_words(i, top_n=10) # top 10\n",
    "    print('Topic #{}'.format(i), end='\\t')\n",
    "    print(', '.join(w for w, p in res))"
   ]
  },
  {
   "cell_type": "markdown",
   "metadata": {},
   "source": [
    "### 문서별 토픽 분포"
   ]
  },
  {
   "cell_type": "code",
   "execution_count": 173,
   "metadata": {},
   "outputs": [
    {
     "data": {
      "application/vnd.jupyter.widget-view+json": {
       "model_id": "8636b7ce1fdc4e44ac1a76f9cedef8b5",
       "version_major": 2,
       "version_minor": 0
      },
      "text/plain": [
       "  0%|          | 0/24774 [00:00<?, ?it/s]"
      ]
     },
     "metadata": {},
     "output_type": "display_data"
    },
    {
     "name": "stderr",
     "output_type": "stream",
     "text": [
      "/var/folders/q9/1ydypryj47n2g37569rqj0p80000gn/T/ipykernel_14867/2682217599.py:7: SettingWithCopyWarning: \n",
      "A value is trying to be set on a copy of a slice from a DataFrame\n",
      "\n",
      "See the caveats in the documentation: https://pandas.pydata.org/pandas-docs/stable/user_guide/indexing.html#returning-a-view-versus-a-copy\n",
      "  df_lex['topic_dist'][i] = model.docs[i].get_topics(top_n=54)\n",
      "/var/folders/q9/1ydypryj47n2g37569rqj0p80000gn/T/ipykernel_14867/2682217599.py:8: SettingWithCopyWarning: \n",
      "A value is trying to be set on a copy of a slice from a DataFrame\n",
      "\n",
      "See the caveats in the documentation: https://pandas.pydata.org/pandas-docs/stable/user_guide/indexing.html#returning-a-view-versus-a-copy\n",
      "  df_lex['top_topic'][i] = model.docs[i].get_topics()[0][0]\n",
      "/var/folders/q9/1ydypryj47n2g37569rqj0p80000gn/T/ipykernel_14867/2682217599.py:10: SettingWithCopyWarning: \n",
      "A value is trying to be set on a copy of a slice from a DataFrame\n",
      "\n",
      "See the caveats in the documentation: https://pandas.pydata.org/pandas-docs/stable/user_guide/indexing.html#returning-a-view-versus-a-copy\n",
      "  df_lex['topic_words'][i] =', '.join(w for w, p in res)\n"
     ]
    }
   ],
   "source": [
    "df_lex['top_topic'] = 0\n",
    "df_lex['topic_dist'] = 0\n",
    "df_lex['topic_words']= 0\n",
    "\n",
    "for i in tqdm(range(len(model.docs))) :\n",
    "  \n",
    "  df_lex['topic_dist'][i] = model.docs[i].get_topics(top_n=54)\n",
    "  df_lex['top_topic'][i] = model.docs[i].get_topics()[0][0]\n",
    "  res=model.get_topic_words(df_lex['top_topic'][i], top_n=10)\n",
    "  df_lex['topic_words'][i] =', '.join(w for w, p in res)"
   ]
  },
  {
   "cell_type": "code",
   "execution_count": 174,
   "metadata": {},
   "outputs": [],
   "source": [
    "df_lex.to_pickle('./대영박물관_article_분석 결과.pickle')"
   ]
  },
  {
   "cell_type": "code",
   "execution_count": 4,
   "metadata": {},
   "outputs": [],
   "source": [
    "df_lex = pd.read_pickle(('./대영박물관_article_분석 결과.pickle'))"
   ]
  },
  {
   "cell_type": "code",
   "execution_count": 175,
   "metadata": {},
   "outputs": [
    {
     "data": {
      "text/html": [
       "<div>\n",
       "<style scoped>\n",
       "    .dataframe tbody tr th:only-of-type {\n",
       "        vertical-align: middle;\n",
       "    }\n",
       "\n",
       "    .dataframe tbody tr th {\n",
       "        vertical-align: top;\n",
       "    }\n",
       "\n",
       "    .dataframe thead th {\n",
       "        text-align: right;\n",
       "    }\n",
       "</style>\n",
       "<table border=\"1\" class=\"dataframe\">\n",
       "  <thead>\n",
       "    <tr style=\"text-align: right;\">\n",
       "      <th></th>\n",
       "      <th>top_topic</th>\n",
       "    </tr>\n",
       "  </thead>\n",
       "  <tbody>\n",
       "    <tr>\n",
       "      <th>9</th>\n",
       "      <td>2295</td>\n",
       "    </tr>\n",
       "    <tr>\n",
       "      <th>0</th>\n",
       "      <td>1365</td>\n",
       "    </tr>\n",
       "    <tr>\n",
       "      <th>26</th>\n",
       "      <td>1041</td>\n",
       "    </tr>\n",
       "    <tr>\n",
       "      <th>11</th>\n",
       "      <td>1027</td>\n",
       "    </tr>\n",
       "    <tr>\n",
       "      <th>39</th>\n",
       "      <td>980</td>\n",
       "    </tr>\n",
       "    <tr>\n",
       "      <th>34</th>\n",
       "      <td>945</td>\n",
       "    </tr>\n",
       "    <tr>\n",
       "      <th>27</th>\n",
       "      <td>924</td>\n",
       "    </tr>\n",
       "    <tr>\n",
       "      <th>5</th>\n",
       "      <td>648</td>\n",
       "    </tr>\n",
       "    <tr>\n",
       "      <th>29</th>\n",
       "      <td>647</td>\n",
       "    </tr>\n",
       "    <tr>\n",
       "      <th>36</th>\n",
       "      <td>618</td>\n",
       "    </tr>\n",
       "    <tr>\n",
       "      <th>24</th>\n",
       "      <td>574</td>\n",
       "    </tr>\n",
       "    <tr>\n",
       "      <th>28</th>\n",
       "      <td>548</td>\n",
       "    </tr>\n",
       "    <tr>\n",
       "      <th>15</th>\n",
       "      <td>547</td>\n",
       "    </tr>\n",
       "    <tr>\n",
       "      <th>40</th>\n",
       "      <td>541</td>\n",
       "    </tr>\n",
       "    <tr>\n",
       "      <th>25</th>\n",
       "      <td>541</td>\n",
       "    </tr>\n",
       "    <tr>\n",
       "      <th>42</th>\n",
       "      <td>516</td>\n",
       "    </tr>\n",
       "    <tr>\n",
       "      <th>33</th>\n",
       "      <td>509</td>\n",
       "    </tr>\n",
       "    <tr>\n",
       "      <th>18</th>\n",
       "      <td>498</td>\n",
       "    </tr>\n",
       "    <tr>\n",
       "      <th>1</th>\n",
       "      <td>497</td>\n",
       "    </tr>\n",
       "    <tr>\n",
       "      <th>21</th>\n",
       "      <td>491</td>\n",
       "    </tr>\n",
       "    <tr>\n",
       "      <th>22</th>\n",
       "      <td>485</td>\n",
       "    </tr>\n",
       "    <tr>\n",
       "      <th>30</th>\n",
       "      <td>481</td>\n",
       "    </tr>\n",
       "    <tr>\n",
       "      <th>51</th>\n",
       "      <td>449</td>\n",
       "    </tr>\n",
       "    <tr>\n",
       "      <th>41</th>\n",
       "      <td>425</td>\n",
       "    </tr>\n",
       "    <tr>\n",
       "      <th>13</th>\n",
       "      <td>408</td>\n",
       "    </tr>\n",
       "    <tr>\n",
       "      <th>49</th>\n",
       "      <td>403</td>\n",
       "    </tr>\n",
       "    <tr>\n",
       "      <th>7</th>\n",
       "      <td>399</td>\n",
       "    </tr>\n",
       "    <tr>\n",
       "      <th>31</th>\n",
       "      <td>392</td>\n",
       "    </tr>\n",
       "    <tr>\n",
       "      <th>43</th>\n",
       "      <td>371</td>\n",
       "    </tr>\n",
       "    <tr>\n",
       "      <th>19</th>\n",
       "      <td>369</td>\n",
       "    </tr>\n",
       "    <tr>\n",
       "      <th>4</th>\n",
       "      <td>345</td>\n",
       "    </tr>\n",
       "    <tr>\n",
       "      <th>2</th>\n",
       "      <td>339</td>\n",
       "    </tr>\n",
       "    <tr>\n",
       "      <th>35</th>\n",
       "      <td>339</td>\n",
       "    </tr>\n",
       "    <tr>\n",
       "      <th>53</th>\n",
       "      <td>339</td>\n",
       "    </tr>\n",
       "    <tr>\n",
       "      <th>6</th>\n",
       "      <td>314</td>\n",
       "    </tr>\n",
       "    <tr>\n",
       "      <th>48</th>\n",
       "      <td>272</td>\n",
       "    </tr>\n",
       "    <tr>\n",
       "      <th>8</th>\n",
       "      <td>259</td>\n",
       "    </tr>\n",
       "    <tr>\n",
       "      <th>38</th>\n",
       "      <td>250</td>\n",
       "    </tr>\n",
       "    <tr>\n",
       "      <th>3</th>\n",
       "      <td>243</td>\n",
       "    </tr>\n",
       "    <tr>\n",
       "      <th>17</th>\n",
       "      <td>239</td>\n",
       "    </tr>\n",
       "    <tr>\n",
       "      <th>45</th>\n",
       "      <td>225</td>\n",
       "    </tr>\n",
       "    <tr>\n",
       "      <th>46</th>\n",
       "      <td>224</td>\n",
       "    </tr>\n",
       "    <tr>\n",
       "      <th>12</th>\n",
       "      <td>218</td>\n",
       "    </tr>\n",
       "    <tr>\n",
       "      <th>14</th>\n",
       "      <td>203</td>\n",
       "    </tr>\n",
       "    <tr>\n",
       "      <th>50</th>\n",
       "      <td>178</td>\n",
       "    </tr>\n",
       "    <tr>\n",
       "      <th>32</th>\n",
       "      <td>168</td>\n",
       "    </tr>\n",
       "    <tr>\n",
       "      <th>23</th>\n",
       "      <td>163</td>\n",
       "    </tr>\n",
       "    <tr>\n",
       "      <th>37</th>\n",
       "      <td>125</td>\n",
       "    </tr>\n",
       "    <tr>\n",
       "      <th>52</th>\n",
       "      <td>100</td>\n",
       "    </tr>\n",
       "    <tr>\n",
       "      <th>44</th>\n",
       "      <td>90</td>\n",
       "    </tr>\n",
       "    <tr>\n",
       "      <th>47</th>\n",
       "      <td>86</td>\n",
       "    </tr>\n",
       "    <tr>\n",
       "      <th>20</th>\n",
       "      <td>50</td>\n",
       "    </tr>\n",
       "    <tr>\n",
       "      <th>10</th>\n",
       "      <td>36</td>\n",
       "    </tr>\n",
       "    <tr>\n",
       "      <th>16</th>\n",
       "      <td>35</td>\n",
       "    </tr>\n",
       "  </tbody>\n",
       "</table>\n",
       "</div>"
      ],
      "text/plain": [
       "    top_topic\n",
       "9        2295\n",
       "0        1365\n",
       "26       1041\n",
       "11       1027\n",
       "39        980\n",
       "34        945\n",
       "27        924\n",
       "5         648\n",
       "29        647\n",
       "36        618\n",
       "24        574\n",
       "28        548\n",
       "15        547\n",
       "40        541\n",
       "25        541\n",
       "42        516\n",
       "33        509\n",
       "18        498\n",
       "1         497\n",
       "21        491\n",
       "22        485\n",
       "30        481\n",
       "51        449\n",
       "41        425\n",
       "13        408\n",
       "49        403\n",
       "7         399\n",
       "31        392\n",
       "43        371\n",
       "19        369\n",
       "4         345\n",
       "2         339\n",
       "35        339\n",
       "53        339\n",
       "6         314\n",
       "48        272\n",
       "8         259\n",
       "38        250\n",
       "3         243\n",
       "17        239\n",
       "45        225\n",
       "46        224\n",
       "12        218\n",
       "14        203\n",
       "50        178\n",
       "32        168\n",
       "23        163\n",
       "37        125\n",
       "52        100\n",
       "44         90\n",
       "47         86\n",
       "20         50\n",
       "10         36\n",
       "16         35"
      ]
     },
     "execution_count": 175,
     "metadata": {},
     "output_type": "execute_result"
    }
   ],
   "source": [
    "topic_dist=df_lex['top_topic'].value_counts()\n",
    "topic_dist = pd.DataFrame(topic_dist)\n",
    "topic_dist"
   ]
  },
  {
   "cell_type": "code",
   "execution_count": 176,
   "metadata": {},
   "outputs": [
    {
     "data": {
      "image/png": "[encoded data removed]",
      "text/plain": [
       "<Figure size 1440x1440 with 1 Axes>"
      ]
     },
     "metadata": {
      "needs_background": "light"
     },
     "output_type": "display_data"
    }
   ],
   "source": [
    "plt.bar(topic_dist.index, topic_dist['top_topic']) \n",
    "plt.xlabel(\"Topic Number\") \n",
    "plt.ylabel(\"Docs\") \n",
    "plt.legend((\"docs number\"), loc='best') \n",
    "plt.rcParams['figure.figsize'] = [20, 20]\n",
    "\n",
    "\n",
    "plt.show()"
   ]
  },
  {
   "cell_type": "code",
   "execution_count": 128,
   "metadata": {},
   "outputs": [],
   "source": [
    "df_vocab_lex= pd.DataFrame(zip(model.vocabs, model.vocab_freq, model.vocab_df), columns= ['vocab', 'vocab_freq', 'vocab_df'])"
   ]
  },
  {
   "cell_type": "code",
   "execution_count": 131,
   "metadata": {},
   "outputs": [
    {
     "name": "stderr",
     "output_type": "stream",
     "text": [
      "Exception ignored in: <function tqdm.__del__ at 0x7fa6ccb43790>\n",
      "Traceback (most recent call last):\n",
      "  File \"/Users/brightcircle/miniconda3/lib/python3.9/site-packages/tqdm/std.py\", line 1146, in __del__\n",
      "    def __del__(self):\n",
      "KeyboardInterrupt: \n"
     ]
    }
   ],
   "source": [
    "df_vocab_lex.to_excel('대영박물관_Article_vocab.xlsx')"
   ]
  },
  {
   "cell_type": "code",
   "execution_count": 134,
   "metadata": {},
   "outputs": [
    {
     "data": {
      "text/plain": [
       "['Los Angeles Times',\n",
       " 'The Guardian',\n",
       " 'Jerusalem Post',\n",
       " 'The New York Times',\n",
       " 'Newsday (New York)',\n",
       " 'The Toronto Star',\n",
       " 'Chicago Tribune',\n",
       " 'Financial Times (London, England)',\n",
       " 'The Independent (London)',\n",
       " 'The Australian',\n",
       " 'International New York Times',\n",
       " 'National Post (f/k/a The Financial Post) (Canada)',\n",
       " 'The Age (Melbourne, Australia)',\n",
       " 'Independent.co.uk',\n",
       " 'The Sunday Telegraph (London)',\n",
       " 'The Sunday Times (London)',\n",
       " 'The Philadelphia Inquirer',\n",
       " 'The Daily Telegraph (Australia)',\n",
       " 'Daily News (New York)',\n",
       " 'The Washington Times',\n",
       " 'DAILY MAIL (London)',\n",
       " 'The New York Times Blogs',\n",
       " 'The Times (London)',\n",
       " 'mirror.co.uk',\n",
       " 'Daily Record and Sunday Mail',\n",
       " 'THE KOREA HERALD',\n",
       " 'South China Morning Post',\n",
       " 'The Japan News',\n",
       " 'USA TODAY',\n",
       " 'Australian Financial Review',\n",
       " 'Detroit Free Press (Michigan)',\n",
       " 'Korea Times',\n",
       " 'The Herald (Glasgow)',\n",
       " 'The Sun (England)',\n",
       " 'The Daily Telegraph (London)',\n",
       " 'The Press (Christchurch, New Zealand)',\n",
       " 'thestar.com',\n",
       " 'The Jerusalem Report',\n",
       " 'The Moscow Times',\n",
       " 'Wall Street Journal Abstracts',\n",
       " 'The New Zealand Herald',\n",
       " 'The Sun Herald (Sydney, Australia)',\n",
       " 'Sydney Morning Herald (Australia)',\n",
       " 'Business Day (South Africa)',\n",
       " 'Belfast Telegraph',\n",
       " 'The Advertiser (Australia)',\n",
       " 'MAIL ON SUNDAY (London)',\n",
       " 'Daily Mirror',\n",
       " 'The Straits Times (Singapore)',\n",
       " 'The Nation (Thailand)',\n",
       " 'The Observer (London)',\n",
       " 'Canberra Times (Australia)',\n",
       " 'The Dominion Post (Wellington, New Zealand)',\n",
       " 'The Business Times Singapore',\n",
       " 'The Irish Times',\n",
       " 'New Straits Times (Malaysia)',\n",
       " 'The Courier Mail (Australia)',\n",
       " 'The West Australian (Perth)',\n",
       " 'Independent Magazine',\n",
       " 'The New Review',\n",
       " 'Brisbane News (Australia)',\n",
       " 'Independent Traveller',\n",
       " 'The Australian Magazine',\n",
       " 'Northern Territory News (Australia)',\n",
       " 'Hobart Mercury (Australia)',\n",
       " 'Sunday Age (Melbourne, Australia)',\n",
       " nan,\n",
       " 'The Sunday Herald (Glasgow)',\n",
       " 'The Independent - Daily Edition',\n",
       " 'The Independent (United Kingdom)',\n",
       " 'Guardian.com.',\n",
       " 'The Guardian - Final Edition',\n",
       " 'Guardian.com',\n",
       " 'Best Weekend',\n",
       " 'wish Magazine',\n",
       " 'The Sunday Mail (Queensland, Australia)',\n",
       " 'The New York Times - International Edition',\n",
       " 'The Guardian(London)',\n",
       " 'The Observer(London)',\n",
       " 'Wish Magazine',\n",
       " 'Delicate work to restore museum objects after major fire',\n",
       " 'The Guardian (London)',\n",
       " 'Mail on Sunday (London)']"
      ]
     },
     "execution_count": 134,
     "metadata": {},
     "output_type": "execute_result"
    }
   ],
   "source": [
    "df_lex['Newspaper'].unique().tolist()"
   ]
  },
  {
   "cell_type": "markdown",
   "metadata": {},
   "source": [
    "### 국가 기준 DMR"
   ]
  },
  {
   "cell_type": "markdown",
   "metadata": {},
   "source": [
    "#### 각 신문사 출판 국가 리스트 - 수기로 작성"
   ]
  },
  {
   "cell_type": "code",
   "execution_count": 135,
   "metadata": {},
   "outputs": [],
   "source": [
    "df_news = pd.DataFrame(df_lex['Newspaper'].unique().tolist())"
   ]
  },
  {
   "cell_type": "code",
   "execution_count": 137,
   "metadata": {},
   "outputs": [],
   "source": [
    "df_news.to_excel('./대영박물관_신문사list.xlsx')"
   ]
  },
  {
   "cell_type": "code",
   "execution_count": 138,
   "metadata": {},
   "outputs": [],
   "source": [
    "df_news = pd.read_excel('./대영박물관_신문사list.xlsx')"
   ]
  },
  {
   "cell_type": "code",
   "execution_count": 139,
   "metadata": {},
   "outputs": [
    {
     "data": {
      "text/html": [
       "<div>\n",
       "<style scoped>\n",
       "    .dataframe tbody tr th:only-of-type {\n",
       "        vertical-align: middle;\n",
       "    }\n",
       "\n",
       "    .dataframe tbody tr th {\n",
       "        vertical-align: top;\n",
       "    }\n",
       "\n",
       "    .dataframe thead th {\n",
       "        text-align: right;\n",
       "    }\n",
       "</style>\n",
       "<table border=\"1\" class=\"dataframe\">\n",
       "  <thead>\n",
       "    <tr style=\"text-align: right;\">\n",
       "      <th></th>\n",
       "      <th>Unnamed: 0</th>\n",
       "      <th>Newspaper</th>\n",
       "      <th>Country</th>\n",
       "    </tr>\n",
       "  </thead>\n",
       "  <tbody>\n",
       "    <tr>\n",
       "      <th>0</th>\n",
       "      <td>0</td>\n",
       "      <td>Los Angeles Times</td>\n",
       "      <td>USA</td>\n",
       "    </tr>\n",
       "    <tr>\n",
       "      <th>1</th>\n",
       "      <td>1</td>\n",
       "      <td>The Guardian</td>\n",
       "      <td>UK</td>\n",
       "    </tr>\n",
       "    <tr>\n",
       "      <th>2</th>\n",
       "      <td>2</td>\n",
       "      <td>Jerusalem Post</td>\n",
       "      <td>Israel</td>\n",
       "    </tr>\n",
       "    <tr>\n",
       "      <th>3</th>\n",
       "      <td>3</td>\n",
       "      <td>The New York Times</td>\n",
       "      <td>USA</td>\n",
       "    </tr>\n",
       "    <tr>\n",
       "      <th>4</th>\n",
       "      <td>4</td>\n",
       "      <td>Newsday (New York)</td>\n",
       "      <td>USA</td>\n",
       "    </tr>\n",
       "    <tr>\n",
       "      <th>...</th>\n",
       "      <td>...</td>\n",
       "      <td>...</td>\n",
       "      <td>...</td>\n",
       "    </tr>\n",
       "    <tr>\n",
       "      <th>78</th>\n",
       "      <td>78</td>\n",
       "      <td>The Observer(London)</td>\n",
       "      <td>UK</td>\n",
       "    </tr>\n",
       "    <tr>\n",
       "      <th>79</th>\n",
       "      <td>79</td>\n",
       "      <td>Wish Magazine</td>\n",
       "      <td>Australia</td>\n",
       "    </tr>\n",
       "    <tr>\n",
       "      <th>80</th>\n",
       "      <td>80</td>\n",
       "      <td>Delicate work to restore museum objects after ...</td>\n",
       "      <td>etc.</td>\n",
       "    </tr>\n",
       "    <tr>\n",
       "      <th>81</th>\n",
       "      <td>81</td>\n",
       "      <td>The Guardian (London)</td>\n",
       "      <td>UK</td>\n",
       "    </tr>\n",
       "    <tr>\n",
       "      <th>82</th>\n",
       "      <td>82</td>\n",
       "      <td>Mail on Sunday (London)</td>\n",
       "      <td>UK</td>\n",
       "    </tr>\n",
       "  </tbody>\n",
       "</table>\n",
       "<p>83 rows × 3 columns</p>\n",
       "</div>"
      ],
      "text/plain": [
       "    Unnamed: 0                                          Newspaper    Country\n",
       "0            0                                  Los Angeles Times        USA\n",
       "1            1                                       The Guardian         UK\n",
       "2            2                                     Jerusalem Post     Israel\n",
       "3            3                                 The New York Times        USA\n",
       "4            4                                 Newsday (New York)        USA\n",
       "..         ...                                                ...        ...\n",
       "78          78                               The Observer(London)         UK\n",
       "79          79                                      Wish Magazine  Australia\n",
       "80          80  Delicate work to restore museum objects after ...       etc.\n",
       "81          81                              The Guardian (London)         UK\n",
       "82          82                            Mail on Sunday (London)         UK\n",
       "\n",
       "[83 rows x 3 columns]"
      ]
     },
     "execution_count": 139,
     "metadata": {},
     "output_type": "execute_result"
    }
   ],
   "source": [
    "df_news"
   ]
  },
  {
   "cell_type": "code",
   "execution_count": 5,
   "metadata": {},
   "outputs": [
    {
     "data": {
      "text/html": [
       "<div>\n",
       "<style scoped>\n",
       "    .dataframe tbody tr th:only-of-type {\n",
       "        vertical-align: middle;\n",
       "    }\n",
       "\n",
       "    .dataframe tbody tr th {\n",
       "        vertical-align: top;\n",
       "    }\n",
       "\n",
       "    .dataframe thead th {\n",
       "        text-align: right;\n",
       "    }\n",
       "</style>\n",
       "<table border=\"1\" class=\"dataframe\">\n",
       "  <thead>\n",
       "    <tr style=\"text-align: right;\">\n",
       "      <th></th>\n",
       "      <th>Newspaper</th>\n",
       "      <th>Date</th>\n",
       "      <th>Length</th>\n",
       "      <th>Author</th>\n",
       "      <th>Headline</th>\n",
       "      <th>Article</th>\n",
       "      <th>token</th>\n",
       "      <th>top_topic</th>\n",
       "      <th>topic_dist</th>\n",
       "      <th>topic_words</th>\n",
       "      <th>Country</th>\n",
       "    </tr>\n",
       "  </thead>\n",
       "  <tbody>\n",
       "    <tr>\n",
       "      <th>0</th>\n",
       "      <td>Los Angeles Times</td>\n",
       "      <td>2015-06-26</td>\n",
       "      <td>642 words</td>\n",
       "      <td>Stephen Ceasar</td>\n",
       "      <td>LOS ANGELES; Legal battle over massive emerald...</td>\n",
       "      <td>The more than six-year legal battle over the B...</td>\n",
       "      <td>[year, legal, battle, bahia, emerald, reach, c...</td>\n",
       "      <td>30</td>\n",
       "      <td>[(30, 0.35383737087249756), (49, 0.15144985914...</td>\n",
       "      <td>india, antiquity, steal, dealer, afghanistan, ...</td>\n",
       "      <td>USA</td>\n",
       "    </tr>\n",
       "    <tr>\n",
       "      <th>1</th>\n",
       "      <td>The Guardian</td>\n",
       "      <td>2015-06-26</td>\n",
       "      <td>1934 words</td>\n",
       "      <td>Keith Stuart</td>\n",
       "      <td>Hearthstone: how a game developer turned 30m p...</td>\n",
       "      <td>On the set of ITV's costume drama Mr Selfridge...</td>\n",
       "      <td>[set, itv, costume, drama, mr, selfridge, quie...</td>\n",
       "      <td>28</td>\n",
       "      <td>[(28, 0.2616443634033203), (7, 0.2563472986221...</td>\n",
       "      <td>internet, computer, digital, video, technology...</td>\n",
       "      <td>UK</td>\n",
       "    </tr>\n",
       "    <tr>\n",
       "      <th>2</th>\n",
       "      <td>The Guardian</td>\n",
       "      <td>2015-06-26</td>\n",
       "      <td>628 words</td>\n",
       "      <td>Maraithe Thomas in New York</td>\n",
       "      <td>My afternoon at the Seinfeld apartment; A new ...</td>\n",
       "      <td>Related: Seinfeld on Hulu: which episodes sho...</td>\n",
       "      <td>[relate, seinfeld, hulu, episode, download, tu...</td>\n",
       "      <td>9</td>\n",
       "      <td>[(9, 0.2603209316730499), (43, 0.1685303896665...</td>\n",
       "      <td>feel, think, like, thing, want, way, people, l...</td>\n",
       "      <td>UK</td>\n",
       "    </tr>\n",
       "    <tr>\n",
       "      <th>3</th>\n",
       "      <td>Jerusalem Post</td>\n",
       "      <td>2015-06-26</td>\n",
       "      <td>1152 words</td>\n",
       "      <td>MEITAL SHARABI</td>\n",
       "      <td>Tiberias: Israel's diamond in the rough</td>\n",
       "      <td>The Kinneret is one of the most beautiful spot...</td>\n",
       "      <td>[kinneret, beautiful, spot, country, reason, p...</td>\n",
       "      <td>36</td>\n",
       "      <td>[(36, 0.32701045274734497), (27, 0.16811439394...</td>\n",
       "      <td>israel, jewish, jews, jerusalem, holocaust, is...</td>\n",
       "      <td>Israel</td>\n",
       "    </tr>\n",
       "    <tr>\n",
       "      <th>4</th>\n",
       "      <td>Los Angeles Times</td>\n",
       "      <td>2015-06-26</td>\n",
       "      <td>1128 words</td>\n",
       "      <td>NaN</td>\n",
       "      <td>LETTERS</td>\n",
       "      <td>He's served L.A. well Re \"Patt Morrison Asks: ...</td>\n",
       "      <td>[serve, la, patt, morrison, ask, tom, labonge,...</td>\n",
       "      <td>9</td>\n",
       "      <td>[(9, 0.13993221521377563), (49, 0.137082636356...</td>\n",
       "      <td>feel, think, like, thing, want, way, people, l...</td>\n",
       "      <td>USA</td>\n",
       "    </tr>\n",
       "  </tbody>\n",
       "</table>\n",
       "</div>"
      ],
      "text/plain": [
       "           Newspaper        Date      Length                       Author  \\\n",
       "0  Los Angeles Times  2015-06-26   642 words               Stephen Ceasar   \n",
       "1       The Guardian  2015-06-26  1934 words                 Keith Stuart   \n",
       "2       The Guardian  2015-06-26   628 words  Maraithe Thomas in New York   \n",
       "3     Jerusalem Post  2015-06-26  1152 words               MEITAL SHARABI   \n",
       "4  Los Angeles Times  2015-06-26  1128 words                          NaN   \n",
       "\n",
       "                                            Headline  \\\n",
       "0  LOS ANGELES; Legal battle over massive emerald...   \n",
       "1  Hearthstone: how a game developer turned 30m p...   \n",
       "2  My afternoon at the Seinfeld apartment; A new ...   \n",
       "3            Tiberias: Israel's diamond in the rough   \n",
       "4                                            LETTERS   \n",
       "\n",
       "                                             Article  \\\n",
       "0  The more than six-year legal battle over the B...   \n",
       "1  On the set of ITV's costume drama Mr Selfridge...   \n",
       "2   Related: Seinfeld on Hulu: which episodes sho...   \n",
       "3  The Kinneret is one of the most beautiful spot...   \n",
       "4  He's served L.A. well Re \"Patt Morrison Asks: ...   \n",
       "\n",
       "                                               token  top_topic  \\\n",
       "0  [year, legal, battle, bahia, emerald, reach, c...         30   \n",
       "1  [set, itv, costume, drama, mr, selfridge, quie...         28   \n",
       "2  [relate, seinfeld, hulu, episode, download, tu...          9   \n",
       "3  [kinneret, beautiful, spot, country, reason, p...         36   \n",
       "4  [serve, la, patt, morrison, ask, tom, labonge,...          9   \n",
       "\n",
       "                                          topic_dist  \\\n",
       "0  [(30, 0.35383737087249756), (49, 0.15144985914...   \n",
       "1  [(28, 0.2616443634033203), (7, 0.2563472986221...   \n",
       "2  [(9, 0.2603209316730499), (43, 0.1685303896665...   \n",
       "3  [(36, 0.32701045274734497), (27, 0.16811439394...   \n",
       "4  [(9, 0.13993221521377563), (49, 0.137082636356...   \n",
       "\n",
       "                                         topic_words Country  \n",
       "0  india, antiquity, steal, dealer, afghanistan, ...     USA  \n",
       "1  internet, computer, digital, video, technology...      UK  \n",
       "2  feel, think, like, thing, want, way, people, l...      UK  \n",
       "3  israel, jewish, jews, jerusalem, holocaust, is...  Israel  \n",
       "4  feel, think, like, thing, want, way, people, l...     USA  "
      ]
     },
     "execution_count": 5,
     "metadata": {},
     "output_type": "execute_result"
    }
   ],
   "source": [
    "df_lex.head()"
   ]
  },
  {
   "cell_type": "code",
   "execution_count": 142,
   "metadata": {},
   "outputs": [],
   "source": [
    "df_news = df_news[['Newspaper', 'Country']]"
   ]
  },
  {
   "cell_type": "code",
   "execution_count": 150,
   "metadata": {},
   "outputs": [],
   "source": [
    "df_news = df_news.set_index('Newspaper')"
   ]
  },
  {
   "cell_type": "code",
   "execution_count": 151,
   "metadata": {},
   "outputs": [
    {
     "data": {
      "text/html": [
       "<div>\n",
       "<style scoped>\n",
       "    .dataframe tbody tr th:only-of-type {\n",
       "        vertical-align: middle;\n",
       "    }\n",
       "\n",
       "    .dataframe tbody tr th {\n",
       "        vertical-align: top;\n",
       "    }\n",
       "\n",
       "    .dataframe thead th {\n",
       "        text-align: right;\n",
       "    }\n",
       "</style>\n",
       "<table border=\"1\" class=\"dataframe\">\n",
       "  <thead>\n",
       "    <tr style=\"text-align: right;\">\n",
       "      <th></th>\n",
       "      <th>Country</th>\n",
       "    </tr>\n",
       "    <tr>\n",
       "      <th>Newspaper</th>\n",
       "      <th></th>\n",
       "    </tr>\n",
       "  </thead>\n",
       "  <tbody>\n",
       "    <tr>\n",
       "      <th>Los Angeles Times</th>\n",
       "      <td>USA</td>\n",
       "    </tr>\n",
       "    <tr>\n",
       "      <th>The Guardian</th>\n",
       "      <td>UK</td>\n",
       "    </tr>\n",
       "    <tr>\n",
       "      <th>Jerusalem Post</th>\n",
       "      <td>Israel</td>\n",
       "    </tr>\n",
       "    <tr>\n",
       "      <th>The New York Times</th>\n",
       "      <td>USA</td>\n",
       "    </tr>\n",
       "    <tr>\n",
       "      <th>Newsday (New York)</th>\n",
       "      <td>USA</td>\n",
       "    </tr>\n",
       "    <tr>\n",
       "      <th>...</th>\n",
       "      <td>...</td>\n",
       "    </tr>\n",
       "    <tr>\n",
       "      <th>The Observer(London)</th>\n",
       "      <td>UK</td>\n",
       "    </tr>\n",
       "    <tr>\n",
       "      <th>Wish Magazine</th>\n",
       "      <td>Australia</td>\n",
       "    </tr>\n",
       "    <tr>\n",
       "      <th>Delicate work to restore museum objects after major fire</th>\n",
       "      <td>etc.</td>\n",
       "    </tr>\n",
       "    <tr>\n",
       "      <th>The Guardian (London)</th>\n",
       "      <td>UK</td>\n",
       "    </tr>\n",
       "    <tr>\n",
       "      <th>Mail on Sunday (London)</th>\n",
       "      <td>UK</td>\n",
       "    </tr>\n",
       "  </tbody>\n",
       "</table>\n",
       "<p>83 rows × 1 columns</p>\n",
       "</div>"
      ],
      "text/plain": [
       "                                                      Country\n",
       "Newspaper                                                    \n",
       "Los Angeles Times                                         USA\n",
       "The Guardian                                               UK\n",
       "Jerusalem Post                                         Israel\n",
       "The New York Times                                        USA\n",
       "Newsday (New York)                                        USA\n",
       "...                                                       ...\n",
       "The Observer(London)                                       UK\n",
       "Wish Magazine                                       Australia\n",
       "Delicate work to restore museum objects after m...       etc.\n",
       "The Guardian (London)                                      UK\n",
       "Mail on Sunday (London)                                    UK\n",
       "\n",
       "[83 rows x 1 columns]"
      ]
     },
     "execution_count": 151,
     "metadata": {},
     "output_type": "execute_result"
    }
   ],
   "source": [
    "df_news"
   ]
  },
  {
   "cell_type": "code",
   "execution_count": 145,
   "metadata": {},
   "outputs": [
    {
     "data": {
      "text/plain": [
       "array(['USA', 'UK', 'Israel', 'Canada', 'Australia', 'South Korea',\n",
       "       'China', 'Japan', 'New Zealand', 'Malaysia', 'Russia',\n",
       "       'South Africa', 'Singapore', 'Thailand', 'Ireland', 'etc.'],\n",
       "      dtype=object)"
      ]
     },
     "execution_count": 145,
     "metadata": {},
     "output_type": "execute_result"
    }
   ],
   "source": [
    "country_list=df_news['Country'].unique()\n",
    "country_list"
   ]
  },
  {
   "cell_type": "code",
   "execution_count": 161,
   "metadata": {},
   "outputs": [
    {
     "data": {
      "application/vnd.jupyter.widget-view+json": {
       "model_id": "156ba6c4a4914f6ba686bf07feaebcf0",
       "version_major": 2,
       "version_minor": 0
      },
      "text/plain": [
       "0it [00:00, ?it/s]"
      ]
     },
     "metadata": {},
     "output_type": "display_data"
    },
    {
     "name": "stderr",
     "output_type": "stream",
     "text": [
      "/var/folders/q9/1ydypryj47n2g37569rqj0p80000gn/T/ipykernel_14867/540972656.py:4: SettingWithCopyWarning: \n",
      "A value is trying to be set on a copy of a slice from a DataFrame\n",
      "\n",
      "See the caveats in the documentation: https://pandas.pydata.org/pandas-docs/stable/user_guide/indexing.html#returning-a-view-versus-a-copy\n",
      "  df_lex['Country'][idx] = df_news['Country'][news]\n"
     ]
    }
   ],
   "source": [
    "df_lex['Country']=0\n",
    "\n",
    "for idx, news in tqdm(enumerate(df_lex['Newspaper'])) :\n",
    "    df_lex['Country'][idx] = df_news['Country'][news]\n",
    "     "
   ]
  },
  {
   "cell_type": "code",
   "execution_count": 162,
   "metadata": {},
   "outputs": [
    {
     "data": {
      "text/html": [
       "<div>\n",
       "<style scoped>\n",
       "    .dataframe tbody tr th:only-of-type {\n",
       "        vertical-align: middle;\n",
       "    }\n",
       "\n",
       "    .dataframe tbody tr th {\n",
       "        vertical-align: top;\n",
       "    }\n",
       "\n",
       "    .dataframe thead th {\n",
       "        text-align: right;\n",
       "    }\n",
       "</style>\n",
       "<table border=\"1\" class=\"dataframe\">\n",
       "  <thead>\n",
       "    <tr style=\"text-align: right;\">\n",
       "      <th></th>\n",
       "      <th>Newspaper</th>\n",
       "      <th>Date</th>\n",
       "      <th>Length</th>\n",
       "      <th>Author</th>\n",
       "      <th>Headline</th>\n",
       "      <th>Article</th>\n",
       "      <th>token</th>\n",
       "      <th>top_topic</th>\n",
       "      <th>topic_dist</th>\n",
       "      <th>topic_words</th>\n",
       "      <th>Country</th>\n",
       "    </tr>\n",
       "  </thead>\n",
       "  <tbody>\n",
       "    <tr>\n",
       "      <th>0</th>\n",
       "      <td>Los Angeles Times</td>\n",
       "      <td>2015-06-26</td>\n",
       "      <td>642 words</td>\n",
       "      <td>Stephen Ceasar</td>\n",
       "      <td>LOS ANGELES; Legal battle over massive emerald...</td>\n",
       "      <td>The more than six-year legal battle over the B...</td>\n",
       "      <td>[year, legal, battle, bahia, emerald, reach, c...</td>\n",
       "      <td>4</td>\n",
       "      <td>[(4, 0.47281384468078613), (34, 0.152346983551...</td>\n",
       "      <td>auction, coin, item, mr, dealer, sale, sell, c...</td>\n",
       "      <td>USA</td>\n",
       "    </tr>\n",
       "    <tr>\n",
       "      <th>1</th>\n",
       "      <td>The Guardian</td>\n",
       "      <td>2015-06-26</td>\n",
       "      <td>1934 words</td>\n",
       "      <td>Keith Stuart</td>\n",
       "      <td>Hearthstone: how a game developer turned 30m p...</td>\n",
       "      <td>On the set of ITV's costume drama Mr Selfridge...</td>\n",
       "      <td>[set, itv, costume, drama, mr, selfridge, quie...</td>\n",
       "      <td>8</td>\n",
       "      <td>[(8, 0.2922247052192688), (23, 0.2112405151128...</td>\n",
       "      <td>baseball, game, player, rogen, league, cubs, h...</td>\n",
       "      <td>UK</td>\n",
       "    </tr>\n",
       "    <tr>\n",
       "      <th>2</th>\n",
       "      <td>The Guardian</td>\n",
       "      <td>2015-06-26</td>\n",
       "      <td>628 words</td>\n",
       "      <td>Maraithe Thomas in New York</td>\n",
       "      <td>My afternoon at the Seinfeld apartment; A new ...</td>\n",
       "      <td>Related: Seinfeld on Hulu: which episodes sho...</td>\n",
       "      <td>[relate, seinfeld, hulu, episode, download, tu...</td>\n",
       "      <td>7</td>\n",
       "      <td>[(7, 0.25378450751304626), (44, 0.245114162564...</td>\n",
       "      <td>film, movie, films, documentary, television, a...</td>\n",
       "      <td>UK</td>\n",
       "    </tr>\n",
       "    <tr>\n",
       "      <th>3</th>\n",
       "      <td>Jerusalem Post</td>\n",
       "      <td>2015-06-26</td>\n",
       "      <td>1152 words</td>\n",
       "      <td>MEITAL SHARABI</td>\n",
       "      <td>Tiberias: Israel's diamond in the rough</td>\n",
       "      <td>The Kinneret is one of the most beautiful spot...</td>\n",
       "      <td>[kinneret, beautiful, spot, country, reason, p...</td>\n",
       "      <td>16</td>\n",
       "      <td>[(16, 0.3555724620819092), (54, 0.194526746869...</td>\n",
       "      <td>israel, jewish, jerusalem, jews, israeli, syna...</td>\n",
       "      <td>Israel</td>\n",
       "    </tr>\n",
       "    <tr>\n",
       "      <th>4</th>\n",
       "      <td>Los Angeles Times</td>\n",
       "      <td>2015-06-26</td>\n",
       "      <td>1128 words</td>\n",
       "      <td>NaN</td>\n",
       "      <td>LETTERS</td>\n",
       "      <td>He's served L.A. well Re \"Patt Morrison Asks: ...</td>\n",
       "      <td>[serve, la, patt, morrison, ask, tom, labonge,...</td>\n",
       "      <td>26</td>\n",
       "      <td>[(26, 0.19039195775985718), (43, 0.18838784098...</td>\n",
       "      <td>government, political, policy, issue, decision...</td>\n",
       "      <td>USA</td>\n",
       "    </tr>\n",
       "    <tr>\n",
       "      <th>...</th>\n",
       "      <td>...</td>\n",
       "      <td>...</td>\n",
       "      <td>...</td>\n",
       "      <td>...</td>\n",
       "      <td>...</td>\n",
       "      <td>...</td>\n",
       "      <td>...</td>\n",
       "      <td>...</td>\n",
       "      <td>...</td>\n",
       "      <td>...</td>\n",
       "      <td>...</td>\n",
       "    </tr>\n",
       "    <tr>\n",
       "      <th>24769</th>\n",
       "      <td>Newsday (New York)</td>\n",
       "      <td>2022-06-17</td>\n",
       "      <td>503 words</td>\n",
       "      <td>The Washington Post</td>\n",
       "      <td>NATION; Harry Gesner, 97, California architect...</td>\n",
       "      <td>The Washington Post To design a great house, C...</td>\n",
       "      <td>[washington, post, design, great, house, calif...</td>\n",
       "      <td>28</td>\n",
       "      <td>[(28, 0.18001389503479004), (21, 0.17830580472...</td>\n",
       "      <td>beach, hotel, island, tour, travel, trip, tour...</td>\n",
       "      <td>USA</td>\n",
       "    </tr>\n",
       "    <tr>\n",
       "      <th>24770</th>\n",
       "      <td>The Philadelphia Inquirer</td>\n",
       "      <td>2022-06-17</td>\n",
       "      <td>1371 words</td>\n",
       "      <td>Valerie Russ STAFF WRITER</td>\n",
       "      <td>Norristown exhibit honors historian Charles Bl...</td>\n",
       "      <td>ABSTRACT His life's work was fueled by a fourt...</td>\n",
       "      <td>[abstract, life, work, fuel, fourth, grade, te...</td>\n",
       "      <td>6</td>\n",
       "      <td>[(6, 0.22599178552627563), (36, 0.133384764194...</td>\n",
       "      <td>mr, ms, los, angeles, american, black, african...</td>\n",
       "      <td>USA</td>\n",
       "    </tr>\n",
       "    <tr>\n",
       "      <th>24771</th>\n",
       "      <td>mirror.co.uk</td>\n",
       "      <td>2022-06-17</td>\n",
       "      <td>1180 words</td>\n",
       "      <td>By, Nigel Thompson</td>\n",
       "      <td>Take a shine to golden wonders from around the...</td>\n",
       "      <td>All that glisters is not gold -   Often have ...</td>\n",
       "      <td>[glister, gold, hear, tell, students, william,...</td>\n",
       "      <td>38</td>\n",
       "      <td>[(38, 0.32706835865974426), (19, 0.09894628822...</td>\n",
       "      <td>egypt, ancient, roman, egyptian, rome, italy, ...</td>\n",
       "      <td>UK</td>\n",
       "    </tr>\n",
       "    <tr>\n",
       "      <th>24772</th>\n",
       "      <td>The Philadelphia Inquirer</td>\n",
       "      <td>2022-06-17</td>\n",
       "      <td>1710 words</td>\n",
       "      <td>Mike Jensen STAFF WRITER</td>\n",
       "      <td>She helped change the game; Former Owls badmin...</td>\n",
       "      <td>ABSTRACT Former Owls badminton player was lead...</td>\n",
       "      <td>[abstract, owls, badminton, player, lead, plai...</td>\n",
       "      <td>48</td>\n",
       "      <td>[(48, 0.3514178991317749), (31, 0.124050624668...</td>\n",
       "      <td>sports, football, sport, game, team, player, s...</td>\n",
       "      <td>USA</td>\n",
       "    </tr>\n",
       "    <tr>\n",
       "      <th>24773</th>\n",
       "      <td>The New York Times</td>\n",
       "      <td>2022-06-17</td>\n",
       "      <td>12138 words</td>\n",
       "      <td>NaN</td>\n",
       "      <td>Transcript: Ezra Klein Interviews Rana Forooha...</td>\n",
       "      <td>Every Tuesday and Friday, Ezra Klein invites y...</td>\n",
       "      <td>[tuesday, friday, ezra, klein, invite, convers...</td>\n",
       "      <td>27</td>\n",
       "      <td>[(27, 0.318684846162796), (15, 0.2530473172664...</td>\n",
       "      <td>bp, company, oil, bank, tax, sponsorship, mone...</td>\n",
       "      <td>USA</td>\n",
       "    </tr>\n",
       "  </tbody>\n",
       "</table>\n",
       "<p>24774 rows × 11 columns</p>\n",
       "</div>"
      ],
      "text/plain": [
       "                       Newspaper        Date       Length  \\\n",
       "0              Los Angeles Times  2015-06-26    642 words   \n",
       "1                   The Guardian  2015-06-26   1934 words   \n",
       "2                   The Guardian  2015-06-26    628 words   \n",
       "3                 Jerusalem Post  2015-06-26   1152 words   \n",
       "4              Los Angeles Times  2015-06-26   1128 words   \n",
       "...                          ...         ...          ...   \n",
       "24769         Newsday (New York)  2022-06-17    503 words   \n",
       "24770  The Philadelphia Inquirer  2022-06-17   1371 words   \n",
       "24771               mirror.co.uk  2022-06-17   1180 words   \n",
       "24772  The Philadelphia Inquirer  2022-06-17   1710 words   \n",
       "24773         The New York Times  2022-06-17  12138 words   \n",
       "\n",
       "                            Author  \\\n",
       "0                   Stephen Ceasar   \n",
       "1                     Keith Stuart   \n",
       "2      Maraithe Thomas in New York   \n",
       "3                   MEITAL SHARABI   \n",
       "4                              NaN   \n",
       "...                            ...   \n",
       "24769          The Washington Post   \n",
       "24770    Valerie Russ STAFF WRITER   \n",
       "24771           By, Nigel Thompson   \n",
       "24772     Mike Jensen STAFF WRITER   \n",
       "24773                          NaN   \n",
       "\n",
       "                                                Headline  \\\n",
       "0      LOS ANGELES; Legal battle over massive emerald...   \n",
       "1      Hearthstone: how a game developer turned 30m p...   \n",
       "2      My afternoon at the Seinfeld apartment; A new ...   \n",
       "3                Tiberias: Israel's diamond in the rough   \n",
       "4                                                LETTERS   \n",
       "...                                                  ...   \n",
       "24769  NATION; Harry Gesner, 97, California architect...   \n",
       "24770  Norristown exhibit honors historian Charles Bl...   \n",
       "24771  Take a shine to golden wonders from around the...   \n",
       "24772  She helped change the game; Former Owls badmin...   \n",
       "24773  Transcript: Ezra Klein Interviews Rana Forooha...   \n",
       "\n",
       "                                                 Article  \\\n",
       "0      The more than six-year legal battle over the B...   \n",
       "1      On the set of ITV's costume drama Mr Selfridge...   \n",
       "2       Related: Seinfeld on Hulu: which episodes sho...   \n",
       "3      The Kinneret is one of the most beautiful spot...   \n",
       "4      He's served L.A. well Re \"Patt Morrison Asks: ...   \n",
       "...                                                  ...   \n",
       "24769  The Washington Post To design a great house, C...   \n",
       "24770  ABSTRACT His life's work was fueled by a fourt...   \n",
       "24771   All that glisters is not gold -   Often have ...   \n",
       "24772  ABSTRACT Former Owls badminton player was lead...   \n",
       "24773  Every Tuesday and Friday, Ezra Klein invites y...   \n",
       "\n",
       "                                                   token  top_topic  \\\n",
       "0      [year, legal, battle, bahia, emerald, reach, c...          4   \n",
       "1      [set, itv, costume, drama, mr, selfridge, quie...          8   \n",
       "2      [relate, seinfeld, hulu, episode, download, tu...          7   \n",
       "3      [kinneret, beautiful, spot, country, reason, p...         16   \n",
       "4      [serve, la, patt, morrison, ask, tom, labonge,...         26   \n",
       "...                                                  ...        ...   \n",
       "24769  [washington, post, design, great, house, calif...         28   \n",
       "24770  [abstract, life, work, fuel, fourth, grade, te...          6   \n",
       "24771  [glister, gold, hear, tell, students, william,...         38   \n",
       "24772  [abstract, owls, badminton, player, lead, plai...         48   \n",
       "24773  [tuesday, friday, ezra, klein, invite, convers...         27   \n",
       "\n",
       "                                              topic_dist  \\\n",
       "0      [(4, 0.47281384468078613), (34, 0.152346983551...   \n",
       "1      [(8, 0.2922247052192688), (23, 0.2112405151128...   \n",
       "2      [(7, 0.25378450751304626), (44, 0.245114162564...   \n",
       "3      [(16, 0.3555724620819092), (54, 0.194526746869...   \n",
       "4      [(26, 0.19039195775985718), (43, 0.18838784098...   \n",
       "...                                                  ...   \n",
       "24769  [(28, 0.18001389503479004), (21, 0.17830580472...   \n",
       "24770  [(6, 0.22599178552627563), (36, 0.133384764194...   \n",
       "24771  [(38, 0.32706835865974426), (19, 0.09894628822...   \n",
       "24772  [(48, 0.3514178991317749), (31, 0.124050624668...   \n",
       "24773  [(27, 0.318684846162796), (15, 0.2530473172664...   \n",
       "\n",
       "                                             topic_words Country  \n",
       "0      auction, coin, item, mr, dealer, sale, sell, c...     USA  \n",
       "1      baseball, game, player, rogen, league, cubs, h...      UK  \n",
       "2      film, movie, films, documentary, television, a...      UK  \n",
       "3      israel, jewish, jerusalem, jews, israeli, syna...  Israel  \n",
       "4      government, political, policy, issue, decision...     USA  \n",
       "...                                                  ...     ...  \n",
       "24769  beach, hotel, island, tour, travel, trip, tour...     USA  \n",
       "24770  mr, ms, los, angeles, american, black, african...     USA  \n",
       "24771  egypt, ancient, roman, egyptian, rome, italy, ...      UK  \n",
       "24772  sports, football, sport, game, team, player, s...     USA  \n",
       "24773  bp, company, oil, bank, tax, sponsorship, mone...     USA  \n",
       "\n",
       "[24774 rows x 11 columns]"
      ]
     },
     "execution_count": 162,
     "metadata": {},
     "output_type": "execute_result"
    }
   ],
   "source": [
    "df_lex"
   ]
  },
  {
   "cell_type": "code",
   "execution_count": 184,
   "metadata": {},
   "outputs": [],
   "source": [
    "def DMR(df) :\n",
    "    global token_rate_dict\n",
    "    DMR_news = tp.DMRModel(k=54,min_df=100,tw=tp.TermWeight.IDF, alpha = 0.01, seed=2021, rm_top=10)\n",
    "    token_rate_dict = df[['token','Country']].to_dict('index')\n",
    "\n",
    "    for k in tqdm(token_rate_dict.keys()):\n",
    "        DMR_news.add_doc(token_rate_dict[k]['token'], str(token_rate_dict[k]['Country']))\n",
    "\n",
    "    DMR_news.train(0)\n",
    "\n",
    "    print('Num docs:', len(DMR_news.docs), ', Vocab size:', DMR_news.num_vocabs, ', Num words:', DMR_news.num_words)\n",
    "    print('Removed top words:', DMR_news.removed_top_words)\n",
    "    print('Training...', file=sys.stderr, flush=True)\n",
    "    for i in range(0, 500, 20):\n",
    "        DMR_news.train(20)\n",
    "        print('Iteration: {}\\tLog-likelihood: {}'.format(i, DMR_news.ll_per_word))\n",
    "\n",
    "\n",
    "    print('--------------------------------------------------------------------------')\n",
    "\n",
    "\n",
    "    DMR_news.summary()\n",
    "    \n",
    "    print('--------------------------------------------------------------------------')\n",
    "\n",
    "    for i in range(DMR_news.k):\n",
    "        res = DMR_news.get_topic_words(i, top_n=20)\n",
    "        print('Topic #{}'.format(i), end='\\t')\n",
    "        print(', '.join(w for w, p in res))\n",
    "    \n",
    "\n",
    "    dmr_plot2(DMR_news)\n",
    "\n",
    "    return DMR_news"
   ]
  },
  {
   "cell_type": "code",
   "execution_count": 197,
   "metadata": {},
   "outputs": [],
   "source": [
    "import seaborn as sns\n",
    "\n",
    "\n",
    "def dmr_plot2(mdl):\n",
    "    meta_dict = mdl.metadata_dict # 메타 데이터 종류 1개\n",
    "    meta_k_arr = np.zeros((len(meta_dict), mdl.k))\n",
    "\n",
    "    for i in range(len(meta_dict)):\n",
    "        meta_k_arr[i, :] = np.exp(mdl.lambdas)[:, i] / np.exp(mdl.lambdas)[:, i].sum()\n",
    "\n",
    "    viz_df = pd.DataFrame(meta_k_arr, columns=['Topic #{}'.format(k) for k in range(mdl.k)], index=meta_dict)\n",
    "    fig1 = plt.figure(figsize=(15, 8))\n",
    "    ax = plt.gca()\n",
    "    assert plt.gcf() is fig1  # succeeds\n",
    "    viz_df.sort_index(ascending=False).plot(kind='barh', stacked=True,\n",
    "                                            colormap=ListedColormap(sns.color_palette('husl', 54)),\n",
    "                                            ax=ax)  # draws to fig1 now\n",
    "\n",
    "    #sns.barplot(x='group', y='Values', data=df, estimator=lambda x: sum(x==0)*100.0/len(x))\n",
    "\n",
    "    ax.legend(loc='center left', bbox_to_anchor=(1, 0.5))\n",
    "    return viz_df"
   ]
  },
  {
   "cell_type": "markdown",
   "metadata": {},
   "source": [
    "#### 침탈 관련 토픽들의 분포로만 그래프 그리기"
   ]
  },
  {
   "cell_type": "code",
   "execution_count": 205,
   "metadata": {},
   "outputs": [
    {
     "data": {
      "text/html": [
       "<div>\n",
       "<style scoped>\n",
       "    .dataframe tbody tr th:only-of-type {\n",
       "        vertical-align: middle;\n",
       "    }\n",
       "\n",
       "    .dataframe tbody tr th {\n",
       "        vertical-align: top;\n",
       "    }\n",
       "\n",
       "    .dataframe thead th {\n",
       "        text-align: right;\n",
       "    }\n",
       "</style>\n",
       "<table border=\"1\" class=\"dataframe\">\n",
       "  <thead>\n",
       "    <tr style=\"text-align: right;\">\n",
       "      <th></th>\n",
       "      <th>Topic #8</th>\n",
       "      <th>Topic #17</th>\n",
       "      <th>Topic #23</th>\n",
       "      <th>Topic #44</th>\n",
       "      <th>Topic #51</th>\n",
       "    </tr>\n",
       "  </thead>\n",
       "  <tbody>\n",
       "    <tr>\n",
       "      <th>USA</th>\n",
       "      <td>0.012655</td>\n",
       "      <td>0.009645</td>\n",
       "      <td>0.015727</td>\n",
       "      <td>0.014233</td>\n",
       "      <td>0.011027</td>\n",
       "    </tr>\n",
       "    <tr>\n",
       "      <th>UK</th>\n",
       "      <td>0.007595</td>\n",
       "      <td>0.003912</td>\n",
       "      <td>0.009391</td>\n",
       "      <td>0.021810</td>\n",
       "      <td>0.006050</td>\n",
       "    </tr>\n",
       "    <tr>\n",
       "      <th>Israel</th>\n",
       "      <td>0.004809</td>\n",
       "      <td>0.011381</td>\n",
       "      <td>0.014997</td>\n",
       "      <td>0.042706</td>\n",
       "      <td>0.007095</td>\n",
       "    </tr>\n",
       "    <tr>\n",
       "      <th>Canada</th>\n",
       "      <td>0.058449</td>\n",
       "      <td>0.009949</td>\n",
       "      <td>0.030557</td>\n",
       "      <td>0.010788</td>\n",
       "      <td>0.034744</td>\n",
       "    </tr>\n",
       "    <tr>\n",
       "      <th>Australia</th>\n",
       "      <td>0.030515</td>\n",
       "      <td>0.004397</td>\n",
       "      <td>0.023432</td>\n",
       "      <td>0.004703</td>\n",
       "      <td>0.001756</td>\n",
       "    </tr>\n",
       "    <tr>\n",
       "      <th>South Korea</th>\n",
       "      <td>0.021533</td>\n",
       "      <td>0.017013</td>\n",
       "      <td>0.002067</td>\n",
       "      <td>0.000970</td>\n",
       "      <td>0.028216</td>\n",
       "    </tr>\n",
       "    <tr>\n",
       "      <th>China</th>\n",
       "      <td>0.005574</td>\n",
       "      <td>0.013229</td>\n",
       "      <td>0.012663</td>\n",
       "      <td>0.005774</td>\n",
       "      <td>0.007176</td>\n",
       "    </tr>\n",
       "    <tr>\n",
       "      <th>Japan</th>\n",
       "      <td>0.021016</td>\n",
       "      <td>0.003608</td>\n",
       "      <td>0.024635</td>\n",
       "      <td>0.016949</td>\n",
       "      <td>0.006235</td>\n",
       "    </tr>\n",
       "    <tr>\n",
       "      <th>New Zealand</th>\n",
       "      <td>0.075428</td>\n",
       "      <td>0.001236</td>\n",
       "      <td>0.018732</td>\n",
       "      <td>0.003348</td>\n",
       "      <td>0.011615</td>\n",
       "    </tr>\n",
       "    <tr>\n",
       "      <th>Malaysia</th>\n",
       "      <td>0.004385</td>\n",
       "      <td>0.016824</td>\n",
       "      <td>0.008418</td>\n",
       "      <td>0.007913</td>\n",
       "      <td>0.007704</td>\n",
       "    </tr>\n",
       "    <tr>\n",
       "      <th>Russia</th>\n",
       "      <td>0.017444</td>\n",
       "      <td>0.002003</td>\n",
       "      <td>0.007152</td>\n",
       "      <td>0.011748</td>\n",
       "      <td>0.007920</td>\n",
       "    </tr>\n",
       "    <tr>\n",
       "      <th>South Africa</th>\n",
       "      <td>0.035208</td>\n",
       "      <td>0.013622</td>\n",
       "      <td>0.004725</td>\n",
       "      <td>0.046893</td>\n",
       "      <td>0.022484</td>\n",
       "    </tr>\n",
       "    <tr>\n",
       "      <th>Singapore</th>\n",
       "      <td>0.019534</td>\n",
       "      <td>0.001690</td>\n",
       "      <td>0.003094</td>\n",
       "      <td>0.009734</td>\n",
       "      <td>0.022405</td>\n",
       "    </tr>\n",
       "    <tr>\n",
       "      <th>Thailand</th>\n",
       "      <td>0.007112</td>\n",
       "      <td>0.010677</td>\n",
       "      <td>0.029394</td>\n",
       "      <td>0.034042</td>\n",
       "      <td>0.045419</td>\n",
       "    </tr>\n",
       "    <tr>\n",
       "      <th>Ireland</th>\n",
       "      <td>0.002845</td>\n",
       "      <td>0.006989</td>\n",
       "      <td>0.000905</td>\n",
       "      <td>0.035525</td>\n",
       "      <td>0.012747</td>\n",
       "    </tr>\n",
       "    <tr>\n",
       "      <th>etc.</th>\n",
       "      <td>0.005893</td>\n",
       "      <td>0.014537</td>\n",
       "      <td>0.027436</td>\n",
       "      <td>0.015483</td>\n",
       "      <td>0.014614</td>\n",
       "    </tr>\n",
       "  </tbody>\n",
       "</table>\n",
       "</div>"
      ],
      "text/plain": [
       "              Topic #8  Topic #17  Topic #23  Topic #44  Topic #51\n",
       "USA           0.012655   0.009645   0.015727   0.014233   0.011027\n",
       "UK            0.007595   0.003912   0.009391   0.021810   0.006050\n",
       "Israel        0.004809   0.011381   0.014997   0.042706   0.007095\n",
       "Canada        0.058449   0.009949   0.030557   0.010788   0.034744\n",
       "Australia     0.030515   0.004397   0.023432   0.004703   0.001756\n",
       "South Korea   0.021533   0.017013   0.002067   0.000970   0.028216\n",
       "China         0.005574   0.013229   0.012663   0.005774   0.007176\n",
       "Japan         0.021016   0.003608   0.024635   0.016949   0.006235\n",
       "New Zealand   0.075428   0.001236   0.018732   0.003348   0.011615\n",
       "Malaysia      0.004385   0.016824   0.008418   0.007913   0.007704\n",
       "Russia        0.017444   0.002003   0.007152   0.011748   0.007920\n",
       "South Africa  0.035208   0.013622   0.004725   0.046893   0.022484\n",
       "Singapore     0.019534   0.001690   0.003094   0.009734   0.022405\n",
       "Thailand      0.007112   0.010677   0.029394   0.034042   0.045419\n",
       "Ireland       0.002845   0.006989   0.000905   0.035525   0.012747\n",
       "etc.          0.005893   0.014537   0.027436   0.015483   0.014614"
      ]
     },
     "execution_count": 205,
     "metadata": {},
     "output_type": "execute_result"
    }
   ],
   "source": [
    "test = dmr_df[['Topic #8', 'Topic #17', 'Topic #23', 'Topic #44', 'Topic #51']]\n",
    "test"
   ]
  },
  {
   "cell_type": "code",
   "execution_count": 206,
   "metadata": {},
   "outputs": [
    {
     "data": {
      "text/plain": [
       "<matplotlib.legend.Legend at 0x7fa676d9db80>"
      ]
     },
     "execution_count": 206,
     "metadata": {},
     "output_type": "execute_result"
    },
    {
     "data": {
      "image/png": "[encoded data removed]",
      "text/plain": [
       "<Figure size 1080x576 with 1 Axes>"
      ]
     },
     "metadata": {
      "needs_background": "light"
     },
     "output_type": "display_data"
    }
   ],
   "source": [
    "fig1 = plt.figure(figsize=(15, 8))\n",
    "ax = plt.gca()\n",
    "assert plt.gcf() is fig1  # succeeds\n",
    "test.sort_index(ascending=False).plot(kind='barh', stacked=True,\n",
    "                                            colormap=ListedColormap(sns.color_palette('Set3', 54)),\n",
    "                                            ax=ax)  # draws to fig1 now\n",
    "\n",
    "    #sns.barplot(x='group', y='Values', data=df, estimator=lambda x: sum(x==0)*100.0/len(x))\n",
    "\n",
    "ax.legend(loc='center left', bbox_to_anchor=(1, 0.5))"
   ]
  },
  {
   "cell_type": "code",
   "execution_count": 201,
   "metadata": {},
   "outputs": [
    {
     "ename": "NameError",
     "evalue": "name 'ax' is not defined",
     "output_type": "error",
     "traceback": [
      "\u001b[0;31m---------------------------------------------------------------------------\u001b[0m",
      "\u001b[0;31mNameError\u001b[0m                                 Traceback (most recent call last)",
      "\u001b[1;32m/Volumes/GoogleDrive/공유 드라이브/BigComp2023(민우,선홍,해인)/Code/country_classification.ipynb Cell 107'\u001b[0m in \u001b[0;36m<cell line: 1>\u001b[0;34m()\u001b[0m\n\u001b[1;32m      <a href='vscode-notebook-cell:/Volumes/GoogleDrive/%E1%84%80%E1%85%A9%E1%86%BC%E1%84%8B%E1%85%B2%20%E1%84%83%E1%85%B3%E1%84%85%E1%85%A1%E1%84%8B%E1%85%B5%E1%84%87%E1%85%B3/BigComp2023%28%E1%84%86%E1%85%B5%E1%86%AB%E1%84%8B%E1%85%AE%2C%E1%84%89%E1%85%A5%E1%86%AB%E1%84%92%E1%85%A9%E1%86%BC%2C%E1%84%92%E1%85%A2%E1%84%8B%E1%85%B5%E1%86%AB%29/Code/country_classification.ipynb#ch0000138?line=0'>1</a>\u001b[0m dmr_df\u001b[39m.\u001b[39msort_index(ascending\u001b[39m=\u001b[39m\u001b[39mFalse\u001b[39;00m)\u001b[39m.\u001b[39mplot(kind\u001b[39m=\u001b[39m\u001b[39m'\u001b[39m\u001b[39mbarh\u001b[39m\u001b[39m'\u001b[39m, stacked\u001b[39m=\u001b[39m\u001b[39mTrue\u001b[39;00m,\n\u001b[1;32m      <a href='vscode-notebook-cell:/Volumes/GoogleDrive/%E1%84%80%E1%85%A9%E1%86%BC%E1%84%8B%E1%85%B2%20%E1%84%83%E1%85%B3%E1%84%85%E1%85%A1%E1%84%8B%E1%85%B5%E1%84%87%E1%85%B3/BigComp2023%28%E1%84%86%E1%85%B5%E1%86%AB%E1%84%8B%E1%85%AE%2C%E1%84%89%E1%85%A5%E1%86%AB%E1%84%92%E1%85%A9%E1%86%BC%2C%E1%84%92%E1%85%A2%E1%84%8B%E1%85%B5%E1%86%AB%29/Code/country_classification.ipynb#ch0000138?line=1'>2</a>\u001b[0m                                             colormap\u001b[39m=\u001b[39mListedColormap(sns\u001b[39m.\u001b[39mcolor_palette(\u001b[39m'\u001b[39m\u001b[39mSet3\u001b[39m\u001b[39m'\u001b[39m, \u001b[39m54\u001b[39m)),\n\u001b[0;32m----> <a href='vscode-notebook-cell:/Volumes/GoogleDrive/%E1%84%80%E1%85%A9%E1%86%BC%E1%84%8B%E1%85%B2%20%E1%84%83%E1%85%B3%E1%84%85%E1%85%A1%E1%84%8B%E1%85%B5%E1%84%87%E1%85%B3/BigComp2023%28%E1%84%86%E1%85%B5%E1%86%AB%E1%84%8B%E1%85%AE%2C%E1%84%89%E1%85%A5%E1%86%AB%E1%84%92%E1%85%A9%E1%86%BC%2C%E1%84%92%E1%85%A2%E1%84%8B%E1%85%B5%E1%86%AB%29/Code/country_classification.ipynb#ch0000138?line=2'>3</a>\u001b[0m                                             ax\u001b[39m=\u001b[39max)\n",
      "\u001b[0;31mNameError\u001b[0m: name 'ax' is not defined"
     ]
    }
   ],
   "source": [
    "dmr_df.sort_index(ascending=False).plot(kind='barh', stacked=True,\n",
    "                                            colormap=ListedColormap(sns.color_palette('Set3', 54)),\n",
    "                                            ax=ax)  # draws to fig1 now"
   ]
  },
  {
   "cell_type": "code",
   "execution_count": null,
   "metadata": {},
   "outputs": [],
   "source": [
    "lda = TopicModeling(df_lex,54)\n",
    "model = lda.LDA()\n",
    "lda.train(model)\n",
    "lda.get_coherence(model)\n",
    "len(model.used_vocabs)"
   ]
  },
  {
   "cell_type": "code",
   "execution_count": 6,
   "metadata": {},
   "outputs": [],
   "source": [
    "class TopicModeling :\n",
    "    \n",
    "    def __init__(self, df, k, min_df=100 ) : #df = 데이터, k은 토픽 개수, min_df =10\n",
    "        self.df = df\n",
    "        self.k = k\n",
    "        self.min_df= min_df\n",
    "    \n",
    "    \n",
    "            \n",
    "    def LDA(self) :\n",
    "        \n",
    "        LDA_model = tp.LDAModel(k= self.k, min_df=self.min_df, tw= tp.TermWeight.IDF, rm_top=0, alpha=0.01, seed=2021 )\n",
    "        for token in self.df['token'].tolist():\n",
    "            LDA_model.add_doc(token)\n",
    "\n",
    "        return LDA_model\n",
    "       \n",
    "    def DMR(self) :\n",
    "        global token_rate_dict\n",
    "        LDA_model = tp.DMRModel(k=54,min_df=100,tw=tp.TermWeight.IDF, alpha = 0.01, seed=2021, rm_top=10)\n",
    "        token_rate_dict = self.df[['token','Country']].to_dict('index')\n",
    "\n",
    "        for k in tqdm(token_rate_dict.keys()):\n",
    "            LDA_model.add_doc(token_rate_dict[k]['token'], str(token_rate_dict[k]['Country']))\n",
    "\n",
    "        return LDA_model\n",
    "        \n",
    "    def train(self, LDA_model) :\n",
    "        LDA_model.train(0)\n",
    "        print('Num docs:', len(LDA_model.docs), ', Vocab size:', LDA_model.num_vocabs, ', Num words:', LDA_model.num_words)\n",
    "        print('Removed top words:', LDA_model.removed_top_words) #확인\n",
    "        print('Training...', file=sys.stderr, flush=True)\n",
    "        for i in range(0, 500, 100):\n",
    "            LDA_model.train(100)\n",
    "            print('Iteration: {}\\tLog-likelihood: {}'.format(i, LDA_model.ll_per_word))\n",
    "            \n",
    "    def get_coherence(self, LDA_model) :\n",
    "        coherence = tp.coherence\n",
    "        score = coherence.Coherence(LDA_model).get_score()\n",
    "        perplexity = LDA_model.perplexity\n",
    "        print('topic 개수 : ', self.k , '| 사용된 vocab 수 : ',len(LDA_model.used_vocabs) ,'| Coherence 점수 : ', score, '| Perplexity 점수 : ', np.log(perplexity))\n",
    "    \n",
    "\n",
    "        return score, perplexity"
   ]
  },
  {
   "cell_type": "code",
   "execution_count": 15,
   "metadata": {},
   "outputs": [
    {
     "data": {
      "application/vnd.jupyter.widget-view+json": {
       "model_id": "10f0cf389b064aa4b4b0ae078bc8300b",
       "version_major": 2,
       "version_minor": 0
      },
      "text/plain": [
       "  0%|          | 0/24774 [00:00<?, ?it/s]"
      ]
     },
     "metadata": {},
     "output_type": "display_data"
    },
    {
     "name": "stderr",
     "output_type": "stream",
     "text": [
      "Training...\n"
     ]
    },
    {
     "name": "stdout",
     "output_type": "stream",
     "text": [
      "Num docs: 24774 , Vocab size: 10927 , Num words: 12726897\n",
      "Removed top words: ['museum', '90', 'year', '78', 'new', 'art', 'work', '89', 'time', 'like']\n",
      "Iteration: 0\tLog-likelihood: -9.109033438021386\n",
      "Iteration: 100\tLog-likelihood: -8.997246550971699\n",
      "Iteration: 200\tLog-likelihood: -8.951817100179312\n"
     ]
    },
    {
     "ename": "KeyboardInterrupt",
     "evalue": "",
     "output_type": "error",
     "traceback": [
      "\u001b[0;31m---------------------------------------------------------------------------\u001b[0m",
      "\u001b[0;31mKeyboardInterrupt\u001b[0m                         Traceback (most recent call last)",
      "\u001b[1;32m/Volumes/GoogleDrive/공유 드라이브/BigComp2023(민우,선홍,해인)/Code/country_classification.ipynb Cell 111'\u001b[0m in \u001b[0;36m<cell line: 3>\u001b[0;34m()\u001b[0m\n\u001b[1;32m      <a href='vscode-notebook-cell:/Volumes/GoogleDrive/%E1%84%80%E1%85%A9%E1%86%BC%E1%84%8B%E1%85%B2%20%E1%84%83%E1%85%B3%E1%84%85%E1%85%A1%E1%84%8B%E1%85%B5%E1%84%87%E1%85%B3/BigComp2023%28%E1%84%86%E1%85%B5%E1%86%AB%E1%84%8B%E1%85%AE%2C%E1%84%89%E1%85%A5%E1%86%AB%E1%84%92%E1%85%A9%E1%86%BC%2C%E1%84%92%E1%85%A2%E1%84%8B%E1%85%B5%E1%86%AB%29/Code/country_classification.ipynb#ch0000146?line=0'>1</a>\u001b[0m dmr \u001b[39m=\u001b[39m TopicModeling(df_lex, \u001b[39m54\u001b[39m)\n\u001b[1;32m      <a href='vscode-notebook-cell:/Volumes/GoogleDrive/%E1%84%80%E1%85%A9%E1%86%BC%E1%84%8B%E1%85%B2%20%E1%84%83%E1%85%B3%E1%84%85%E1%85%A1%E1%84%8B%E1%85%B5%E1%84%87%E1%85%B3/BigComp2023%28%E1%84%86%E1%85%B5%E1%86%AB%E1%84%8B%E1%85%AE%2C%E1%84%89%E1%85%A5%E1%86%AB%E1%84%92%E1%85%A9%E1%86%BC%2C%E1%84%92%E1%85%A2%E1%84%8B%E1%85%B5%E1%86%AB%29/Code/country_classification.ipynb#ch0000146?line=1'>2</a>\u001b[0m model \u001b[39m=\u001b[39m dmr\u001b[39m.\u001b[39mDMR()\n\u001b[0;32m----> <a href='vscode-notebook-cell:/Volumes/GoogleDrive/%E1%84%80%E1%85%A9%E1%86%BC%E1%84%8B%E1%85%B2%20%E1%84%83%E1%85%B3%E1%84%85%E1%85%A1%E1%84%8B%E1%85%B5%E1%84%87%E1%85%B3/BigComp2023%28%E1%84%86%E1%85%B5%E1%86%AB%E1%84%8B%E1%85%AE%2C%E1%84%89%E1%85%A5%E1%86%AB%E1%84%92%E1%85%A9%E1%86%BC%2C%E1%84%92%E1%85%A2%E1%84%8B%E1%85%B5%E1%86%AB%29/Code/country_classification.ipynb#ch0000146?line=2'>3</a>\u001b[0m dmr\u001b[39m.\u001b[39;49mtrain(model)\n\u001b[1;32m      <a href='vscode-notebook-cell:/Volumes/GoogleDrive/%E1%84%80%E1%85%A9%E1%86%BC%E1%84%8B%E1%85%B2%20%E1%84%83%E1%85%B3%E1%84%85%E1%85%A1%E1%84%8B%E1%85%B5%E1%84%87%E1%85%B3/BigComp2023%28%E1%84%86%E1%85%B5%E1%86%AB%E1%84%8B%E1%85%AE%2C%E1%84%89%E1%85%A5%E1%86%AB%E1%84%92%E1%85%A9%E1%86%BC%2C%E1%84%92%E1%85%A2%E1%84%8B%E1%85%B5%E1%86%AB%29/Code/country_classification.ipynb#ch0000146?line=3'>4</a>\u001b[0m dmr\u001b[39m.\u001b[39mget_coherence(model)\n\u001b[1;32m      <a href='vscode-notebook-cell:/Volumes/GoogleDrive/%E1%84%80%E1%85%A9%E1%86%BC%E1%84%8B%E1%85%B2%20%E1%84%83%E1%85%B3%E1%84%85%E1%85%A1%E1%84%8B%E1%85%B5%E1%84%87%E1%85%B3/BigComp2023%28%E1%84%86%E1%85%B5%E1%86%AB%E1%84%8B%E1%85%AE%2C%E1%84%89%E1%85%A5%E1%86%AB%E1%84%92%E1%85%A9%E1%86%BC%2C%E1%84%92%E1%85%A2%E1%84%8B%E1%85%B5%E1%86%AB%29/Code/country_classification.ipynb#ch0000146?line=4'>5</a>\u001b[0m \u001b[39mlen\u001b[39m(model\u001b[39m.\u001b[39mused_vocabs)\n",
      "\u001b[1;32m/Volumes/GoogleDrive/공유 드라이브/BigComp2023(민우,선홍,해인)/Code/country_classification.ipynb Cell 110'\u001b[0m in \u001b[0;36mTopicModeling.train\u001b[0;34m(self, LDA_model)\u001b[0m\n\u001b[1;32m     <a href='vscode-notebook-cell:/Volumes/GoogleDrive/%E1%84%80%E1%85%A9%E1%86%BC%E1%84%8B%E1%85%B2%20%E1%84%83%E1%85%B3%E1%84%85%E1%85%A1%E1%84%8B%E1%85%B5%E1%84%87%E1%85%B3/BigComp2023%28%E1%84%86%E1%85%B5%E1%86%AB%E1%84%8B%E1%85%AE%2C%E1%84%89%E1%85%A5%E1%86%AB%E1%84%92%E1%85%A9%E1%86%BC%2C%E1%84%92%E1%85%A2%E1%84%8B%E1%85%B5%E1%86%AB%29/Code/country_classification.ipynb#ch0000147?line=31'>32</a>\u001b[0m \u001b[39mprint\u001b[39m(\u001b[39m'\u001b[39m\u001b[39mTraining...\u001b[39m\u001b[39m'\u001b[39m, file\u001b[39m=\u001b[39msys\u001b[39m.\u001b[39mstderr, flush\u001b[39m=\u001b[39m\u001b[39mTrue\u001b[39;00m)\n\u001b[1;32m     <a href='vscode-notebook-cell:/Volumes/GoogleDrive/%E1%84%80%E1%85%A9%E1%86%BC%E1%84%8B%E1%85%B2%20%E1%84%83%E1%85%B3%E1%84%85%E1%85%A1%E1%84%8B%E1%85%B5%E1%84%87%E1%85%B3/BigComp2023%28%E1%84%86%E1%85%B5%E1%86%AB%E1%84%8B%E1%85%AE%2C%E1%84%89%E1%85%A5%E1%86%AB%E1%84%92%E1%85%A9%E1%86%BC%2C%E1%84%92%E1%85%A2%E1%84%8B%E1%85%B5%E1%86%AB%29/Code/country_classification.ipynb#ch0000147?line=32'>33</a>\u001b[0m \u001b[39mfor\u001b[39;00m i \u001b[39min\u001b[39;00m \u001b[39mrange\u001b[39m(\u001b[39m0\u001b[39m, \u001b[39m500\u001b[39m, \u001b[39m100\u001b[39m):\n\u001b[0;32m---> <a href='vscode-notebook-cell:/Volumes/GoogleDrive/%E1%84%80%E1%85%A9%E1%86%BC%E1%84%8B%E1%85%B2%20%E1%84%83%E1%85%B3%E1%84%85%E1%85%A1%E1%84%8B%E1%85%B5%E1%84%87%E1%85%B3/BigComp2023%28%E1%84%86%E1%85%B5%E1%86%AB%E1%84%8B%E1%85%AE%2C%E1%84%89%E1%85%A5%E1%86%AB%E1%84%92%E1%85%A9%E1%86%BC%2C%E1%84%92%E1%85%A2%E1%84%8B%E1%85%B5%E1%86%AB%29/Code/country_classification.ipynb#ch0000147?line=33'>34</a>\u001b[0m     LDA_model\u001b[39m.\u001b[39;49mtrain(\u001b[39m100\u001b[39;49m)\n\u001b[1;32m     <a href='vscode-notebook-cell:/Volumes/GoogleDrive/%E1%84%80%E1%85%A9%E1%86%BC%E1%84%8B%E1%85%B2%20%E1%84%83%E1%85%B3%E1%84%85%E1%85%A1%E1%84%8B%E1%85%B5%E1%84%87%E1%85%B3/BigComp2023%28%E1%84%86%E1%85%B5%E1%86%AB%E1%84%8B%E1%85%AE%2C%E1%84%89%E1%85%A5%E1%86%AB%E1%84%92%E1%85%A9%E1%86%BC%2C%E1%84%92%E1%85%A2%E1%84%8B%E1%85%B5%E1%86%AB%29/Code/country_classification.ipynb#ch0000147?line=34'>35</a>\u001b[0m     \u001b[39mprint\u001b[39m(\u001b[39m'\u001b[39m\u001b[39mIteration: \u001b[39m\u001b[39m{}\u001b[39;00m\u001b[39m\\t\u001b[39;00m\u001b[39mLog-likelihood: \u001b[39m\u001b[39m{}\u001b[39;00m\u001b[39m'\u001b[39m\u001b[39m.\u001b[39mformat(i, LDA_model\u001b[39m.\u001b[39mll_per_word))\n",
      "\u001b[0;31mKeyboardInterrupt\u001b[0m: "
     ]
    }
   ],
   "source": [
    "dmr = TopicModeling(df_lex, 54)\n",
    "model = dmr.DMR()\n",
    "dmr.train(model)\n",
    "dmr.get_coherence(model)\n",
    "len(model.used_vocabs)"
   ]
  },
  {
   "cell_type": "code",
   "execution_count": 16,
   "metadata": {},
   "outputs": [
    {
     "data": {
      "application/vnd.jupyter.widget-view+json": {
       "model_id": "df6307334e12474d956faadf10310913",
       "version_major": 2,
       "version_minor": 0
      },
      "text/plain": [
       "  0%|          | 0/24774 [00:00<?, ?it/s]"
      ]
     },
     "metadata": {},
     "output_type": "display_data"
    },
    {
     "name": "stdout",
     "output_type": "stream",
     "text": [
      "Number of unique tokens: 0\n",
      "Number of documents: 24774\n"
     ]
    },
    {
     "data": {
      "application/vnd.jupyter.widget-view+json": {
       "model_id": "3aabd120c6a04cc2b73ce40369f4cea7",
       "version_major": 2,
       "version_minor": 0
      },
      "text/plain": [
       "  0%|          | 0/24774 [00:00<?, ?it/s]"
      ]
     },
     "metadata": {},
     "output_type": "display_data"
    },
    {
     "name": "stderr",
     "output_type": "stream",
     "text": [
      "Training...\n"
     ]
    },
    {
     "name": "stdout",
     "output_type": "stream",
     "text": [
      "Num docs: 24774 , Vocab size: 10927 , Num words: 12726897\n",
      "Removed top words: ['museum', '90', 'year', '78', 'new', 'art', 'work', '89', 'time', 'like']\n",
      "Iteration: 0\tLog-likelihood: -9.11666468797557\n",
      "Iteration: 100\tLog-likelihood: -8.99821800669378\n",
      "Iteration: 200\tLog-likelihood: -8.955437986284867\n",
      "Iteration: 300\tLog-likelihood: -8.929201245222691\n",
      "Iteration: 400\tLog-likelihood: -8.908753008812303\n",
      "topic 개수 :  2 | 사용된 vocab 수 :  10927 | Coherence 점수 :  -1.5779686612819015 | Perplexity 점수 :  8.908753008812303\n"
     ]
    },
    {
     "data": {
      "application/vnd.jupyter.widget-view+json": {
       "model_id": "b40315b986a449dabe1fc4c9dc6e333b",
       "version_major": 2,
       "version_minor": 0
      },
      "text/plain": [
       "  0%|          | 0/24774 [00:00<?, ?it/s]"
      ]
     },
     "metadata": {},
     "output_type": "display_data"
    },
    {
     "name": "stderr",
     "output_type": "stream",
     "text": [
      "Training...\n"
     ]
    },
    {
     "name": "stdout",
     "output_type": "stream",
     "text": [
      "Num docs: 24774 , Vocab size: 10927 , Num words: 12726897\n",
      "Removed top words: ['museum', '90', 'year', '78', 'new', 'art', 'work', '89', 'time', 'like']\n",
      "Iteration: 0\tLog-likelihood: -9.129898674831933\n",
      "Iteration: 100\tLog-likelihood: -9.00434422211432\n",
      "Iteration: 200\tLog-likelihood: -8.961715152124173\n",
      "Iteration: 300\tLog-likelihood: -8.929756391446\n",
      "Iteration: 400\tLog-likelihood: -8.917548587345198\n",
      "topic 개수 :  6 | 사용된 vocab 수 :  10927 | Coherence 점수 :  -1.6213524730271824 | Perplexity 점수 :  8.917548587345198\n"
     ]
    },
    {
     "data": {
      "application/vnd.jupyter.widget-view+json": {
       "model_id": "6e6528db87bb4ca78d9cd4cd5cad11c3",
       "version_major": 2,
       "version_minor": 0
      },
      "text/plain": [
       "  0%|          | 0/24774 [00:00<?, ?it/s]"
      ]
     },
     "metadata": {},
     "output_type": "display_data"
    },
    {
     "name": "stderr",
     "output_type": "stream",
     "text": [
      "Training...\n"
     ]
    },
    {
     "name": "stdout",
     "output_type": "stream",
     "text": [
      "Num docs: 24774 , Vocab size: 10927 , Num words: 12726897\n",
      "Removed top words: ['museum', '90', 'year', '78', 'new', 'art', 'work', '89', 'time', 'like']\n",
      "Iteration: 0\tLog-likelihood: -9.112008156752982\n",
      "Iteration: 100\tLog-likelihood: -8.997109939821758\n",
      "Iteration: 200\tLog-likelihood: -8.95211371523779\n",
      "Iteration: 300\tLog-likelihood: -8.935926376441623\n",
      "Iteration: 400\tLog-likelihood: -8.912179783916237\n",
      "topic 개수 :  10 | 사용된 vocab 수 :  10927 | Coherence 점수 :  -1.5693966083557573 | Perplexity 점수 :  8.912179783916237\n"
     ]
    },
    {
     "data": {
      "application/vnd.jupyter.widget-view+json": {
       "model_id": "24ec99de7b0b4fc6adfb970b441c64df",
       "version_major": 2,
       "version_minor": 0
      },
      "text/plain": [
       "  0%|          | 0/24774 [00:00<?, ?it/s]"
      ]
     },
     "metadata": {},
     "output_type": "display_data"
    },
    {
     "name": "stderr",
     "output_type": "stream",
     "text": [
      "Training...\n"
     ]
    },
    {
     "name": "stdout",
     "output_type": "stream",
     "text": [
      "Num docs: 24774 , Vocab size: 10927 , Num words: 12726897\n",
      "Removed top words: ['museum', '90', 'year', '78', 'new', 'art', 'work', '89', 'time', 'like']\n",
      "Iteration: 0\tLog-likelihood: -9.118910813667371\n",
      "Iteration: 100\tLog-likelihood: -8.998486364691127\n",
      "Iteration: 200\tLog-likelihood: -8.953652358943065\n",
      "Iteration: 300\tLog-likelihood: -8.931170810756642\n",
      "Iteration: 400\tLog-likelihood: -8.91147689200945\n",
      "topic 개수 :  14 | 사용된 vocab 수 :  10927 | Coherence 점수 :  -1.592318413685254 | Perplexity 점수 :  8.91147689200945\n"
     ]
    },
    {
     "data": {
      "application/vnd.jupyter.widget-view+json": {
       "model_id": "897a7bba2a014c09981981d6466ed1ee",
       "version_major": 2,
       "version_minor": 0
      },
      "text/plain": [
       "  0%|          | 0/24774 [00:00<?, ?it/s]"
      ]
     },
     "metadata": {},
     "output_type": "display_data"
    },
    {
     "name": "stderr",
     "output_type": "stream",
     "text": [
      "Training...\n"
     ]
    },
    {
     "name": "stdout",
     "output_type": "stream",
     "text": [
      "Num docs: 24774 , Vocab size: 10927 , Num words: 12726897\n",
      "Removed top words: ['museum', '90', 'year', '78', 'new', 'art', 'work', '89', 'time', 'like']\n",
      "Iteration: 0\tLog-likelihood: -9.110660512092968\n",
      "Iteration: 100\tLog-likelihood: -8.997755245846413\n",
      "Iteration: 200\tLog-likelihood: -8.947364603566482\n",
      "Iteration: 300\tLog-likelihood: -8.934942184561786\n",
      "Iteration: 400\tLog-likelihood: -8.911129937155659\n",
      "topic 개수 :  18 | 사용된 vocab 수 :  10927 | Coherence 점수 :  -1.6346084136209518 | Perplexity 점수 :  8.911129937155659\n"
     ]
    },
    {
     "data": {
      "application/vnd.jupyter.widget-view+json": {
       "model_id": "7d4f740d17644087b9d239c1ca62eb74",
       "version_major": 2,
       "version_minor": 0
      },
      "text/plain": [
       "  0%|          | 0/24774 [00:00<?, ?it/s]"
      ]
     },
     "metadata": {},
     "output_type": "display_data"
    },
    {
     "name": "stderr",
     "output_type": "stream",
     "text": [
      "Training...\n"
     ]
    },
    {
     "name": "stdout",
     "output_type": "stream",
     "text": [
      "Num docs: 24774 , Vocab size: 10927 , Num words: 12726897\n",
      "Removed top words: ['museum', '90', 'year', '78', 'new', 'art', 'work', '89', 'time', 'like']\n",
      "Iteration: 0\tLog-likelihood: -9.10393156928771\n",
      "Iteration: 100\tLog-likelihood: -8.998239313625962\n",
      "Iteration: 200\tLog-likelihood: -8.95204090929563\n",
      "Iteration: 300\tLog-likelihood: -8.92492064132601\n",
      "Iteration: 400\tLog-likelihood: -8.909793369741177\n",
      "topic 개수 :  22 | 사용된 vocab 수 :  10927 | Coherence 점수 :  -1.5915138497346983 | Perplexity 점수 :  8.909793369741177\n"
     ]
    },
    {
     "data": {
      "application/vnd.jupyter.widget-view+json": {
       "model_id": "c3d740a1ef894e67a2ea811570d2e406",
       "version_major": 2,
       "version_minor": 0
      },
      "text/plain": [
       "  0%|          | 0/24774 [00:00<?, ?it/s]"
      ]
     },
     "metadata": {},
     "output_type": "display_data"
    },
    {
     "name": "stderr",
     "output_type": "stream",
     "text": [
      "Training...\n"
     ]
    },
    {
     "name": "stdout",
     "output_type": "stream",
     "text": [
      "Num docs: 24774 , Vocab size: 10927 , Num words: 12726897\n",
      "Removed top words: ['museum', '90', 'year', '78', 'new', 'art', 'work', '89', 'time', 'like']\n",
      "Iteration: 0\tLog-likelihood: -9.121933975910329\n",
      "Iteration: 100\tLog-likelihood: -9.003939021072222\n",
      "Iteration: 200\tLog-likelihood: -8.954584182574514\n",
      "Iteration: 300\tLog-likelihood: -8.929729406961028\n",
      "Iteration: 400\tLog-likelihood: -8.913108307038659\n",
      "topic 개수 :  26 | 사용된 vocab 수 :  10927 | Coherence 점수 :  -1.5627592980819838 | Perplexity 점수 :  8.913108307038659\n"
     ]
    },
    {
     "data": {
      "application/vnd.jupyter.widget-view+json": {
       "model_id": "4604d13b0d944c5eb570168082c133dd",
       "version_major": 2,
       "version_minor": 0
      },
      "text/plain": [
       "  0%|          | 0/24774 [00:00<?, ?it/s]"
      ]
     },
     "metadata": {},
     "output_type": "display_data"
    },
    {
     "name": "stderr",
     "output_type": "stream",
     "text": [
      "Training...\n"
     ]
    },
    {
     "name": "stdout",
     "output_type": "stream",
     "text": [
      "Num docs: 24774 , Vocab size: 10927 , Num words: 12726897\n",
      "Removed top words: ['museum', '90', 'year', '78', 'new', 'art', 'work', '89', 'time', 'like']\n",
      "Iteration: 0\tLog-likelihood: -9.10808879238827\n",
      "Iteration: 100\tLog-likelihood: -8.995795072009228\n",
      "Iteration: 200\tLog-likelihood: -8.95377863038786\n",
      "Iteration: 300\tLog-likelihood: -8.929428633225555\n",
      "Iteration: 400\tLog-likelihood: -8.91457680833876\n",
      "topic 개수 :  30 | 사용된 vocab 수 :  10927 | Coherence 점수 :  -1.5963080906640104 | Perplexity 점수 :  8.91457680833876\n"
     ]
    },
    {
     "data": {
      "application/vnd.jupyter.widget-view+json": {
       "model_id": "a961e145dc854979a65986cf9b7f7fd6",
       "version_major": 2,
       "version_minor": 0
      },
      "text/plain": [
       "  0%|          | 0/24774 [00:00<?, ?it/s]"
      ]
     },
     "metadata": {},
     "output_type": "display_data"
    },
    {
     "name": "stderr",
     "output_type": "stream",
     "text": [
      "Training...\n"
     ]
    },
    {
     "name": "stdout",
     "output_type": "stream",
     "text": [
      "Num docs: 24774 , Vocab size: 10927 , Num words: 12726897\n",
      "Removed top words: ['museum', '90', 'year', '78', 'new', 'art', 'work', '89', 'time', 'like']\n",
      "Iteration: 0\tLog-likelihood: -9.115876698119134\n",
      "Iteration: 100\tLog-likelihood: -9.004199959567803\n",
      "Iteration: 200\tLog-likelihood: -8.955115940662878\n",
      "Iteration: 300\tLog-likelihood: -8.932680724019917\n",
      "Iteration: 400\tLog-likelihood: -8.914594541079408\n",
      "topic 개수 :  34 | 사용된 vocab 수 :  10927 | Coherence 점수 :  -1.5985856035269377 | Perplexity 점수 :  8.914594541079408\n"
     ]
    },
    {
     "data": {
      "application/vnd.jupyter.widget-view+json": {
       "model_id": "b915284432f8429795eb64dbe4e9da10",
       "version_major": 2,
       "version_minor": 0
      },
      "text/plain": [
       "  0%|          | 0/24774 [00:00<?, ?it/s]"
      ]
     },
     "metadata": {},
     "output_type": "display_data"
    },
    {
     "name": "stderr",
     "output_type": "stream",
     "text": [
      "Training...\n"
     ]
    },
    {
     "name": "stdout",
     "output_type": "stream",
     "text": [
      "Num docs: 24774 , Vocab size: 10927 , Num words: 12726897\n",
      "Removed top words: ['museum', '90', 'year', '78', 'new', 'art', 'work', '89', 'time', 'like']\n",
      "Iteration: 0\tLog-likelihood: -9.116545426831811\n",
      "Iteration: 100\tLog-likelihood: -9.002198853321945\n",
      "Iteration: 200\tLog-likelihood: -8.956308483848794\n",
      "Iteration: 300\tLog-likelihood: -8.923944084635089\n",
      "Iteration: 400\tLog-likelihood: -8.91222199473356\n",
      "topic 개수 :  38 | 사용된 vocab 수 :  10927 | Coherence 점수 :  -1.5955227689915166 | Perplexity 점수 :  8.91222199473356\n"
     ]
    },
    {
     "data": {
      "application/vnd.jupyter.widget-view+json": {
       "model_id": "6304fc0ef87b4a528c0c6528d90184a7",
       "version_major": 2,
       "version_minor": 0
      },
      "text/plain": [
       "  0%|          | 0/24774 [00:00<?, ?it/s]"
      ]
     },
     "metadata": {},
     "output_type": "display_data"
    },
    {
     "name": "stderr",
     "output_type": "stream",
     "text": [
      "Training...\n"
     ]
    },
    {
     "name": "stdout",
     "output_type": "stream",
     "text": [
      "Num docs: 24774 , Vocab size: 10927 , Num words: 12726897\n",
      "Removed top words: ['museum', '90', 'year', '78', 'new', 'art', 'work', '89', 'time', 'like']\n",
      "Iteration: 0\tLog-likelihood: -9.117846923743118\n",
      "Iteration: 100\tLog-likelihood: -9.000766169913831\n",
      "Iteration: 200\tLog-likelihood: -8.950818713776187\n",
      "Iteration: 300\tLog-likelihood: -8.92373109221175\n",
      "Iteration: 400\tLog-likelihood: -8.909092279040044\n",
      "topic 개수 :  42 | 사용된 vocab 수 :  10927 | Coherence 점수 :  -1.6108271539906232 | Perplexity 점수 :  8.909092279040044\n"
     ]
    },
    {
     "data": {
      "application/vnd.jupyter.widget-view+json": {
       "model_id": "3f61e359593c45ac99454eb5e7842528",
       "version_major": 2,
       "version_minor": 0
      },
      "text/plain": [
       "  0%|          | 0/24774 [00:00<?, ?it/s]"
      ]
     },
     "metadata": {},
     "output_type": "display_data"
    },
    {
     "name": "stderr",
     "output_type": "stream",
     "text": [
      "Training...\n"
     ]
    },
    {
     "name": "stdout",
     "output_type": "stream",
     "text": [
      "Num docs: 24774 , Vocab size: 10927 , Num words: 12726897\n",
      "Removed top words: ['museum', '90', 'year', '78', 'new', 'art', 'work', '89', 'time', 'like']\n",
      "Iteration: 0\tLog-likelihood: -9.119802686306237\n",
      "Iteration: 100\tLog-likelihood: -9.003719665058581\n",
      "Iteration: 200\tLog-likelihood: -8.95235410895079\n",
      "Iteration: 300\tLog-likelihood: -8.927632655235897\n",
      "Iteration: 400\tLog-likelihood: -8.90787368246774\n",
      "topic 개수 :  46 | 사용된 vocab 수 :  10927 | Coherence 점수 :  -1.5890245039700914 | Perplexity 점수 :  8.90787368246774\n"
     ]
    },
    {
     "data": {
      "application/vnd.jupyter.widget-view+json": {
       "model_id": "85b6ac9c281d47cab44037834be7eb38",
       "version_major": 2,
       "version_minor": 0
      },
      "text/plain": [
       "  0%|          | 0/24774 [00:00<?, ?it/s]"
      ]
     },
     "metadata": {},
     "output_type": "display_data"
    },
    {
     "name": "stderr",
     "output_type": "stream",
     "text": [
      "Training...\n"
     ]
    },
    {
     "name": "stdout",
     "output_type": "stream",
     "text": [
      "Num docs: 24774 , Vocab size: 10927 , Num words: 12726897\n",
      "Removed top words: ['museum', '90', 'year', '78', 'new', 'art', 'work', '89', 'time', 'like']\n",
      "Iteration: 0\tLog-likelihood: -9.119319485375193\n",
      "Iteration: 100\tLog-likelihood: -8.99546263302519\n",
      "Iteration: 200\tLog-likelihood: -8.950537518722166\n",
      "Iteration: 300\tLog-likelihood: -8.923361566750605\n",
      "Iteration: 400\tLog-likelihood: -8.901546769869084\n",
      "topic 개수 :  50 | 사용된 vocab 수 :  10927 | Coherence 점수 :  -1.590630383663324 | Perplexity 점수 :  8.901546769869084\n"
     ]
    },
    {
     "data": {
      "application/vnd.jupyter.widget-view+json": {
       "model_id": "3c75c26c67ce495b9e6fd326802a70a1",
       "version_major": 2,
       "version_minor": 0
      },
      "text/plain": [
       "  0%|          | 0/24774 [00:00<?, ?it/s]"
      ]
     },
     "metadata": {},
     "output_type": "display_data"
    },
    {
     "name": "stderr",
     "output_type": "stream",
     "text": [
      "Training...\n"
     ]
    },
    {
     "name": "stdout",
     "output_type": "stream",
     "text": [
      "Num docs: 24774 , Vocab size: 10927 , Num words: 12726897\n",
      "Removed top words: ['museum', '90', 'year', '78', 'new', 'art', 'work', '89', 'time', 'like']\n",
      "Iteration: 0\tLog-likelihood: -9.108617667384884\n",
      "Iteration: 100\tLog-likelihood: -8.999514384602387\n",
      "Iteration: 200\tLog-likelihood: -8.961607912191646\n",
      "Iteration: 300\tLog-likelihood: -8.925237484158082\n",
      "Iteration: 400\tLog-likelihood: -8.909892677590289\n",
      "topic 개수 :  54 | 사용된 vocab 수 :  10927 | Coherence 점수 :  -1.6082319583782845 | Perplexity 점수 :  8.909892677590289\n"
     ]
    },
    {
     "data": {
      "application/vnd.jupyter.widget-view+json": {
       "model_id": "c6355f06eb394693ba2fa74bcc37e5b8",
       "version_major": 2,
       "version_minor": 0
      },
      "text/plain": [
       "  0%|          | 0/24774 [00:00<?, ?it/s]"
      ]
     },
     "metadata": {},
     "output_type": "display_data"
    },
    {
     "name": "stderr",
     "output_type": "stream",
     "text": [
      "Training...\n"
     ]
    },
    {
     "name": "stdout",
     "output_type": "stream",
     "text": [
      "Num docs: 24774 , Vocab size: 10927 , Num words: 12726897\n",
      "Removed top words: ['museum', '90', 'year', '78', 'new', 'art', 'work', '89', 'time', 'like']\n",
      "Iteration: 0\tLog-likelihood: -9.11286428278741\n",
      "Iteration: 100\tLog-likelihood: -8.995348959187522\n",
      "Iteration: 200\tLog-likelihood: -8.946250706812286\n",
      "Iteration: 300\tLog-likelihood: -8.926044204498957\n",
      "Iteration: 400\tLog-likelihood: -8.908343032651965\n",
      "topic 개수 :  58 | 사용된 vocab 수 :  10927 | Coherence 점수 :  -1.5756769356299234 | Perplexity 점수 :  8.908343032651965\n"
     ]
    },
    {
     "data": {
      "application/vnd.jupyter.widget-view+json": {
       "model_id": "ac59edfa1f3b4b03b4c82da78e5bc72e",
       "version_major": 2,
       "version_minor": 0
      },
      "text/plain": [
       "  0%|          | 0/24774 [00:00<?, ?it/s]"
      ]
     },
     "metadata": {},
     "output_type": "display_data"
    },
    {
     "name": "stderr",
     "output_type": "stream",
     "text": [
      "Training...\n"
     ]
    },
    {
     "name": "stdout",
     "output_type": "stream",
     "text": [
      "Num docs: 24774 , Vocab size: 10927 , Num words: 12726897\n",
      "Removed top words: ['museum', '90', 'year', '78', 'new', 'art', 'work', '89', 'time', 'like']\n",
      "Iteration: 0\tLog-likelihood: -9.119542531942697\n",
      "Iteration: 100\tLog-likelihood: -9.003679558927473\n",
      "Iteration: 200\tLog-likelihood: -8.954050828107006\n",
      "Iteration: 300\tLog-likelihood: -8.928689657124279\n",
      "Iteration: 400\tLog-likelihood: -8.911582034411037\n",
      "topic 개수 :  62 | 사용된 vocab 수 :  10927 | Coherence 점수 :  -1.5290467217204915 | Perplexity 점수 :  8.911582034411037\n"
     ]
    },
    {
     "data": {
      "application/vnd.jupyter.widget-view+json": {
       "model_id": "4b13fab42f394ad6afe94eab44663ecb",
       "version_major": 2,
       "version_minor": 0
      },
      "text/plain": [
       "  0%|          | 0/24774 [00:00<?, ?it/s]"
      ]
     },
     "metadata": {},
     "output_type": "display_data"
    },
    {
     "name": "stderr",
     "output_type": "stream",
     "text": [
      "Training...\n"
     ]
    },
    {
     "name": "stdout",
     "output_type": "stream",
     "text": [
      "Num docs: 24774 , Vocab size: 10927 , Num words: 12726897\n",
      "Removed top words: ['museum', '90', 'year', '78', 'new', 'art', 'work', '89', 'time', 'like']\n",
      "Iteration: 0\tLog-likelihood: -9.104991057980087\n",
      "Iteration: 100\tLog-likelihood: -9.000391318315687\n",
      "Iteration: 200\tLog-likelihood: -8.955399376918496\n",
      "Iteration: 300\tLog-likelihood: -8.922103428348379\n",
      "Iteration: 400\tLog-likelihood: -8.903648240970497\n",
      "topic 개수 :  66 | 사용된 vocab 수 :  10927 | Coherence 점수 :  -1.5676065589834125 | Perplexity 점수 :  8.903648240970497\n"
     ]
    },
    {
     "data": {
      "application/vnd.jupyter.widget-view+json": {
       "model_id": "f2ed037111f64332b8f22d5db8942cfd",
       "version_major": 2,
       "version_minor": 0
      },
      "text/plain": [
       "  0%|          | 0/24774 [00:00<?, ?it/s]"
      ]
     },
     "metadata": {},
     "output_type": "display_data"
    },
    {
     "name": "stderr",
     "output_type": "stream",
     "text": [
      "Training...\n"
     ]
    },
    {
     "name": "stdout",
     "output_type": "stream",
     "text": [
      "Num docs: 24774 , Vocab size: 10927 , Num words: 12726897\n",
      "Removed top words: ['museum', '90', 'year', '78', 'new', 'art', 'work', '89', 'time', 'like']\n",
      "Iteration: 0\tLog-likelihood: -9.11280160314972\n",
      "Iteration: 100\tLog-likelihood: -8.999415263822002\n",
      "Iteration: 200\tLog-likelihood: -8.955975313857573\n",
      "Iteration: 300\tLog-likelihood: -8.92820375462843\n",
      "Iteration: 400\tLog-likelihood: -8.91778875342862\n",
      "topic 개수 :  70 | 사용된 vocab 수 :  10927 | Coherence 점수 :  -1.5742424192434101 | Perplexity 점수 :  8.91778875342862\n"
     ]
    },
    {
     "data": {
      "application/vnd.jupyter.widget-view+json": {
       "model_id": "773d588b3621476f8de2de0b5ecd24d5",
       "version_major": 2,
       "version_minor": 0
      },
      "text/plain": [
       "  0%|          | 0/24774 [00:00<?, ?it/s]"
      ]
     },
     "metadata": {},
     "output_type": "display_data"
    },
    {
     "name": "stderr",
     "output_type": "stream",
     "text": [
      "Training...\n"
     ]
    },
    {
     "name": "stdout",
     "output_type": "stream",
     "text": [
      "Num docs: 24774 , Vocab size: 10927 , Num words: 12726897\n",
      "Removed top words: ['museum', '90', 'year', '78', 'new', 'art', 'work', '89', 'time', 'like']\n",
      "Iteration: 0\tLog-likelihood: -9.126096149955735\n",
      "Iteration: 100\tLog-likelihood: -8.996893206947723\n",
      "Iteration: 200\tLog-likelihood: -8.947325404509611\n",
      "Iteration: 300\tLog-likelihood: -8.920997735078917\n",
      "Iteration: 400\tLog-likelihood: -8.899133399199227\n",
      "topic 개수 :  74 | 사용된 vocab 수 :  10927 | Coherence 점수 :  -1.606238632414936 | Perplexity 점수 :  8.899133399199227\n"
     ]
    },
    {
     "data": {
      "application/vnd.jupyter.widget-view+json": {
       "model_id": "bd3d207e472f4e63af4b70e7bdb65e9f",
       "version_major": 2,
       "version_minor": 0
      },
      "text/plain": [
       "  0%|          | 0/24774 [00:00<?, ?it/s]"
      ]
     },
     "metadata": {},
     "output_type": "display_data"
    },
    {
     "name": "stderr",
     "output_type": "stream",
     "text": [
      "Training...\n"
     ]
    },
    {
     "name": "stdout",
     "output_type": "stream",
     "text": [
      "Num docs: 24774 , Vocab size: 10927 , Num words: 12726897\n",
      "Removed top words: ['museum', '90', 'year', '78', 'new', 'art', 'work', '89', 'time', 'like']\n",
      "Iteration: 0\tLog-likelihood: -9.112190001356163\n",
      "Iteration: 100\tLog-likelihood: -9.001332877500063\n",
      "Iteration: 200\tLog-likelihood: -8.950844560745143\n",
      "Iteration: 300\tLog-likelihood: -8.927694086604843\n",
      "Iteration: 400\tLog-likelihood: -8.91136281123678\n",
      "topic 개수 :  78 | 사용된 vocab 수 :  10927 | Coherence 점수 :  -1.6531559321476634 | Perplexity 점수 :  8.91136281123678\n"
     ]
    },
    {
     "data": {
      "application/vnd.jupyter.widget-view+json": {
       "model_id": "230199edbcd64465b1bda9a5767b6892",
       "version_major": 2,
       "version_minor": 0
      },
      "text/plain": [
       "  0%|          | 0/24774 [00:00<?, ?it/s]"
      ]
     },
     "metadata": {},
     "output_type": "display_data"
    },
    {
     "name": "stderr",
     "output_type": "stream",
     "text": [
      "Training...\n"
     ]
    },
    {
     "name": "stdout",
     "output_type": "stream",
     "text": [
      "Num docs: 24774 , Vocab size: 10927 , Num words: 12726897\n",
      "Removed top words: ['museum', '90', 'year', '78', 'new', 'art', 'work', '89', 'time', 'like']\n",
      "Iteration: 0\tLog-likelihood: -9.106143685700776\n",
      "Iteration: 100\tLog-likelihood: -8.994876958670575\n",
      "Iteration: 200\tLog-likelihood: -8.956884960919592\n",
      "Iteration: 300\tLog-likelihood: -8.935308571321404\n",
      "Iteration: 400\tLog-likelihood: -8.910310243614243\n",
      "topic 개수 :  82 | 사용된 vocab 수 :  10927 | Coherence 점수 :  -1.6006655822194562 | Perplexity 점수 :  8.910310243614243\n"
     ]
    },
    {
     "data": {
      "application/vnd.jupyter.widget-view+json": {
       "model_id": "b425ca002f924442bdd2fb9f9c50a60b",
       "version_major": 2,
       "version_minor": 0
      },
      "text/plain": [
       "  0%|          | 0/24774 [00:00<?, ?it/s]"
      ]
     },
     "metadata": {},
     "output_type": "display_data"
    },
    {
     "name": "stderr",
     "output_type": "stream",
     "text": [
      "Training...\n"
     ]
    },
    {
     "name": "stdout",
     "output_type": "stream",
     "text": [
      "Num docs: 24774 , Vocab size: 10927 , Num words: 12726897\n",
      "Removed top words: ['museum', '90', 'year', '78', 'new', 'art', 'work', '89', 'time', 'like']\n",
      "Iteration: 0\tLog-likelihood: -9.124359885967179\n",
      "Iteration: 100\tLog-likelihood: -9.006477778559791\n",
      "Iteration: 200\tLog-likelihood: -8.954371521956958\n",
      "Iteration: 300\tLog-likelihood: -8.929641312376946\n",
      "Iteration: 400\tLog-likelihood: -8.913591853181316\n",
      "topic 개수 :  86 | 사용된 vocab 수 :  10927 | Coherence 점수 :  -1.5853431782291552 | Perplexity 점수 :  8.913591853181316\n"
     ]
    },
    {
     "data": {
      "application/vnd.jupyter.widget-view+json": {
       "model_id": "73c66a29b748419fb5535fe4d59cf308",
       "version_major": 2,
       "version_minor": 0
      },
      "text/plain": [
       "  0%|          | 0/24774 [00:00<?, ?it/s]"
      ]
     },
     "metadata": {},
     "output_type": "display_data"
    },
    {
     "name": "stderr",
     "output_type": "stream",
     "text": [
      "Training...\n"
     ]
    },
    {
     "name": "stdout",
     "output_type": "stream",
     "text": [
      "Num docs: 24774 , Vocab size: 10927 , Num words: 12726897\n",
      "Removed top words: ['museum', '90', 'year', '78', 'new', 'art', 'work', '89', 'time', 'like']\n",
      "Iteration: 0\tLog-likelihood: -9.120406046745565\n",
      "Iteration: 100\tLog-likelihood: -9.005322529338345\n",
      "Iteration: 200\tLog-likelihood: -8.960992462017623\n",
      "Iteration: 300\tLog-likelihood: -8.936244855372665\n",
      "Iteration: 400\tLog-likelihood: -8.90815401267573\n",
      "topic 개수 :  90 | 사용된 vocab 수 :  10927 | Coherence 점수 :  -1.6511327591236733 | Perplexity 점수 :  8.90815401267573\n"
     ]
    },
    {
     "data": {
      "application/vnd.jupyter.widget-view+json": {
       "model_id": "a559706d79e04228aad1e4f48bef60ee",
       "version_major": 2,
       "version_minor": 0
      },
      "text/plain": [
       "  0%|          | 0/24774 [00:00<?, ?it/s]"
      ]
     },
     "metadata": {},
     "output_type": "display_data"
    },
    {
     "name": "stderr",
     "output_type": "stream",
     "text": [
      "Training...\n"
     ]
    },
    {
     "name": "stdout",
     "output_type": "stream",
     "text": [
      "Num docs: 24774 , Vocab size: 10927 , Num words: 12726897\n",
      "Removed top words: ['museum', '90', 'year', '78', 'new', 'art', 'work', '89', 'time', 'like']\n",
      "Iteration: 0\tLog-likelihood: -9.124507613184036\n",
      "Iteration: 100\tLog-likelihood: -9.009445776969518\n",
      "Iteration: 200\tLog-likelihood: -8.94720387322568\n",
      "Iteration: 300\tLog-likelihood: -8.920152238278408\n",
      "Iteration: 400\tLog-likelihood: -8.900137472688664\n",
      "topic 개수 :  94 | 사용된 vocab 수 :  10927 | Coherence 점수 :  -1.6132736444344142 | Perplexity 점수 :  8.900137472688664\n"
     ]
    },
    {
     "data": {
      "application/vnd.jupyter.widget-view+json": {
       "model_id": "83ec016c36394e2d88ca30089f31e4ee",
       "version_major": 2,
       "version_minor": 0
      },
      "text/plain": [
       "  0%|          | 0/24774 [00:00<?, ?it/s]"
      ]
     },
     "metadata": {},
     "output_type": "display_data"
    },
    {
     "name": "stderr",
     "output_type": "stream",
     "text": [
      "Training...\n"
     ]
    },
    {
     "name": "stdout",
     "output_type": "stream",
     "text": [
      "Num docs: 24774 , Vocab size: 10927 , Num words: 12726897\n",
      "Removed top words: ['museum', '90', 'year', '78', 'new', 'art', 'work', '89', 'time', 'like']\n",
      "Iteration: 0\tLog-likelihood: -9.12007977219232\n",
      "Iteration: 100\tLog-likelihood: -9.003165452196786\n",
      "Iteration: 200\tLog-likelihood: -8.956752123819145\n",
      "Iteration: 300\tLog-likelihood: -8.928881614934589\n",
      "Iteration: 400\tLog-likelihood: -8.91292015247781\n",
      "topic 개수 :  98 | 사용된 vocab 수 :  10927 | Coherence 점수 :  -1.5629259090424799 | Perplexity 점수 :  8.91292015247781\n"
     ]
    },
    {
     "name": "stderr",
     "output_type": "stream",
     "text": [
      "WARNING:matplotlib.font_manager:findfont: Font family ['NanumBarunGothic'] not found. Falling back to DejaVu Sans.\n"
     ]
    },
    {
     "data": {
      "image/png": "[encoded data removed]",
      "text/plain": [
       "<Figure size 432x288 with 2 Axes>"
      ]
     },
     "metadata": {
      "needs_background": "light"
     },
     "output_type": "display_data"
    }
   ],
   "source": [
    "def compute_coherence_values(df, limit, start=2, step=3): # step : 토픽 몇 개씩 증가하면서 확인할 건지 \n",
    "    \"\"\" Compute c_v coherence for various number of topics Parameters: ---------- dictionary : Gensim dictionary corpus : Gensim corpus texts : List of input texts limit : Max num of topics Returns: ------- model_list : List of LDA topic models coherence_values : Coherence values corresponding to the LDA model with respective number of topics \"\"\" \n",
    "    coherence_values = [] \n",
    "    model_list = [] \n",
    "    perplexity_values =[]\n",
    "    for num_topics in range(start, limit, step): \n",
    "        lda = TopicModeling(df, num_topics)\n",
    "        model = lda.DMR()\n",
    "        lda.train(model)\n",
    "        model_list.append(model) \n",
    "        coherencemodel = lda.get_coherence(model)[0]\n",
    "        perplexitymodel = np.log(model.perplexity)\n",
    "        \n",
    "        coherence_values.append(coherencemodel)\n",
    "        perplexity_values.append(perplexitymodel)\n",
    "        \n",
    "    return model_list, coherence_values, perplexity_values\n",
    "        \n",
    "def find_optimal_number_of_topics(df): \n",
    "    limit = 100; \n",
    "    start = 2; \n",
    "    step = 4; \n",
    "    model_list, coherence_values, perplexity_values = compute_coherence_values(df= df, start=start, limit=limit, step=step)\n",
    "    x = range(start, limit, step) \n",
    "    plt.subplot(1, 2, 1)\n",
    "    plt.plot(x, coherence_values) \n",
    "    plt.xlabel(\"Num Topics\") \n",
    "    plt.ylabel(\"Coherence score\") \n",
    "    plt.legend((\"coherence\"), loc='best') \n",
    "    \n",
    "    plt.subplot(1, 2, 2)\n",
    "    plt.plot(x, perplexity_values) \n",
    "    plt.xlabel(\"Num Topics\") \n",
    "    plt.ylabel(\"Perplexity\") \n",
    "    plt.legend((\"perplexity\"), loc='best') \n",
    "    \n",
    "    plt.tight_layout()\n",
    "    plt.show() \n",
    "    \n",
    "    \n",
    "if __name__ == '__main__': \n",
    "    \n",
    "    dmr = TopicModeling(df_lex, 54)\n",
    "    model = dmr.DMR()\n",
    "    print('Number of unique tokens: %d' % len(model.used_vocabs)) \n",
    "    print('Number of documents: %d' % len(df_lex.index))\n",
    "\n",
    "    logging.basicConfig(format='%(asctime)s : %(levelname)s : %(message)s', level=logging.INFO) # 최적의 토픽 수 찾기 \n",
    "    \n",
    "    find_optimal_number_of_topics(df_lex)"
   ]
  },
  {
   "cell_type": "code",
   "execution_count": null,
   "metadata": {},
   "outputs": [],
   "source": []
  }
 ],
 "metadata": {
  "interpreter": {
   "hash": "e815ec34c9d7ca6d5f6dd6120341f05865440853c6373931621ba05a6d8d6b08"
  },
  "kernelspec": {
   "display_name": "Python 3.9.7 ('base')",
   "language": "python",
   "name": "python3"
  },
  "language_info": {
   "codemirror_mode": {
    "name": "ipython",
    "version": 3
   },
   "file_extension": ".py",
   "mimetype": "text/x-python",
   "name": "python",
   "nbconvert_exporter": "python",
   "pygments_lexer": "ipython3",
   "version": "3.9.7"
  },
  "orig_nbformat": 4
 },
 "nbformat": 4,
 "nbformat_minor": 2
}
